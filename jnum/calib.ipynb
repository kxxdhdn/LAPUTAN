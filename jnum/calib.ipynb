{
 "cells": [
  {
   "cell_type": "code",
   "execution_count": 1,
   "id": "f5e32ecf",
   "metadata": {},
   "outputs": [
    {
     "name": "stdout",
     "output_type": "stream",
     "text": [
      "\n",
      "               \\  \\|/  /\n",
      "            \\ _\\_ ||| _/_ /\n",
      "                  |||\n",
      "              /\\/-/|\\-\\/\\\n",
      "          _ | _M_ _|_ _M_ | _\n",
      "        / .~.    _ ^ _    .~. \\\n",
      "       |_|_0_|  |_&_&_|  |_0_|_|\n",
      "      //    .~.    o    .~.    \\\\\n",
      "     |_M_ _|_?_|__[_]__|_?_|_ _M_|\n",
      "            |             |\n",
      "             \\  rapyuta  /\n",
      "               \\       /         _\n",
      "    * ¨^  .~       =           ~^' _-\n",
      "      ~ °\n",
      "\n",
      "        Version 2.2.1 (20220616)\n",
      "\n",
      "\n"
     ]
    }
   ],
   "source": [
    "from rapyuta.calib import (intercalib, photometry_profile,)"
   ]
  },
  {
   "cell_type": "code",
   "execution_count": null,
   "id": "573a926a",
   "metadata": {},
   "outputs": [],
   "source": []
  }
 ],
 "metadata": {
  "kernelspec": {
   "display_name": "Python 3",
   "language": "python",
   "name": "python3"
  },
  "language_info": {
   "codemirror_mode": {
    "name": "ipython",
    "version": 3
   },
   "file_extension": ".py",
   "mimetype": "text/x-python",
   "name": "python",
   "nbconvert_exporter": "python",
   "pygments_lexer": "ipython3",
   "version": "3.6.13"
  }
 },
 "nbformat": 4,
 "nbformat_minor": 5
}

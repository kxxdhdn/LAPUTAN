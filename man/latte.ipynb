{
 "cells": [
  {
   "cell_type": "markdown",
   "id": "bc58f030",
   "metadata": {},
   "source": [
    "# rapyuta.latte\n",
    "- [arrayize](#arrayize), [listize](#listize)\n",
    "- [closest](#closest), [ramp](#ramp)\n",
    "- [zoom](#zoom)"
   ]
  },
  {
   "cell_type": "code",
   "execution_count": 1,
   "id": "f5e32ecf",
   "metadata": {},
   "outputs": [
    {
     "name": "stdout",
     "output_type": "stream",
     "text": [
      "\u001b[1m\u001b[37m \u001b[0m\u001b[1m\u001b[45m\u001b[37m \u001b[5m                                                                             \u001b[0m\u001b[1m\u001b[37m \u001b[0m\n",
      "\u001b[1m\u001b[37m \u001b[0m\u001b[1m\u001b[45m\u001b[37m \u001b[5m                                 \\  \\|/  /                                   \u001b[0m\u001b[1m\u001b[37m \u001b[0m\n",
      "\u001b[1m\u001b[37m \u001b[0m\u001b[1m\u001b[45m\u001b[37m \u001b[5m                              \\ _\\_ ||| _/_ /                                \u001b[0m\u001b[1m\u001b[37m \u001b[0m\n",
      "\u001b[1m\u001b[37m \u001b[0m\u001b[1m\u001b[45m\u001b[37m \u001b[5m                                    |||                                      \u001b[0m\u001b[1m\u001b[37m \u001b[0m\n",
      "\u001b[1m\u001b[37m \u001b[0m\u001b[1m\u001b[45m\u001b[37m \u001b[5m                                /\\/-/|\\-\\/\\                                  \u001b[0m\u001b[1m\u001b[37m \u001b[0m\n",
      "\u001b[1m\u001b[37m \u001b[0m\u001b[1m\u001b[45m\u001b[37m \u001b[5m                            _ | _M_ _|_ _M_ | _                              \u001b[0m\u001b[1m\u001b[37m \u001b[0m\n",
      "\u001b[1m\u001b[37m \u001b[0m\u001b[1m\u001b[45m\u001b[37m \u001b[5m                          / .~.    _ ^ _    .~. \\                            \u001b[0m\u001b[1m\u001b[37m \u001b[0m\n",
      "\u001b[1m\u001b[37m \u001b[0m\u001b[1m\u001b[45m\u001b[37m \u001b[5m                         |_|_0_|  |_&_&_|  |_0_|_|                           \u001b[0m\u001b[1m\u001b[37m \u001b[0m\n",
      "\u001b[1m\u001b[37m \u001b[0m\u001b[1m\u001b[45m\u001b[37m \u001b[5m                        //    .~.    o    .~.    \\\\                          \u001b[0m\u001b[1m\u001b[37m \u001b[0m\n",
      "\u001b[1m\u001b[37m \u001b[0m\u001b[1m\u001b[45m\u001b[37m \u001b[5m                       |_M_ _|_?_|__[_]__|_?_|_ _M_|                         \u001b[0m\u001b[1m\u001b[37m \u001b[0m\n",
      "\u001b[1m\u001b[37m \u001b[0m\u001b[1m\u001b[45m\u001b[37m \u001b[5m                              |             |                                \u001b[0m\u001b[1m\u001b[37m \u001b[0m\n",
      "\u001b[1m\u001b[37m \u001b[0m\u001b[1m\u001b[45m\u001b[37m \u001b[5m                               \\  rapyuta  /                                 \u001b[0m\u001b[1m\u001b[37m \u001b[0m\n",
      "\u001b[1m\u001b[37m \u001b[0m\u001b[1m\u001b[45m\u001b[37m \u001b[5m                                 \\       /         _                         \u001b[0m\u001b[1m\u001b[37m \u001b[0m\n",
      "\u001b[1m\u001b[37m \u001b[0m\u001b[1m\u001b[45m\u001b[37m \u001b[5m                      * ¨^  .~       =           ~^' _-                      \u001b[0m\u001b[1m\u001b[37m \u001b[0m\n",
      "\u001b[1m\u001b[37m \u001b[0m\u001b[1m\u001b[45m\u001b[37m \u001b[5m                        ~ °                                                  \u001b[0m\u001b[1m\u001b[37m \u001b[0m\n",
      "\u001b[1m\u001b[37m \u001b[0m\u001b[1m\u001b[45m\u001b[37m \u001b[5m                                                                             \u001b[0m\u001b[1m\u001b[37m \u001b[0m\n",
      "\u001b[1m\u001b[37m \u001b[0m\u001b[1m\u001b[45m\u001b[37m \u001b[5m                          Version 2.2.2 (20220822)                           \u001b[0m\u001b[1m\u001b[37m \u001b[0m\n",
      " \u001b[1m\u001b[45m\u001b[37m                                                                              \u001b[0m\n",
      "\n"
     ]
    }
   ],
   "source": [
    "#!/usr/bin/env python\n",
    "# -*- coding: utf-8 -*-\n",
    "\n",
    "import sys\n",
    "from pathlib import Path\n",
    "import numpy as np\n",
    "import scipy\n",
    "from pprint import pprint\n",
    "from astropy.io import ascii\n",
    "from astropy.table import Table\n",
    "\n",
    "## Local\n",
    "import rapyuta.utbox as UT\n",
    "from rapyuta.latte import (\n",
    "    listize, closest, ramp, zoom\n",
    ")\n",
    "\n",
    "## fold inputs\n",
    "# UT.codefold(True, 'onclick')"
   ]
  },
  {
   "cell_type": "markdown",
   "id": "672f7bfa",
   "metadata": {},
   "source": [
    "## Prepare data"
   ]
  },
  {
   "cell_type": "code",
   "execution_count": 2,
   "id": "ff45c71b",
   "metadata": {},
   "outputs": [
    {
     "name": "stdout",
     "output_type": "stream",
     "text": [
      "astropy Table is transposed compared to numpy ndarray row/col.\n"
     ]
    }
   ],
   "source": [
    "file = Path('lib/filt_IRAC1.txt').absolute()\n",
    "data = ascii.read(file)\n",
    "print('astropy Table is transposed compared to numpy ndarray row/col.')\n",
    "# print(data[0]) # row\n",
    "# print(data['col1']) # col\n",
    "\n",
    "a = np.arange(24, dtype=float).reshape(4,3,2) # numpy ndarray\n",
    "b = [['a', 'b'], ['c', 'd']] # list\n",
    "c = 'abcd' # string\n",
    "d = 1. # scalar\n",
    "e = np.rec.array([(1,'Sirius', -1.45, 'A1V'),\n",
    "                  (2,'Canopus', -0.73, 'F0Ib'),\n",
    "                  (3,'Rigil Kent', -0.1, 'G2V')],\n",
    "                 formats='int16,a20,float32,a10',\n",
    "                 names='order,name,mag,Sp')\n",
    "\n",
    "x = np.arange(-5., 5., .1)\n",
    "## x with NaNs\n",
    "x[10:20] = np.nan\n",
    "x[90:] = np.nan\n",
    "## Unsorted x with repeating elements\n",
    "x[60:70] = -2.345\n",
    "\n",
    "y = np.arange(-12, 13, 1)\n",
    "y = listize(y)\n",
    "## 0-removed y\n",
    "y0 = []\n",
    "for ey in y:\n",
    "    if ey!=0:\n",
    "        y0.append(ey)"
   ]
  },
  {
   "cell_type": "markdown",
   "id": "e70826a4",
   "metadata": {},
   "source": [
    "## arrayize"
   ]
  },
  {
   "cell_type": "markdown",
   "id": "4b452c1d",
   "metadata": {},
   "source": [
    "## listize"
   ]
  },
  {
   "cell_type": "code",
   "execution_count": 3,
   "id": "8fa558a1",
   "metadata": {},
   "outputs": [
    {
     "name": "stdout",
     "output_type": "stream",
     "text": [
      "Table to list: \n",
      "{'col1': 3.08106, 'col2': 0.00049}\n",
      "\n",
      "\n",
      "ndarray to list: \n",
      "[[[0.0, 1.0], [2.0, 3.0], [4.0, 5.0]],\n",
      " [[6.0, 7.0], [8.0, 9.0], [10.0, 11.0]],\n",
      " [[12.0, 13.0], [14.0, 15.0], [16.0, 17.0]],\n",
      " [[18.0, 19.0], [20.0, 21.0], [22.0, 23.0]]]\n",
      "\n",
      "\n",
      "list to list: \n",
      "[['a', 'b'], ['c', 'd']]\n",
      "\n",
      "\n",
      "string to list: \n",
      "['abcd']\n",
      "\n",
      "\n",
      "scalar to list: \n",
      "[1.0]\n",
      "\n",
      "\n",
      "recarray to list: \n",
      "[(1, b'Sirius', -1.4500000476837158, b'A1V'),\n",
      " (2, b'Canopus', -0.7300000190734863, b'F0Ib'),\n",
      " (3, b'Rigil Kent', -0.10000000149011612, b'G2V')]\n",
      "\n",
      "\n"
     ]
    }
   ],
   "source": [
    "print('Table to list: ')\n",
    "print(listize(data)[0])\n",
    "print('\\n')\n",
    "\n",
    "print('ndarray to list: ')\n",
    "pprint(listize(a))\n",
    "print('\\n')\n",
    "\n",
    "print('list to list: ')\n",
    "pprint(listize(b))\n",
    "print('\\n')\n",
    "\n",
    "print('string to list: ')\n",
    "pprint(listize(c))\n",
    "print('\\n')\n",
    "\n",
    "print('scalar to list: ')\n",
    "pprint(listize(d))\n",
    "print('\\n')\n",
    "\n",
    "print('recarray to list: ')\n",
    "pprint(listize(e))\n",
    "print('\\n')"
   ]
  },
  {
   "cell_type": "markdown",
   "id": "f98e60cf",
   "metadata": {},
   "source": [
    "## closest"
   ]
  },
  {
   "cell_type": "code",
   "execution_count": 4,
   "id": "a0aa05fe",
   "metadata": {},
   "outputs": [
    {
     "name": "stdout",
     "output_type": "stream",
     "text": [
      "array([-5.00000000e+00, -4.90000000e+00, -4.80000000e+00, -4.70000000e+00,\n",
      "       -4.60000000e+00, -4.50000000e+00, -4.40000000e+00, -4.30000000e+00,\n",
      "       -4.20000000e+00, -4.10000000e+00,             nan,             nan,\n",
      "                   nan,             nan,             nan,             nan,\n",
      "                   nan,             nan,             nan,             nan,\n",
      "       -3.00000000e+00, -2.90000000e+00, -2.80000000e+00, -2.70000000e+00,\n",
      "       -2.60000000e+00, -2.50000000e+00, -2.40000000e+00, -2.30000000e+00,\n",
      "       -2.20000000e+00, -2.10000000e+00, -2.00000000e+00, -1.90000000e+00,\n",
      "       -1.80000000e+00, -1.70000000e+00, -1.60000000e+00, -1.50000000e+00,\n",
      "       -1.40000000e+00, -1.30000000e+00, -1.20000000e+00, -1.10000000e+00,\n",
      "       -1.00000000e+00, -9.00000000e-01, -8.00000000e-01, -7.00000000e-01,\n",
      "       -6.00000000e-01, -5.00000000e-01, -4.00000000e-01, -3.00000000e-01,\n",
      "       -2.00000000e-01, -1.00000000e-01, -1.77635684e-14,  1.00000000e-01,\n",
      "        2.00000000e-01,  3.00000000e-01,  4.00000000e-01,  5.00000000e-01,\n",
      "        6.00000000e-01,  7.00000000e-01,  8.00000000e-01,  9.00000000e-01,\n",
      "       -2.34500000e+00, -2.34500000e+00, -2.34500000e+00, -2.34500000e+00,\n",
      "       -2.34500000e+00, -2.34500000e+00, -2.34500000e+00, -2.34500000e+00,\n",
      "       -2.34500000e+00, -2.34500000e+00,  2.00000000e+00,  2.10000000e+00,\n",
      "        2.20000000e+00,  2.30000000e+00,  2.40000000e+00,  2.50000000e+00,\n",
      "        2.60000000e+00,  2.70000000e+00,  2.80000000e+00,  2.90000000e+00,\n",
      "        3.00000000e+00,  3.10000000e+00,  3.20000000e+00,  3.30000000e+00,\n",
      "        3.40000000e+00,  3.50000000e+00,  3.60000000e+00,  3.70000000e+00,\n",
      "        3.80000000e+00,  3.90000000e+00,             nan,             nan,\n",
      "                   nan,             nan,             nan,             nan,\n",
      "                   nan,             nan,             nan,             nan])\n",
      "x[60]=-2.3450 is closest to -2.35\n",
      "x[26]=-2.4000 is the left nearest of -2.35\n",
      "x[60]=-2.3450 is the right nearest of -2.35\n",
      "x[0]=-5.0000 is the right nearest of -6\n",
      "x[89]=3.9000 is the right nearest of 6\n"
     ]
    },
    {
     "name": "stderr",
     "output_type": "stream",
     "text": [
      "/Users/dhu/Github/RAPYUTA/rapyuta/latte.py:195: UserWarning: side condition was ignored. \n",
      "  warnings.warn('side condition was ignored. ')\n"
     ]
    }
   ],
   "source": [
    "pprint(x)\n",
    "ind = closest(x, -2.35)\n",
    "print('x[{0}]={1:.4f} is closest to -2.35'.format(ind, x[ind]))\n",
    "ind = closest(x, -2.35, side='left')\n",
    "print('x[{0}]={1:.4f} is the left nearest of -2.35'.format(ind, x[ind]))\n",
    "ind = closest(x, -2.35, side='right')\n",
    "print('x[{0}]={1:.4f} is the right nearest of -2.35'.format(ind, x[ind]))\n",
    "ind = closest(x, -6, side='right')\n",
    "print('x[{0}]={1:.4f} is the right nearest of -6'.format(ind, x[ind]))\n",
    "ind = closest(x, 6, side='right')\n",
    "print('x[{0}]={1:.4f} is the right nearest of 6'.format(ind, x[ind]))"
   ]
  },
  {
   "cell_type": "markdown",
   "id": "dab7cbd6",
   "metadata": {},
   "source": [
    "## ramp"
   ]
  },
  {
   "cell_type": "code",
   "execution_count": 5,
   "id": "2dd24248",
   "metadata": {},
   "outputs": [
    {
     "name": "stdout",
     "output_type": "stream",
     "text": [
      "numpy array: \n",
      " [0.  0.1 0.2 0.3 0.4 0.5 0.6 0.7 0.8 0.9]\n",
      "\n",
      "\n",
      "ramp array: \n",
      " [0.         0.11111111 0.22222222 0.33333333 0.44444444 0.55555556\n",
      " 0.66666667 0.77777778 0.88888889 1.        ]\n",
      "\n",
      "\n",
      "numpy array (log): \n",
      " [ 1.          1.29154967  1.66810054  2.15443469  2.7825594   3.59381366\n",
      "  4.64158883  5.9948425   7.74263683 10.        ]\n",
      "\n",
      "\n",
      "ramp array (log): \n",
      " [ 1.          1.29154967  1.66810054  2.15443469  2.7825594   3.59381366\n",
      "  4.64158883  5.9948425   7.74263683 10.        ]\n"
     ]
    }
   ],
   "source": [
    "nparr1 = np.arange(0, 1, .1)\n",
    "rparr1 = ramp(N=10)\n",
    "nparr2 = np.logspace(0, 1, 10)\n",
    "rparr2 = ramp(1e0, 1e1, N=10, log=True)\n",
    "print('numpy array: \\n', nparr1)\n",
    "print('\\n')\n",
    "print('ramp array: \\n', rparr1)\n",
    "print('\\n')\n",
    "print('numpy array (log): \\n', nparr2)\n",
    "print('\\n')\n",
    "print('ramp array (log): \\n', rparr2)"
   ]
  },
  {
   "cell_type": "markdown",
   "id": "9081de3e",
   "metadata": {},
   "source": [
    "## zoom"
   ]
  },
  {
   "cell_type": "code",
   "execution_count": 6,
   "id": "471efd90",
   "metadata": {},
   "outputs": [
    {
     "name": "stdout",
     "output_type": "stream",
     "text": [
      "old coord: \n",
      " [-12, -11, -10, -9, -8, -7, -6, -5, -4, -3, -2, -1, 0, 1, 2, 3, 4, 5, 6, 7, 8, 9, 10, 11, 12]\n",
      "\n",
      "\n",
      "coord scaled by a factor of 1 (zp=0, integer=False, start=0): \n",
      " [-12.0, -11.0, -10.0, -9.0, -8.0, -7.0, -6.0, -5.0, -4.0, -3.0, -2.0, -1.0, 0.0, 1.0, 2.0, 3.0, 4.0, 5.0, 6.0, 7.0, 8.0, 9.0, 10.0, 11.0, 12.0]\n",
      "\n",
      "\n",
      "coord scaled by a factor of 1 (zp=0, integer=False, start=1): \n",
      " [-13.0, -12.0, -11.0, -10.0, -9.0, -8.0, -7.0, -6.0, -5.0, -4.0, -3.0, -2.0, -1.0, 1.0, 2.0, 3.0, 4.0, 5.0, 6.0, 7.0, 8.0, 9.0, 10.0, 11.0, 12.0]\n",
      "\n",
      "\n",
      "Cf. scipy.ndimage.zoom results: \n",
      "\n",
      "[-12, -11, -10, -9, -8, -7, -6, -5, -4, -3, -2, -1, 0, 1, 2, 3, 4, 5, 6, 7, 8, 9, 10, 11, 12]\n"
     ]
    }
   ],
   "source": [
    "## Default inputs: no scaling\n",
    "yscale1, zp1, integer1, start1 = 1, 0, False, 0\n",
    "yscale2, zp2, integer2, start2 = 1, 0, False, 1 # no effects via \"start\" when no scaling\n",
    "\n",
    "print('old coord: \\n', y)\n",
    "print('\\n')\n",
    "y1, y2 = [], []\n",
    "for yy in y:\n",
    "    y1.append(zoom(yy, yscale1, zp=zp1, integer=integer1, start=start1)[0])\n",
    "    y2.append(zoom(yy, yscale2, integer=integer2, start=start2)[0])\n",
    "print(f'coord scaled by a factor of {yscale1} '\n",
    "      f'(zp={zp1}, integer={integer1}, start={start1}): \\n', y1)\n",
    "print('\\n')\n",
    "print(f'coord scaled by a factor of {yscale2} '\n",
    "      f'(zp={zp2}, integer={integer2}, start={start2}): \\n', y2)\n",
    "print('\\n')\n",
    "\n",
    "print('Cf. scipy.ndimage.zoom results: \\n')\n",
    "spzoom = list(scipy.ndimage.zoom(y, yscale1))\n",
    "print(spzoom)"
   ]
  },
  {
   "cell_type": "code",
   "execution_count": 7,
   "id": "868f402c",
   "metadata": {},
   "outputs": [
    {
     "name": "stdout",
     "output_type": "stream",
     "text": [
      "old coord: \n",
      " [-12, -11, -10, -9, -8, -7, -6, -5, -4, -3, -2, -1, 0, 1, 2, 3, 4, 5, 6, 7, 8, 9, 10, 11, 12]\n",
      "\n",
      "\n",
      "coord scaled by a factor of 1 (zp=-5.2, integer=True, start=0): \n",
      " [-7, -6, -5, -4, -3, -2, -1, 0, 1, 2, 3, 4, 5, 6, 7, 8, 9, 10, 11, 12, 13, 14, 15, 16, 17]\n",
      "\n",
      "\n",
      "coord scaled by a factor of 1 (zp=5.2, integer=True, start=0): \n",
      " [-18, -17, -16, -15, -14, -13, -12, -11, -10, -9, -8, -7, -6, -5, -4, -3, -2, -1, 0, 1, 2, 3, 4, 5, 6]\n"
     ]
    }
   ],
   "source": [
    "## Test zeropoint shift\n",
    "yscale1, zp1, integer1, start1 = 1, -5.2, True, 0\n",
    "yscale2, zp2, integer2, start2 = 1, 5.2, True, 0\n",
    "print('old coord: \\n', y)\n",
    "print('\\n')\n",
    "y1, y2 = [], []\n",
    "for yy in y:\n",
    "    y1.append(zoom(yy, yscale1, zp=zp1, integer=integer1, start=start1)[0])\n",
    "    y2.append(zoom(yy, yscale2, zp=zp2, integer=integer2, start=start2)[0])\n",
    "print(f'coord scaled by a factor of {yscale1} '\n",
    "      f'(zp={zp1}, integer={integer1}, start={start1}): \\n', y1)\n",
    "print('\\n')\n",
    "print(f'coord scaled by a factor of {yscale2} '\n",
    "      f'(zp={zp2}, integer={integer2}, start={start2}): \\n', y2)"
   ]
  },
  {
   "cell_type": "code",
   "execution_count": 8,
   "id": "d7555b23",
   "metadata": {},
   "outputs": [
    {
     "name": "stdout",
     "output_type": "stream",
     "text": [
      "old coord: \n",
      " [-12, -11, -10, -9, -8, -7, -6, -5, -4, -3, -2, -1, 0, 1, 2, 3, 4, 5, 6, 7, 8, 9, 10, 11, 12]\n",
      "\n",
      "\n",
      "coord scaled by a factor of 0.24 (zp=0, integer=False, start=0): \n",
      " [-50.0, -45.833333333333336, -41.66666666666667, -37.5, -33.333333333333336, -29.166666666666668, -25.0, -20.833333333333336, -16.666666666666668, -12.5, -8.333333333333334, -4.166666666666667, 0.0, 4.166666666666667, 8.333333333333334, 12.5, 16.666666666666668, 20.833333333333336, 25.0, 29.166666666666668, 33.333333333333336, 37.5, 41.66666666666667, 45.833333333333336, 50.0]\n",
      "\n",
      "\n",
      "coord scaled by a factor of 2.4 (zp=0, integer=False, start=0): \n",
      " [-5.0, -4.583333333333334, -4.166666666666667, -3.75, -3.3333333333333335, -2.916666666666667, -2.5, -2.0833333333333335, -1.6666666666666667, -1.25, -0.8333333333333334, -0.4166666666666667, 0.0, 0.4166666666666667, 0.8333333333333334, 1.25, 1.6666666666666667, 2.0833333333333335, 2.5, 2.916666666666667, 3.3333333333333335, 3.75, 4.166666666666667, 4.583333333333334, 5.0]\n",
      "\n",
      "\n",
      "Cf. scipy.ndimage.zoom results: \n",
      "\n",
      "[-12  -7  -2   2   7  12]\n",
      "[-12 -12 -11 -11 -10 -10 -10  -9  -9  -8  -8  -8  -7  -7  -6  -6  -5  -5\n",
      "  -5  -4  -4  -3  -3  -3  -2  -2  -1  -1  -1   0   0   1   1   1   2   2\n",
      "   3   3   3   4   4   5   5   5   6   6   7   7   8   8   8   9   9  10\n",
      "  10  10  11  11  12  12]\n"
     ]
    }
   ],
   "source": [
    "## Test float scaling factors\n",
    "yscale1, zp1, integer1, start1 = 0.24, 0, False, 0\n",
    "yscale2, zp2, integer2, start2 = 2.4, 0, False, 0\n",
    "\n",
    "print('old coord: \\n', y)\n",
    "print('\\n')\n",
    "y1, y2 = [], []\n",
    "for yy in y:\n",
    "    # print(zoom(yy, yscale1, zp=zp1, integer=integer1, start=start1))\n",
    "    y1.append(zoom(yy, yscale1, zp=zp1, integer=integer1, start=start1)[0])\n",
    "    # print(zoom(yy, yscale2, zp=zp2, integer=integer2, start=start2))\n",
    "    y2.append(zoom(yy, yscale2, zp=zp2, integer=integer2, start=start2)[0])\n",
    "print(f'coord scaled by a factor of {yscale1} '\n",
    "      f'(zp={zp1}, integer={integer1}, start={start1}): \\n', y1)\n",
    "print('\\n')\n",
    "print(f'coord scaled by a factor of {yscale2} '\n",
    "      f'(zp={zp2}, integer={integer2}, start={start2}): \\n', y2)\n",
    "print('\\n')\n",
    "\n",
    "print('Cf. scipy.ndimage.zoom results: \\n')\n",
    "## ‘reflect’, ‘grid-mirror’, ‘constant’, ‘grid-constant’, ‘nearest’, ‘mirror’, ‘grid-wrap’, ‘wrap’\n",
    "spzoom1 = scipy.ndimage.zoom(y, yscale1, mode='nearest')\n",
    "spzoom2 = scipy.ndimage.zoom(y, yscale2, mode='nearest')\n",
    "print(spzoom1)\n",
    "print(spzoom2)"
   ]
  },
  {
   "cell_type": "code",
   "execution_count": 9,
   "id": "f180e187",
   "metadata": {},
   "outputs": [
    {
     "name": "stdout",
     "output_type": "stream",
     "text": [
      "old coord: \n",
      " [-12, -11, -10, -9, -8, -7, -6, -5, -4, -3, -2, -1, 0, 1, 2, 3, 4, 5, 6, 7, 8, 9, 10, 11, 12]\n",
      "\n",
      "\n",
      "coord scaled by a factor of 2.4 (zp=0, integer=False, start=0): \n",
      " [-5.0, -4.583333333333334, -4.166666666666667, -3.75, -3.3333333333333335, -2.916666666666667, -2.5, -2.0833333333333335, -1.6666666666666667, -1.25, -0.8333333333333334, -0.4166666666666667, 0.0, 0.4166666666666667, 0.8333333333333334, 1.25, 1.6666666666666667, 2.0833333333333335, 2.5, 2.916666666666667, 3.3333333333333335, 3.75, 4.166666666666667, 4.583333333333334, 5.0]\n",
      "\n",
      "\n",
      "coord scaled by a factor of 2.4 (zp=0, integer=True, start=0): \n",
      " [-5, -5, -5, -4, -4, -3, -3, -3, -2, -2, -1, -1, 0, 0, 0, 1, 1, 2, 2, 2, 3, 3, 4, 4, 5]\n",
      "\n",
      "\n",
      "old coord scaled back from [-5.0, -4.583333333333334, -4.166666666666667, -3.75, -3.3333333333333335, -2.916666666666667, -2.5, -2.0833333333333335, -1.6666666666666667, -1.25, -0.8333333333333334, -0.4166666666666667, 0.0, 0.4166666666666667, 0.8333333333333334, 1.25, 1.6666666666666667, 2.0833333333333335, 2.5, 2.916666666666667, 3.3333333333333335, 3.75, 4.166666666666667, 4.583333333333334, 5.0]: \n",
      " [[-12, -11, -10], [-12, -11, -10], [-10, -9, -8], [-9, -8, -7], [-8, -7, -6], [-7, -6, -5], [-6, -5, -4], [-5, -4, -3], [-4, -3, -2], [-3, -2, -1], [-2, -1, 0], [-1, 0, 1], [0, 1, 2], [1, 2, 3], [2, 3, 4], [3, 4, 5], [4, 5, 6], [5, 6, 7], [6, 7, 8], [7, 8, 9], [8, 9, 10], [9, 10, 11], [10, 11, 12], [11, 12, 13], [12, 13, 14]]\n",
      "\n",
      "\n",
      "old coord scaled back from [-5, -4, -3, -2, -1, 0, 1, 2, 3, 4, 5]: \n",
      " [[-12, -11, -10], [-10, -9, -8], [-8, -7, -6], [-5, -4, -3], [-3, -2, -1], [0, 1, 2], [2, 3, 4], [4, 5, 6], [7, 8, 9], [9, 10, 11], [12, 13, 14]]\n",
      "\n",
      "\n",
      "Cf. scipy.ndimage.zoom results: \n",
      "\n",
      "[-12 -12 -11 -11 -10 -10 -10  -9  -9  -8  -8  -8  -7  -7  -6  -6  -5  -5\n",
      "  -5  -4  -4  -3  -3  -3  -2  -2  -1  -1  -1   0   0   1   1   1   2   2\n",
      "   3   3   3   4   4   5   5   5   6   6   7   7   8   8   8   9   9  10\n",
      "  10  10  11  11  12  12]\n",
      "[-12 -12 -11 -11 -10 -10 -10  -9  -9  -8  -8  -8  -7  -7  -6  -6  -5  -5\n",
      "  -5  -4  -4  -3  -3  -3  -2  -2  -1  -1  -1   0   0   1   1   1   2   2\n",
      "   3   3   3   4   4   5   5   5   6   6   7   7   8   8   8   9   9  10\n",
      "  10  10  11  11  12  12]\n"
     ]
    }
   ],
   "source": [
    "## Test integer arrays\n",
    "## If integer is True, each value is rounded down to the closest integer.\n",
    "yscale1, zp1, integer1, start1 = 2.4, 0, False, 0\n",
    "yscale2, zp2, integer2, start2 = 2.4, 0, True, 0\n",
    "#yscale1, zp1, integer1, start1 = 0.24, 0, False, 0\n",
    "#yscale2, zp2, integer2, start2 = 0.24, 0, True, 0\n",
    "\n",
    "print('old coord: \\n', y)\n",
    "print('\\n')\n",
    "y1, y2 = [], []\n",
    "for yy in y:\n",
    "    # print(zoom(yy, yscale1, zp=zp1, integer=integer1, start=start1))\n",
    "    y1.append(zoom(yy, yscale1, zp=zp1, integer=integer1, start=start1)[0])\n",
    "    # print(zoom(yy, yscale2, zp=zp2, integer=integer2, start=start2))\n",
    "    y2.append(zoom(yy, yscale2, zp=zp2, integer=integer2, start=start2)[0])\n",
    "print(f'coord scaled by a factor of {yscale1} '\n",
    "      f'(zp={zp1}, integer={integer1}, start={start1}): \\n', y1)\n",
    "print('\\n')\n",
    "print(f'coord scaled by a factor of {yscale2} '\n",
    "      f'(zp={zp2}, integer={integer2}, start={start2}): \\n', y2)\n",
    "print('\\n')\n",
    "\n",
    "## Go back to old coord\n",
    "y1red = list(dict.fromkeys(y1))\n",
    "y2red = list(dict.fromkeys(y2))\n",
    "oldy1, oldy2 = [], []\n",
    "for yy1 in y1red:\n",
    "    oldy1.append(zoom(yy1, 1/yscale1, zp=zp1, integer=integer2, start=start1))\n",
    "for yy2 in y2red:\n",
    "    oldy2.append(zoom(yy2, 1/yscale2, zp=zp2, integer=integer2, start=start2))\n",
    "print(f'old coord scaled back from {y1red}: \\n', oldy1)\n",
    "print('\\n')\n",
    "print(f'old coord scaled back from {y2red}: \\n', oldy2)\n",
    "print('\\n')\n",
    "\n",
    "print('Cf. scipy.ndimage.zoom results: \\n')\n",
    "## ‘reflect’, ‘grid-mirror’, ‘constant’, ‘grid-constant’, ‘nearest’, ‘mirror’, ‘grid-wrap’, ‘wrap’\n",
    "spzoom1 = scipy.ndimage.zoom(y, yscale1, mode='nearest')\n",
    "spzoom2 = scipy.ndimage.zoom(y, yscale2, mode='nearest')\n",
    "print(spzoom1)\n",
    "print(spzoom2)"
   ]
  },
  {
   "cell_type": "code",
   "execution_count": 10,
   "id": "020e7dbe",
   "metadata": {},
   "outputs": [
    {
     "name": "stdout",
     "output_type": "stream",
     "text": [
      "old coord: \n",
      " [-12, -11, -10, -9, -8, -7, -6, -5, -4, -3, -2, -1, 0, 1, 2, 3, 4, 5, 6, 7, 8, 9, 10, 11, 12]\n",
      "\n",
      "\n",
      "coord scaled by a factor of 2.4 (zp=0, integer=False, start=0): \n",
      " [-5.0, -4.583333333333334, -4.166666666666667, -3.75, -3.3333333333333335, -2.916666666666667, -2.5, -2.0833333333333335, -1.6666666666666667, -1.25, -0.8333333333333334, -0.4166666666666667, 0.0, 0.4166666666666667, 0.8333333333333334, 1.25, 1.6666666666666667, 2.0833333333333335, 2.5, 2.916666666666667, 3.3333333333333335, 3.75, 4.166666666666667, 4.583333333333334, 5.0]\n",
      "\n",
      "\n",
      "coord scaled by a factor of 2.4 (zp=0, integer=False, start=1): \n",
      " [-5.416666666666667, -5.0, -4.583333333333334, -4.166666666666667, -3.75, -3.3333333333333335, -2.916666666666667, -2.5, -2.0833333333333335, -1.6666666666666667, -1.25, -0.8333333333333334, -0.4166666666666667, 1.0, 1.4166666666666667, 1.8333333333333335, 2.25, 2.666666666666667, 3.0833333333333335, 3.5, 3.916666666666667, 4.333333333333334, 4.75, 5.166666666666667, 5.583333333333334]\n"
     ]
    }
   ],
   "source": [
    "## Test effects via \"start\" when scaling factor is not unit\n",
    "yscale1, zp1, integer1, start1 = 2.4, 0, False, 0\n",
    "yscale2, zp2, integer2, start2 = 2.4, 0, False, 1\n",
    "\n",
    "print('old coord: \\n', y)\n",
    "print('\\n')\n",
    "y1, y2 = [], []\n",
    "for yy in y:\n",
    "    y1.append(zoom(yy, yscale1, zp=zp1, integer=integer1, start=start1)[0])\n",
    "    y2.append(zoom(yy, yscale2, zp=zp2, integer=integer2, start=start2)[0])\n",
    "print(f'coord scaled by a factor of {yscale1} '\n",
    "      f'(zp={zp1}, integer={integer1}, start={start1}): \\n', y1)\n",
    "print('\\n')\n",
    "print(f'coord scaled by a factor of {yscale2} '\n",
    "      f'(zp={zp2}, integer={integer2}, start={start2}): \\n', y2)"
   ]
  },
  {
   "cell_type": "code",
   "execution_count": 11,
   "id": "4149c35a",
   "metadata": {},
   "outputs": [
    {
     "name": "stdout",
     "output_type": "stream",
     "text": [
      "old coord: \n",
      " [-12, -11, -10, -9, -8, -7, -6, -5, -4, -3, -2, -1, 1, 2, 3, 4, 5, 6, 7, 8, 9, 10, 11, 12]\n",
      "\n",
      "\n",
      "coord scaled by a factor of 2.4 (zp=0, integer=True, start=0): \n",
      " [-5, -5, -5, -4, -4, -3, -3, -3, -2, -2, -1, -1, 0, 0, 1, 1, 2, 2, 2, 3, 3, 4, 4, 5]\n",
      "\n",
      "\n",
      "coord scaled by a factor of 2.4 (zp=0, integer=True, start=1): \n",
      " [-6, -5, -5, -5, -4, -4, -3, -3, -3, -2, -2, -1, 1, 1, 1, 2, 2, 3, 3, 3, 4, 4, 5, 5]\n"
     ]
    }
   ],
   "source": [
    "## Test effects via \"start\" when scaling factor is not unit (integer)\n",
    "yscale1, zp1, integer1, start1 = 2.4, 0, True, 0\n",
    "yscale2, zp2, integer2, start2 = 2.4, 0, True, 1\n",
    "\n",
    "print('old coord: \\n', y0)\n",
    "print('\\n')\n",
    "y1, y2 = [], []\n",
    "for yy in y0:\n",
    "    y1.append(zoom(yy, yscale1, zp=zp1, integer=integer1, start=start1)[0])\n",
    "    y2.append(zoom(yy, yscale2, zp=zp2, integer=integer2, start=start2)[0])\n",
    "print(f'coord scaled by a factor of {yscale1} '\n",
    "      f'(zp={zp1}, integer={integer1}, start={start1}): \\n', y1)\n",
    "print('\\n')\n",
    "print(f'coord scaled by a factor of {yscale2} '\n",
    "      f'(zp={zp2}, integer={integer2}, start={start2}): \\n', y2)"
   ]
  }
 ],
 "metadata": {
  "kernelspec": {
   "display_name": "Python 3 (ipykernel)",
   "language": "python",
   "name": "python3"
  },
  "language_info": {
   "codemirror_mode": {
    "name": "ipython",
    "version": 3
   },
   "file_extension": ".py",
   "mimetype": "text/x-python",
   "name": "python",
   "nbconvert_exporter": "python",
   "pygments_lexer": "ipython3",
   "version": "3.10.4"
  }
 },
 "nbformat": 4,
 "nbformat_minor": 5
}

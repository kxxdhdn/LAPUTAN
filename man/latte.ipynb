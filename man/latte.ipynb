{
 "cells": [
  {
   "cell_type": "markdown",
   "id": "bc58f030",
   "metadata": {},
   "source": [
    "# rapyuta.latte\n",
    "- [arrayize](#arrayize), [listize](#listize)\n",
    "- [closest](#closest), [ramp](#ramp)\n",
    "- [pix2sup](#pix2sup), [sup2pix](#sup2pix)"
   ]
  },
  {
   "cell_type": "code",
   "execution_count": 1,
   "id": "f5e32ecf",
   "metadata": {},
   "outputs": [
    {
     "name": "stdout",
     "output_type": "stream",
     "text": [
      "\n",
      "               \\  \\|/  /\n",
      "            \\ _\\_ ||| _/_ /\n",
      "                  |||\n",
      "              /\\/-/|\\-\\/\\\n",
      "          _ | _M_ _|_ _M_ | _\n",
      "        / .~.    _ ^ _    .~. \\\n",
      "       |_|_0_|  |_&_&_|  |_0_|_|\n",
      "      //    .~.    o    .~.    \\\\\n",
      "     |_M_ _|_?_|__[_]__|_?_|_ _M_|\n",
      "            |             |\n",
      "             \\  rapyuta  /\n",
      "               \\       /         _\n",
      "    * ¨^  .~       =           ~^' _-\n",
      "      ~ °\n",
      "\n",
      "        Version 2.2.2 (20220822)\n",
      "\n",
      "\n"
     ]
    }
   ],
   "source": [
    "#!/usr/bin/env python\n",
    "# -*- coding: utf-8 -*-\n",
    "\n",
    "import sys\n",
    "from pathlib import Path\n",
    "import numpy as np\n",
    "from pprint import pprint\n",
    "from astropy.io import ascii\n",
    "from astropy.table import Table\n",
    "\n",
    "## Local\n",
    "try:\n",
    "    root = Path(__file__).parent.absolute() / '..'\n",
    "except NameError:\n",
    "    root = Path().absolute() / '..'\n",
    "sys.path.insert(0, root)\n",
    "\n",
    "import rapyuta.utbox as UT\n",
    "from rapyuta.latte import (\n",
    "    listize, closest, \n",
    ")\n",
    "\n",
    "## fold inputs\n",
    "# UT.codefold(True, 'onclick')"
   ]
  },
  {
   "cell_type": "markdown",
   "id": "672f7bfa",
   "metadata": {},
   "source": [
    "## Prepare data"
   ]
  },
  {
   "cell_type": "code",
   "execution_count": 2,
   "id": "ff45c71b",
   "metadata": {},
   "outputs": [
    {
     "name": "stdout",
     "output_type": "stream",
     "text": [
      "astropy Table is transposed compared to numpy ndarray row/col.\n"
     ]
    }
   ],
   "source": [
    "file = Path('lib/filt_IRAC1.txt').absolute()\n",
    "data = ascii.read(file)\n",
    "print('astropy Table is transposed compared to numpy ndarray row/col.')\n",
    "# print(data[0]) # row\n",
    "# print(data['col1']) # col\n",
    "\n",
    "a = np.arange(24, dtype=float).reshape(4,3,2) # numpy ndarray\n",
    "b = [['a', 'b'], ['c', 'd']] # list\n",
    "c = 'abcd' # string\n",
    "d = 1. # scalar\n",
    "e = np.rec.array([(1,'Sirius', -1.45, 'A1V'),\n",
    "                  (2,'Canopus', -0.73, 'F0Ib'),\n",
    "                  (3,'Rigil Kent', -0.1, 'G2V')],\n",
    "                 formats='int16,a20,float32,a10',\n",
    "                 names='order,name,mag,Sp')\n",
    "\n",
    "x = np.arange(-5., 5., .1)\n",
    "## x with NaNs\n",
    "x[10:20] = np.nan\n",
    "x[90:] = np.nan\n",
    "## Unsorted x with repeating elements\n",
    "x[60:70] = -2.345"
   ]
  },
  {
   "cell_type": "markdown",
   "id": "4b452c1d",
   "metadata": {},
   "source": [
    "## listize"
   ]
  },
  {
   "cell_type": "code",
   "execution_count": 3,
   "id": "8fa558a1",
   "metadata": {},
   "outputs": [
    {
     "name": "stdout",
     "output_type": "stream",
     "text": [
      "Table to list: \n",
      "{'col1': 3.08106, 'col2': 0.00049}\n",
      "\n",
      "\n",
      "ndarray to list: \n",
      "[[[0.0, 1.0], [2.0, 3.0], [4.0, 5.0]],\n",
      " [[6.0, 7.0], [8.0, 9.0], [10.0, 11.0]],\n",
      " [[12.0, 13.0], [14.0, 15.0], [16.0, 17.0]],\n",
      " [[18.0, 19.0], [20.0, 21.0], [22.0, 23.0]]]\n",
      "\n",
      "\n",
      "list to list: \n",
      "[['a', 'b'], ['c', 'd']]\n",
      "\n",
      "\n",
      "string to list: \n",
      "['abcd']\n",
      "\n",
      "\n",
      "scalar to list: \n",
      "[1.0]\n",
      "\n",
      "\n",
      "recarray to list: \n",
      "[(1, b'Sirius', -1.4500000476837158, b'A1V'),\n",
      " (2, b'Canopus', -0.7300000190734863, b'F0Ib'),\n",
      " (3, b'Rigil Kent', -0.10000000149011612, b'G2V')]\n",
      "\n",
      "\n"
     ]
    }
   ],
   "source": [
    "print('Table to list: ')\n",
    "print(listize(data)[0])\n",
    "print('\\n')\n",
    "\n",
    "print('ndarray to list: ')\n",
    "pprint(listize(a))\n",
    "print('\\n')\n",
    "\n",
    "print('list to list: ')\n",
    "pprint(listize(b))\n",
    "print('\\n')\n",
    "\n",
    "print('string to list: ')\n",
    "pprint(listize(c))\n",
    "print('\\n')\n",
    "\n",
    "print('scalar to list: ')\n",
    "pprint(listize(d))\n",
    "print('\\n')\n",
    "\n",
    "print('recarray to list: ')\n",
    "pprint(listize(e))\n",
    "print('\\n')"
   ]
  },
  {
   "cell_type": "markdown",
   "id": "f98e60cf",
   "metadata": {},
   "source": [
    "## closest"
   ]
  },
  {
   "cell_type": "code",
   "execution_count": 4,
   "id": "a0aa05fe",
   "metadata": {},
   "outputs": [
    {
     "name": "stdout",
     "output_type": "stream",
     "text": [
      "array([-5.00000000e+00, -4.90000000e+00, -4.80000000e+00, -4.70000000e+00,\n",
      "       -4.60000000e+00, -4.50000000e+00, -4.40000000e+00, -4.30000000e+00,\n",
      "       -4.20000000e+00, -4.10000000e+00,             nan,             nan,\n",
      "                   nan,             nan,             nan,             nan,\n",
      "                   nan,             nan,             nan,             nan,\n",
      "       -3.00000000e+00, -2.90000000e+00, -2.80000000e+00, -2.70000000e+00,\n",
      "       -2.60000000e+00, -2.50000000e+00, -2.40000000e+00, -2.30000000e+00,\n",
      "       -2.20000000e+00, -2.10000000e+00, -2.00000000e+00, -1.90000000e+00,\n",
      "       -1.80000000e+00, -1.70000000e+00, -1.60000000e+00, -1.50000000e+00,\n",
      "       -1.40000000e+00, -1.30000000e+00, -1.20000000e+00, -1.10000000e+00,\n",
      "       -1.00000000e+00, -9.00000000e-01, -8.00000000e-01, -7.00000000e-01,\n",
      "       -6.00000000e-01, -5.00000000e-01, -4.00000000e-01, -3.00000000e-01,\n",
      "       -2.00000000e-01, -1.00000000e-01, -1.77635684e-14,  1.00000000e-01,\n",
      "        2.00000000e-01,  3.00000000e-01,  4.00000000e-01,  5.00000000e-01,\n",
      "        6.00000000e-01,  7.00000000e-01,  8.00000000e-01,  9.00000000e-01,\n",
      "       -2.34500000e+00, -2.34500000e+00, -2.34500000e+00, -2.34500000e+00,\n",
      "       -2.34500000e+00, -2.34500000e+00, -2.34500000e+00, -2.34500000e+00,\n",
      "       -2.34500000e+00, -2.34500000e+00,  2.00000000e+00,  2.10000000e+00,\n",
      "        2.20000000e+00,  2.30000000e+00,  2.40000000e+00,  2.50000000e+00,\n",
      "        2.60000000e+00,  2.70000000e+00,  2.80000000e+00,  2.90000000e+00,\n",
      "        3.00000000e+00,  3.10000000e+00,  3.20000000e+00,  3.30000000e+00,\n",
      "        3.40000000e+00,  3.50000000e+00,  3.60000000e+00,  3.70000000e+00,\n",
      "        3.80000000e+00,  3.90000000e+00,             nan,             nan,\n",
      "                   nan,             nan,             nan,             nan,\n",
      "                   nan,             nan,             nan,             nan])\n",
      "x[60]=-2.3450 is closest to -2.35\n",
      "x[26]=-2.4000 is the left nearest of -2.35\n",
      "x[60]=-2.3450 is the right nearest of -2.35\n",
      "x[0]=-5.0000 is the right nearest of -6\n",
      "x[89]=3.9000 is the right nearest of 6\n"
     ]
    },
    {
     "name": "stderr",
     "output_type": "stream",
     "text": [
      "/Users/dhu/Github/RAPYUTA/rapyuta/latte.py:112: UserWarning: side condition was ignored. \n",
      "  warnings.warn('side condition was ignored. ')\n"
     ]
    }
   ],
   "source": [
    "pprint(x)\n",
    "ind = closest(x, -2.35)\n",
    "print('x[{0}]={1:.4f} is closest to -2.35'.format(ind, x[ind]))\n",
    "ind = closest(x, -2.35, side='left')\n",
    "print('x[{0}]={1:.4f} is the left nearest of -2.35'.format(ind, x[ind]))\n",
    "ind = closest(x, -2.35, side='right')\n",
    "print('x[{0}]={1:.4f} is the right nearest of -2.35'.format(ind, x[ind]))\n",
    "ind = closest(x, -6, side='right')\n",
    "print('x[{0}]={1:.4f} is the right nearest of -6'.format(ind, x[ind]))\n",
    "ind = closest(x, 6, side='right')\n",
    "print('x[{0}]={1:.4f} is the right nearest of 6'.format(ind, x[ind]))"
   ]
  }
 ],
 "metadata": {
  "kernelspec": {
   "display_name": "Python 3 (ipykernel)",
   "language": "python",
   "name": "python3"
  },
  "language_info": {
   "codemirror_mode": {
    "name": "ipython",
    "version": 3
   },
   "file_extension": ".py",
   "mimetype": "text/x-python",
   "name": "python",
   "nbconvert_exporter": "python",
   "pygments_lexer": "ipython3",
   "version": "3.10.4"
  }
 },
 "nbformat": 4,
 "nbformat_minor": 5
}

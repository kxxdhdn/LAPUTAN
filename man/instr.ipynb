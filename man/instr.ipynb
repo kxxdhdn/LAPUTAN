{
 "cells": [
  {
   "cell_type": "markdown",
   "id": "d78d7f97",
   "metadata": {},
   "source": [
    "# rapyuta.instr\n",
    "- [photometry_profile](#photometry_profile)\n",
    "- [akari.cupid](#akari.cupid)"
   ]
  },
  {
   "cell_type": "code",
   "execution_count": 1,
   "id": "f5e32ecf",
   "metadata": {},
   "outputs": [
    {
     "name": "stdout",
     "output_type": "stream",
     "text": [
      "\u001b[1m\u001b[31m \u001b[0m\u001b[1m\u001b[44m\u001b[31m \u001b[5m                                                                             \u001b[0m\u001b[1m\u001b[31m \u001b[0m\n",
      "\u001b[1m\u001b[31m \u001b[0m\u001b[1m\u001b[44m\u001b[31m \u001b[5m                                 \\  \\|/  /                                   \u001b[0m\u001b[1m\u001b[31m \u001b[0m\n",
      "\u001b[1m\u001b[31m \u001b[0m\u001b[1m\u001b[44m\u001b[31m \u001b[5m                              \\ _\\_ ||| _/_ /                                \u001b[0m\u001b[1m\u001b[31m \u001b[0m\n",
      "\u001b[1m\u001b[31m \u001b[0m\u001b[1m\u001b[44m\u001b[31m \u001b[5m                                    |||                                      \u001b[0m\u001b[1m\u001b[31m \u001b[0m\n",
      "\u001b[1m\u001b[31m \u001b[0m\u001b[1m\u001b[44m\u001b[31m \u001b[5m                                /\\/-/|\\-\\/\\                                  \u001b[0m\u001b[1m\u001b[31m \u001b[0m\n",
      "\u001b[1m\u001b[31m \u001b[0m\u001b[1m\u001b[44m\u001b[31m \u001b[5m                            _ | _M_ _|_ _M_ | _                              \u001b[0m\u001b[1m\u001b[31m \u001b[0m\n",
      "\u001b[1m\u001b[31m \u001b[0m\u001b[1m\u001b[44m\u001b[31m \u001b[5m                          / .~.    _ ^ _    .~. \\                            \u001b[0m\u001b[1m\u001b[31m \u001b[0m\n",
      "\u001b[1m\u001b[31m \u001b[0m\u001b[1m\u001b[44m\u001b[31m \u001b[5m                         |_|_0_|  |_&_&_|  |_0_|_|                           \u001b[0m\u001b[1m\u001b[31m \u001b[0m\n",
      "\u001b[1m\u001b[31m \u001b[0m\u001b[1m\u001b[44m\u001b[31m \u001b[5m                        //    .~.    o    .~.    \\\\                          \u001b[0m\u001b[1m\u001b[31m \u001b[0m\n",
      "\u001b[1m\u001b[31m \u001b[0m\u001b[1m\u001b[44m\u001b[31m \u001b[5m                       |_M_ _|_?_|__[_]__|_?_|_ _M_|                         \u001b[0m\u001b[1m\u001b[31m \u001b[0m\n",
      "\u001b[1m\u001b[31m \u001b[0m\u001b[1m\u001b[44m\u001b[31m \u001b[5m                              |             |                                \u001b[0m\u001b[1m\u001b[31m \u001b[0m\n",
      "\u001b[1m\u001b[31m \u001b[0m\u001b[1m\u001b[44m\u001b[31m \u001b[5m                               \\  rapyuta  /                                 \u001b[0m\u001b[1m\u001b[31m \u001b[0m\n",
      "\u001b[1m\u001b[31m \u001b[0m\u001b[1m\u001b[44m\u001b[31m \u001b[5m                                 \\       /         _                         \u001b[0m\u001b[1m\u001b[31m \u001b[0m\n",
      "\u001b[1m\u001b[31m \u001b[0m\u001b[1m\u001b[44m\u001b[31m \u001b[5m                      * ¨^  .~       =           ~^' _-                      \u001b[0m\u001b[1m\u001b[31m \u001b[0m\n",
      "\u001b[1m\u001b[31m \u001b[0m\u001b[1m\u001b[44m\u001b[31m \u001b[5m                        ~ °                                                  \u001b[0m\u001b[1m\u001b[31m \u001b[0m\n",
      "\u001b[1m\u001b[31m \u001b[0m\u001b[1m\u001b[44m\u001b[31m \u001b[5m                                                                             \u001b[0m\u001b[1m\u001b[31m \u001b[0m\n",
      "\u001b[1m\u001b[31m \u001b[0m\u001b[1m\u001b[44m\u001b[31m \u001b[5m                          Version 2.2.2 (20220822)                           \u001b[0m\u001b[1m\u001b[31m \u001b[0m\n",
      " \u001b[1m\u001b[44m\u001b[31m                                                                              \u001b[0m\n",
      "\n"
     ]
    }
   ],
   "source": [
    "#!/usr/bin/env python\n",
    "# -*- coding: utf-8 -*-\n",
    "\n",
    "import sys\n",
    "from pathlib import Path\n",
    "import numpy as np\n",
    "\n",
    "## Local\n",
    "import rapyuta.utbox as UT\n",
    "import rapyuta.plots as PL\n",
    "from rapyuta.inout import fitsext, h5ext\n",
    "from rapyuta.instr import (\n",
    "    intercalib, photometry_profile,\n",
    ")\n",
    "from rapyuta.instr.akari import cupid\n",
    "\n",
    "%matplotlib inline\n",
    "\n",
    "## fold inputs\n",
    "# UT.codefold(True, 'onclick')"
   ]
  },
  {
   "cell_type": "code",
   "execution_count": 2,
   "id": "573a926a",
   "metadata": {},
   "outputs": [],
   "source": [
    "## Set dir\n",
    "cfd = UT.getcfd('')\n",
    "datdir = cfd+'/lib'\n",
    "outdir = cfd+'/out/test_instr'\n",
    "Path(outdir).mkdir(parents=True, exist_ok=True)"
   ]
  },
  {
   "cell_type": "markdown",
   "id": "17b835c1",
   "metadata": {},
   "source": [
    "## photometry_profile"
   ]
  },
  {
   "cell_type": "code",
   "execution_count": null,
   "id": "df4a1571",
   "metadata": {},
   "outputs": [],
   "source": []
  },
  {
   "cell_type": "markdown",
   "id": "6f89a423",
   "metadata": {},
   "source": [
    "## AKARI\n",
    "### akari.cupid"
   ]
  },
  {
   "cell_type": "code",
   "execution_count": null,
   "id": "fe3d5ceb",
   "metadata": {},
   "outputs": [],
   "source": [
    "parobs = [\n",
    "    ['3390001.1','NG','F011100297_N002','Ns',24,2,5],\n",
    "    ['3390001.1','NG','F011100297_N002','Nh',28,7,3],\n",
    "]\n",
    "buildir = outdir+'/cubuild/'\n",
    "if not os.path.exists(buildir):\n",
    "    os.makedirs(buildir)\n",
    "fits_irc = []\n",
    "for obs in parobs:\n",
    "    fits_irc.append(obs[0]+'_'+obs[3])\n",
    "## MC add pointing unc\n",
    "Nmc = 2\n",
    "for i in range(len(parobs)):\n",
    "    for j in range(Nmc+1):\n",
    "        if j==0:\n",
    "            verbose = False\n",
    "        else:\n",
    "            verbose = False\n",
    "        \n",
    "        cup = cupid(datdir, obsid=parobs[i][0], slit=parobs[i][3],\n",
    "                    spec=parobs[i][1], imref=parobs[i][2], verbose=verbose)\n",
    "        if j==0:\n",
    "            cup.spec_build(buildir+fits_irc[i],\n",
    "                           filRAW=buildir+'raw', tmpdir=buildir, fiLOG=buildir+'build_history',\n",
    "                           Nx=parobs[i][6], Ny=parobs[i][4], Nsub=parobs[i][5],\n",
    "                           pixscale=1, wmax=4.3, supix=True)\n",
    "        else:\n",
    "            cup.spec_build(buildir+fits_irc[i]+'_'+str(j), tmpdir=buildir,\n",
    "                           Nx=parobs[i][6], Ny=parobs[i][4], Nsub=parobs[i][5],\n",
    "                           pixscale=1, wmax=4.3, supix=True,\n",
    "                           dist='splitnorm', sig_pt=3, fill_pt='med', swarp=False)\n",
    "    mcimage = []\n",
    "    for j in range(Nmc+1):\n",
    "        if j==0:\n",
    "            hdr = read_fits(buildir+fits_irc[i]).header\n",
    "            wvl = read_fits(buildir+fits_irc[i]).wave\n",
    "            data = read_fits(buildir+fits_irc[i]).data\n",
    "            write_fits(outdir+fits_irc[i], hdr, data, wvl)\n",
    "        else:\n",
    "            mcimage.append(read_fits(buildir+fits_irc[i]+'_'+str(j)).data)\n",
    "    if Nmc>1:\n",
    "        mcimage = np.array(mcimage)\n",
    "        unc = np.nanstd(mcimage, axis=0)\n",
    "        write_fits(outdir+fits_irc[i]+'_unc', hdr, unc, wvl)"
   ]
  }
 ],
 "metadata": {
  "kernelspec": {
   "display_name": "Python 3 (ipykernel)",
   "language": "python",
   "name": "python3"
  },
  "language_info": {
   "codemirror_mode": {
    "name": "ipython",
    "version": 3
   },
   "file_extension": ".py",
   "mimetype": "text/x-python",
   "name": "python",
   "nbconvert_exporter": "python",
   "pygments_lexer": "ipython3",
   "version": "3.10.4"
  }
 },
 "nbformat": 4,
 "nbformat_minor": 5
}

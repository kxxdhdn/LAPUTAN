{
 "cells": [
  {
   "cell_type": "markdown",
   "id": "d78d7f97",
   "metadata": {},
   "source": [
    "# rapyuta.instr\n",
    "- [photometry_profile](#photometry_profile)"
   ]
  },
  {
   "cell_type": "code",
   "execution_count": 1,
   "id": "f5e32ecf",
   "metadata": {},
   "outputs": [
    {
     "name": "stdout",
     "output_type": "stream",
     "text": [
      "\u001b[1m\u001b[31m \u001b[0m\u001b[1m\u001b[44m\u001b[31m \u001b[5m                                                                             \u001b[0m\u001b[1m\u001b[31m \u001b[0m\n",
      "\u001b[1m\u001b[31m \u001b[0m\u001b[1m\u001b[44m\u001b[31m \u001b[5m                                 \\  \\|/  /                                   \u001b[0m\u001b[1m\u001b[31m \u001b[0m\n",
      "\u001b[1m\u001b[31m \u001b[0m\u001b[1m\u001b[44m\u001b[31m \u001b[5m                              \\ _\\_ ||| _/_ /                                \u001b[0m\u001b[1m\u001b[31m \u001b[0m\n",
      "\u001b[1m\u001b[31m \u001b[0m\u001b[1m\u001b[44m\u001b[31m \u001b[5m                                    |||                                      \u001b[0m\u001b[1m\u001b[31m \u001b[0m\n",
      "\u001b[1m\u001b[31m \u001b[0m\u001b[1m\u001b[44m\u001b[31m \u001b[5m                                /\\/-/|\\-\\/\\                                  \u001b[0m\u001b[1m\u001b[31m \u001b[0m\n",
      "\u001b[1m\u001b[31m \u001b[0m\u001b[1m\u001b[44m\u001b[31m \u001b[5m                            _ | _M_ _|_ _M_ | _                              \u001b[0m\u001b[1m\u001b[31m \u001b[0m\n",
      "\u001b[1m\u001b[31m \u001b[0m\u001b[1m\u001b[44m\u001b[31m \u001b[5m                          / .~.    _ ^ _    .~. \\                            \u001b[0m\u001b[1m\u001b[31m \u001b[0m\n",
      "\u001b[1m\u001b[31m \u001b[0m\u001b[1m\u001b[44m\u001b[31m \u001b[5m                         |_|_0_|  |_&_&_|  |_0_|_|                           \u001b[0m\u001b[1m\u001b[31m \u001b[0m\n",
      "\u001b[1m\u001b[31m \u001b[0m\u001b[1m\u001b[44m\u001b[31m \u001b[5m                        //    .~.    o    .~.    \\\\                          \u001b[0m\u001b[1m\u001b[31m \u001b[0m\n",
      "\u001b[1m\u001b[31m \u001b[0m\u001b[1m\u001b[44m\u001b[31m \u001b[5m                       |_M_ _|_?_|__[_]__|_?_|_ _M_|                         \u001b[0m\u001b[1m\u001b[31m \u001b[0m\n",
      "\u001b[1m\u001b[31m \u001b[0m\u001b[1m\u001b[44m\u001b[31m \u001b[5m                              |             |                                \u001b[0m\u001b[1m\u001b[31m \u001b[0m\n",
      "\u001b[1m\u001b[31m \u001b[0m\u001b[1m\u001b[44m\u001b[31m \u001b[5m                               \\  rapyuta  /                                 \u001b[0m\u001b[1m\u001b[31m \u001b[0m\n",
      "\u001b[1m\u001b[31m \u001b[0m\u001b[1m\u001b[44m\u001b[31m \u001b[5m                                 \\       /         _                         \u001b[0m\u001b[1m\u001b[31m \u001b[0m\n",
      "\u001b[1m\u001b[31m \u001b[0m\u001b[1m\u001b[44m\u001b[31m \u001b[5m                      * ¨^  .~       =           ~^' _-                      \u001b[0m\u001b[1m\u001b[31m \u001b[0m\n",
      "\u001b[1m\u001b[31m \u001b[0m\u001b[1m\u001b[44m\u001b[31m \u001b[5m                        ~ °                                                  \u001b[0m\u001b[1m\u001b[31m \u001b[0m\n",
      "\u001b[1m\u001b[31m \u001b[0m\u001b[1m\u001b[44m\u001b[31m \u001b[5m                                                                             \u001b[0m\u001b[1m\u001b[31m \u001b[0m\n",
      "\u001b[1m\u001b[31m \u001b[0m\u001b[1m\u001b[44m\u001b[31m \u001b[5m                          Version 2.2.2 (20220822)                           \u001b[0m\u001b[1m\u001b[31m \u001b[0m\n",
      " \u001b[1m\u001b[44m\u001b[31m                                                                              \u001b[0m\n",
      "\n"
     ]
    },
    {
     "ename": "ImportError",
     "evalue": "cannot import name '_utils' from partially initialized module 'rapyuta.plots' (most likely due to a circular import) (/Users/dhu/Github/RAPYUTA/rapyuta/plots/__init__.py)",
     "output_type": "error",
     "traceback": [
      "\u001b[0;31m---------------------------------------------------------------------------\u001b[0m",
      "\u001b[0;31mImportError\u001b[0m                               Traceback (most recent call last)",
      "Input \u001b[0;32mIn [1]\u001b[0m, in \u001b[0;36m<cell line: 17>\u001b[0;34m()\u001b[0m\n\u001b[1;32m     15\u001b[0m \u001b[38;5;28;01mimport\u001b[39;00m \u001b[38;5;21;01mrapyuta\u001b[39;00m\u001b[38;5;21;01m.\u001b[39;00m\u001b[38;5;21;01mutbox\u001b[39;00m \u001b[38;5;28;01mas\u001b[39;00m \u001b[38;5;21;01mUT\u001b[39;00m\n\u001b[1;32m     16\u001b[0m \u001b[38;5;28;01mfrom\u001b[39;00m \u001b[38;5;21;01mrapyuta\u001b[39;00m\u001b[38;5;21;01m.\u001b[39;00m\u001b[38;5;21;01minout\u001b[39;00m \u001b[38;5;28;01mimport\u001b[39;00m read_hdf5, fitsext, h5ext\n\u001b[0;32m---> 17\u001b[0m \u001b[38;5;28;01mfrom\u001b[39;00m \u001b[38;5;21;01mrapyuta\u001b[39;00m\u001b[38;5;21;01m.\u001b[39;00m\u001b[38;5;21;01mplots\u001b[39;00m \u001b[38;5;28;01mimport\u001b[39;00m plotool, pplot\n\u001b[1;32m     18\u001b[0m \u001b[38;5;28;01mfrom\u001b[39;00m \u001b[38;5;21;01mrapyuta\u001b[39;00m\u001b[38;5;21;01m.\u001b[39;00m\u001b[38;5;21;01minstr\u001b[39;00m \u001b[38;5;28;01mimport\u001b[39;00m (\n\u001b[1;32m     19\u001b[0m     intercalib, photometry_profile,\n\u001b[1;32m     20\u001b[0m )\n\u001b[1;32m     22\u001b[0m get_ipython()\u001b[38;5;241m.\u001b[39mrun_line_magic(\u001b[38;5;124m'\u001b[39m\u001b[38;5;124mmatplotlib\u001b[39m\u001b[38;5;124m'\u001b[39m, \u001b[38;5;124m'\u001b[39m\u001b[38;5;124minline\u001b[39m\u001b[38;5;124m'\u001b[39m)\n",
      "File \u001b[0;32m~/Github/RAPYUTA/rapyuta/plots/__init__.py:51\u001b[0m, in \u001b[0;36m<module>\u001b[0;34m\u001b[0m\n\u001b[1;32m      1\u001b[0m \u001b[38;5;66;03m# Licensed under a 3-clause BSD style license - see LICENSE\u001b[39;00m\n\u001b[1;32m      3\u001b[0m \u001b[38;5;124;03m\"\"\"\u001b[39;00m\n\u001b[1;32m      4\u001b[0m \u001b[38;5;124;03mVisualization\u001b[39;00m\n\u001b[1;32m      5\u001b[0m \n\u001b[0;32m   (...)\u001b[0m\n\u001b[1;32m     48\u001b[0m \u001b[38;5;124;03m‘w’     white\u001b[39;00m\n\u001b[1;32m     49\u001b[0m \u001b[38;5;124;03m\"\"\"\u001b[39;00m\n\u001b[0;32m---> 51\u001b[0m \u001b[38;5;28;01mfrom\u001b[39;00m \u001b[38;5;21;01m.\u001b[39;00m\u001b[38;5;21;01mplots\u001b[39;00m \u001b[38;5;28;01mimport\u001b[39;00m \u001b[38;5;241m*\u001b[39m\n\u001b[1;32m     52\u001b[0m \u001b[38;5;28;01mfrom\u001b[39;00m \u001b[38;5;21;01m.\u001b[39;00m\u001b[38;5;21;01mutils\u001b[39;00m \u001b[38;5;28;01mimport\u001b[39;00m \u001b[38;5;241m*\u001b[39m\n",
      "File \u001b[0;32m~/Github/RAPYUTA/rapyuta/plots/plots.py:21\u001b[0m, in \u001b[0;36m<module>\u001b[0;34m\u001b[0m\n\u001b[1;32m     19\u001b[0m \u001b[38;5;28;01mimport\u001b[39;00m \u001b[38;5;21;01mutbox\u001b[39;00m \u001b[38;5;28;01mas\u001b[39;00m \u001b[38;5;21;01mUT\u001b[39;00m\n\u001b[1;32m     20\u001b[0m \u001b[38;5;28;01mimport\u001b[39;00m \u001b[38;5;21;01mlatte\u001b[39;00m \u001b[38;5;28;01mas\u001b[39;00m \u001b[38;5;21;01mLA\u001b[39;00m\n\u001b[0;32m---> 21\u001b[0m \u001b[38;5;28;01mfrom\u001b[39;00m \u001b[38;5;21;01m.\u001b[39;00m \u001b[38;5;28;01mimport\u001b[39;00m _utils\n\u001b[1;32m     24\u001b[0m \u001b[38;5;66;03m##------------------------------------------------\u001b[39;00m\n\u001b[1;32m     25\u001b[0m \u001b[38;5;66;03m##\u001b[39;00m\n\u001b[1;32m     26\u001b[0m \u001b[38;5;66;03m##            <plotutils> based tools\u001b[39;00m\n\u001b[1;32m     27\u001b[0m \u001b[38;5;66;03m##\u001b[39;00m\n\u001b[1;32m     28\u001b[0m \u001b[38;5;66;03m##------------------------------------------------\u001b[39;00m\n\u001b[1;32m     30\u001b[0m \u001b[38;5;28;01mclass\u001b[39;00m \u001b[38;5;21;01mpplot\u001b[39;00m(plotutils):\n",
      "\u001b[0;31mImportError\u001b[0m: cannot import name '_utils' from partially initialized module 'rapyuta.plots' (most likely due to a circular import) (/Users/dhu/Github/RAPYUTA/rapyuta/plots/__init__.py)"
     ]
    }
   ],
   "source": [
    "#!/usr/bin/env python\n",
    "# -*- coding: utf-8 -*-\n",
    "\n",
    "import sys\n",
    "from pathlib import Path\n",
    "import numpy as np\n",
    "\n",
    "## Local\n",
    "try:\n",
    "    root = Path(__file__).parent.absolute() / '..'\n",
    "except NameError:\n",
    "    root = Path().absolute() / '..'\n",
    "sys.path.insert(0, root)\n",
    "\n",
    "import rapyuta.utbox as UT\n",
    "from rapyuta.inout import read_hdf5, fitsext, h5ext\n",
    "from rapyuta.plots import plotool, pplot\n",
    "from rapyuta.instr import (\n",
    "    intercalib, photometry_profile,\n",
    ")\n",
    "\n",
    "%matplotlib inline\n",
    "\n",
    "## fold inputs\n",
    "# UT.codefold(True, 'onclick')"
   ]
  },
  {
   "cell_type": "code",
   "execution_count": null,
   "id": "573a926a",
   "metadata": {},
   "outputs": [],
   "source": []
  },
  {
   "cell_type": "markdown",
   "id": "17b835c1",
   "metadata": {},
   "source": [
    "## photometry_profile"
   ]
  },
  {
   "cell_type": "code",
   "execution_count": null,
   "id": "df4a1571",
   "metadata": {},
   "outputs": [],
   "source": []
  }
 ],
 "metadata": {
  "kernelspec": {
   "display_name": "Python 3 (ipykernel)",
   "language": "python",
   "name": "python3"
  },
  "language_info": {
   "codemirror_mode": {
    "name": "ipython",
    "version": 3
   },
   "file_extension": ".py",
   "mimetype": "text/x-python",
   "name": "python",
   "nbconvert_exporter": "python",
   "pygments_lexer": "ipython3",
   "version": "3.10.4"
  }
 },
 "nbformat": 4,
 "nbformat_minor": 5
}

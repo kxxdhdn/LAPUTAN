{
 "cells": [
  {
   "cell_type": "markdown",
   "id": "dac50e69",
   "metadata": {},
   "source": [
    "# rapyuta.utbox\n",
    "- [Classes and parameters](#Classes-and-parameters)\n",
    "- Error\n",
    "- [InputError(Error)](#InputError(Error))\n",
    "- [strike](#strike), streplace_scl, streplace, tcolor, print_text\n",
    "- [merge_aliases](#merge_aliases)\n",
    "- is_different_value\n",
    "- [codefold](#codefold)"
   ]
  },
  {
   "cell_type": "code",
   "execution_count": 1,
   "id": "16ecddbc",
   "metadata": {
    "scrolled": true
   },
   "outputs": [
    {
     "name": "stdout",
     "output_type": "stream",
     "text": [
      "\u001b[1m\u001b[37m \u001b[0m\u001b[1m\u001b[44m\u001b[37m \u001b[5m                                                                             \u001b[0m\u001b[1m\u001b[37m \u001b[0m\n",
      "\u001b[1m\u001b[37m \u001b[0m\u001b[1m\u001b[44m\u001b[37m \u001b[5m                                 \\  \\|/  /                                   \u001b[0m\u001b[1m\u001b[37m \u001b[0m\n",
      "\u001b[1m\u001b[37m \u001b[0m\u001b[1m\u001b[44m\u001b[37m \u001b[5m                              \\ _\\_ ||| _/_ /                                \u001b[0m\u001b[1m\u001b[37m \u001b[0m\n",
      "\u001b[1m\u001b[37m \u001b[0m\u001b[1m\u001b[44m\u001b[37m \u001b[5m                                    |||                                      \u001b[0m\u001b[1m\u001b[37m \u001b[0m\n",
      "\u001b[1m\u001b[37m \u001b[0m\u001b[1m\u001b[44m\u001b[37m \u001b[5m                                /\\/-/|\\-\\/\\                                  \u001b[0m\u001b[1m\u001b[37m \u001b[0m\n",
      "\u001b[1m\u001b[37m \u001b[0m\u001b[1m\u001b[44m\u001b[37m \u001b[5m                            _ | _M_ _|_ _M_ | _                              \u001b[0m\u001b[1m\u001b[37m \u001b[0m\n",
      "\u001b[1m\u001b[37m \u001b[0m\u001b[1m\u001b[44m\u001b[37m \u001b[5m                          / .~.    _ ^ _    .~. \\                            \u001b[0m\u001b[1m\u001b[37m \u001b[0m\n",
      "\u001b[1m\u001b[37m \u001b[0m\u001b[1m\u001b[44m\u001b[37m \u001b[5m                         |_|_0_|  |_&_&_|  |_0_|_|                           \u001b[0m\u001b[1m\u001b[37m \u001b[0m\n",
      "\u001b[1m\u001b[37m \u001b[0m\u001b[1m\u001b[44m\u001b[37m \u001b[5m                        //    .~.    o    .~.    \\\\                          \u001b[0m\u001b[1m\u001b[37m \u001b[0m\n",
      "\u001b[1m\u001b[37m \u001b[0m\u001b[1m\u001b[44m\u001b[37m \u001b[5m                       |_M_ _|_?_|__[_]__|_?_|_ _M_|                         \u001b[0m\u001b[1m\u001b[37m \u001b[0m\n",
      "\u001b[1m\u001b[37m \u001b[0m\u001b[1m\u001b[44m\u001b[37m \u001b[5m                              |             |                                \u001b[0m\u001b[1m\u001b[37m \u001b[0m\n",
      "\u001b[1m\u001b[37m \u001b[0m\u001b[1m\u001b[44m\u001b[37m \u001b[5m                               \\  rapyuta  /                                 \u001b[0m\u001b[1m\u001b[37m \u001b[0m\n",
      "\u001b[1m\u001b[37m \u001b[0m\u001b[1m\u001b[44m\u001b[37m \u001b[5m                                 \\       /         _                         \u001b[0m\u001b[1m\u001b[37m \u001b[0m\n",
      "\u001b[1m\u001b[37m \u001b[0m\u001b[1m\u001b[44m\u001b[37m \u001b[5m                      * ¨^  .~       =           ~^' _-                      \u001b[0m\u001b[1m\u001b[37m \u001b[0m\n",
      "\u001b[1m\u001b[37m \u001b[0m\u001b[1m\u001b[44m\u001b[37m \u001b[5m                        ~ °                                                  \u001b[0m\u001b[1m\u001b[37m \u001b[0m\n",
      "\u001b[1m\u001b[37m \u001b[0m\u001b[1m\u001b[44m\u001b[37m \u001b[5m                                                                             \u001b[0m\u001b[1m\u001b[37m \u001b[0m\n",
      "\u001b[1m\u001b[37m \u001b[0m\u001b[1m\u001b[44m\u001b[37m \u001b[5m                          Version 2.2.2 (20220822)                           \u001b[0m\u001b[1m\u001b[37m \u001b[0m\n",
      " \u001b[1m\u001b[44m\u001b[37m                                                                              \u001b[0m\n",
      "\n"
     ]
    }
   ],
   "source": [
    "#!/usr/bin/env python\n",
    "# -*- coding: utf-8 -*-\n",
    "\n",
    "import sys, logging\n",
    "from pathlib import Path\n",
    "from pprint import pprint\n",
    "\n",
    "# logging.disable(sys.maxsize)\n",
    "\n",
    "## Local\n",
    "import rapyuta.utbox as UT"
   ]
  },
  {
   "cell_type": "markdown",
   "id": "664edf72",
   "metadata": {},
   "source": [
    "## codefold"
   ]
  },
  {
   "cell_type": "code",
   "execution_count": 2,
   "id": "1f54faae",
   "metadata": {},
   "outputs": [
    {
     "name": "stdout",
     "output_type": "stream",
     "text": [
      "Toggle to show/hide all input cells. \n",
      "\n",
      "Counterpart of Jupyter menu : Cell > All Output > Toggle\n"
     ]
    },
    {
     "data": {
      "text/html": [
       "\n",
       "    <script>code_show=true; \n",
       "    function code_toggle() {\n",
       "        if (code_show){\n",
       "        $('div.input').hide();\n",
       "        } else {\n",
       "        $('div.input').show();\n",
       "        }\n",
       "        code_show = !code_show\n",
       "    } \n",
       "    $( document ).ready(code_toggle);\n",
       "    </script> \n",
       "        <p>The raw code for this IPython notebook is by default hidden for easier reading. \n",
       "        To toggle on/off the raw code, click the button below.\n",
       "        <p></p> \n",
       "        <button type=\"button\" onclick=\"code_toggle(document.getElementById('hide'))\">\n",
       "        Show/hide inputs\n",
       "        </button> "
      ],
      "text/plain": [
       "<IPython.core.display.HTML object>"
      ]
     },
     "metadata": {},
     "output_type": "display_data"
    }
   ],
   "source": [
    "print('Toggle to show/hide all input cells. \\n')\n",
    "print('Counterpart of Jupyter menu : Cell > All Output > Toggle')\n",
    "UT.codefold(True, 'onclick')"
   ]
  },
  {
   "cell_type": "markdown",
   "id": "c748e1f8",
   "metadata": {},
   "source": [
    "## Classes and parameters"
   ]
  },
  {
   "cell_type": "code",
   "execution_count": null,
   "id": "38fb7377",
   "metadata": {},
   "outputs": [],
   "source": [
    "s1 = ''\n",
    "print(isinstance(UT.url(s1),url))\n",
    "print('\\n')\n",
    "s2 = ''\n",
    "print(isinstance(UT.url(s2),url))"
   ]
  },
  {
   "cell_type": "code",
   "execution_count": 1,
   "id": "0a99a49f",
   "metadata": {},
   "outputs": [
    {
     "ename": "NameError",
     "evalue": "name 'UT' is not defined",
     "output_type": "error",
     "traceback": [
      "\u001b[0;31m---------------------------------------------------------------------------\u001b[0m",
      "\u001b[0;31mNameError\u001b[0m                                 Traceback (most recent call last)",
      "Input \u001b[0;32mIn [1]\u001b[0m, in \u001b[0;36m<cell line: 1>\u001b[0;34m()\u001b[0m\n\u001b[0;32m----> 1\u001b[0m \u001b[38;5;28mprint\u001b[39m(\u001b[43mUT\u001b[49m\u001b[38;5;241m.\u001b[39mterm_width)\n",
      "\u001b[0;31mNameError\u001b[0m: name 'UT' is not defined"
     ]
    }
   ],
   "source": [
    "print(UT.term_width)"
   ]
  },
  {
   "cell_type": "markdown",
   "id": "8edabf81",
   "metadata": {},
   "source": [
    "## merge_aliases"
   ]
  },
  {
   "cell_type": "code",
   "execution_count": 4,
   "id": "99c0c5a4",
   "metadata": {},
   "outputs": [
    {
     "name": "stdout",
     "output_type": "stream",
     "text": [
      "Position is: 7\n",
      "Position is: 9\n"
     ]
    }
   ],
   "source": [
    "def putfoo(bar, position=None, pos=None):\n",
    "    pos = UT.merge_aliases(None, position=position, pos=pos)\n",
    "    print('Position is:', repr(pos))\n",
    "    \n",
    "putfoo('hello', position=7)\n",
    "putfoo('hello', pos=9)\n",
    "# putfoo('hello', position= 11, pos=13) # InputError"
   ]
  },
  {
   "cell_type": "markdown",
   "id": "8c504291",
   "metadata": {},
   "source": [
    "## InputError(Error)"
   ]
  },
  {
   "cell_type": "code",
   "execution_count": 5,
   "id": "e34ce654",
   "metadata": {},
   "outputs": [],
   "source": [
    "# raise UT.InputError('expression', 'message')"
   ]
  },
  {
   "cell_type": "markdown",
   "id": "5667f11e",
   "metadata": {},
   "source": [
    "## strike"
   ]
  },
  {
   "cell_type": "code",
   "execution_count": 6,
   "id": "d0929ca8",
   "metadata": {
    "scrolled": false
   },
   "outputs": [
    {
     "name": "stdout",
     "output_type": "stream",
     "text": [
      "\u001b[1m\u001b[32m \u001b[0m\u001b[1m\u001b[40m\u001b[32m \u001b[5m _______  _______  __   __  _______    _______  __   __  _______  ______     \u001b[0m\u001b[1m\u001b[32m \u001b[0m\n",
      "\u001b[1m\u001b[32m \u001b[0m\u001b[1m\u001b[40m\u001b[32m \u001b[5m|       ||   _   ||  |_|  ||       |  |       ||  | |  ||       ||    _ |    \u001b[0m\u001b[1m\u001b[32m \u001b[0m\n",
      "\u001b[1m\u001b[32m \u001b[0m\u001b[1m\u001b[40m\u001b[32m \u001b[5m|    ___||  |_|  ||       ||    ___|  |   _   ||  |_|  ||    ___||   | ||    \u001b[0m\u001b[1m\u001b[32m \u001b[0m\n",
      "\u001b[1m\u001b[32m \u001b[0m\u001b[1m\u001b[40m\u001b[32m \u001b[5m|   | __ |       ||       ||   |___   |  | |  ||       ||   |___ |   |_||_   \u001b[0m\u001b[1m\u001b[32m \u001b[0m\n",
      "\u001b[1m\u001b[32m \u001b[0m\u001b[1m\u001b[40m\u001b[32m \u001b[5m|   ||  ||       ||       ||    ___|  |  |_|  ||       ||    ___||    __  |  \u001b[0m\u001b[1m\u001b[32m \u001b[0m\n",
      "\u001b[1m\u001b[32m \u001b[0m\u001b[1m\u001b[40m\u001b[32m \u001b[5m|   |_| ||   _   || ||_|| ||   |___   |       | |     | |   |___ |   |  | |  \u001b[0m\u001b[1m\u001b[32m \u001b[0m\n",
      "\u001b[1m\u001b[32m \u001b[0m\u001b[1m\u001b[40m\u001b[32m \u001b[5m|_______||__| |__||_|   |_||_______|  |_______|  |___|  |_______||___|  |_|  \u001b[0m\u001b[1m\u001b[32m \u001b[0m\n",
      "\u001b[1m\u001b[32m \u001b[0m\u001b[1m\u001b[40m\u001b[32m \u001b[5m                                                                             \u001b[0m\u001b[1m\u001b[32m \u001b[0m\n",
      "\u001b[1m\u001b[32m \u001b[0m\u001b[1m\u001b[40m\u001b[32m \u001b[5m                                                                             \u001b[0m\u001b[1m\u001b[32m \u001b[0m\n",
      "\u001b[1m\u001b[32m \u001b[0m\u001b[1m\u001b[40m\u001b[32m \u001b[5m                           ***   INSERT COIN   ***                           \u001b[0m\u001b[1m\u001b[32m \u001b[0m\n",
      " \u001b[1m\u001b[40m\u001b[32m                                                                              \u001b[0m\n",
      "\n"
     ]
    },
    {
     "ename": "Error",
     "evalue": "<strike> went on strike: strike is on strike.",
     "output_type": "error",
     "traceback": [
      "\u001b[0;31m---------------------------------------------------------------------------\u001b[0m",
      "\u001b[0;31mError\u001b[0m                                     Traceback (most recent call last)",
      "Input \u001b[0;32mIn [6]\u001b[0m, in \u001b[0;36m<cell line: 1>\u001b[0;34m()\u001b[0m\n\u001b[0;32m----> 1\u001b[0m \u001b[43mUT\u001b[49m\u001b[38;5;241;43m.\u001b[39;49m\u001b[43mstrike\u001b[49m\u001b[43m(\u001b[49m\u001b[38;5;124;43m'\u001b[39;49m\u001b[38;5;124;43mstrike\u001b[39;49m\u001b[38;5;124;43m'\u001b[39;49m\u001b[43m,\u001b[49m\u001b[43m \u001b[49m\u001b[38;5;124;43m'\u001b[39;49m\u001b[38;5;124;43mstrike is on strike.\u001b[39;49m\u001b[38;5;124;43m'\u001b[39;49m\u001b[43m)\u001b[49m\n",
      "File \u001b[0;32m~/Github/RAPYUTA/rapyuta/utbox.py:130\u001b[0m, in \u001b[0;36mstrike\u001b[0;34m(proc, why, cat)\u001b[0m\n\u001b[1;32m    128\u001b[0m     \u001b[38;5;28;01mraise\u001b[39;00m InputError(\u001b[38;5;124m'\u001b[39m\u001b[38;5;124m<\u001b[39m\u001b[38;5;124m'\u001b[39m\u001b[38;5;241m+\u001b[39mproc\u001b[38;5;241m+\u001b[39m\u001b[38;5;124m'\u001b[39m\u001b[38;5;124m>\u001b[39m\u001b[38;5;124m'\u001b[39m, why)\n\u001b[1;32m    129\u001b[0m \u001b[38;5;28;01melse\u001b[39;00m:\n\u001b[0;32m--> 130\u001b[0m     \u001b[38;5;28;01mraise\u001b[39;00m Error(\u001b[38;5;124m'\u001b[39m\u001b[38;5;124m<\u001b[39m\u001b[38;5;124m'\u001b[39m\u001b[38;5;241m+\u001b[39mproc\u001b[38;5;241m+\u001b[39m\u001b[38;5;124m'\u001b[39m\u001b[38;5;124m> went on strike: \u001b[39m\u001b[38;5;124m'\u001b[39m\u001b[38;5;241m+\u001b[39mwhy)\n",
      "\u001b[0;31mError\u001b[0m: <strike> went on strike: strike is on strike."
     ]
    }
   ],
   "source": [
    "UT.strike('strike', 'strike is on strike.')"
   ]
  }
 ],
 "metadata": {
  "kernelspec": {
   "display_name": "Python 3 (ipykernel)",
   "language": "python",
   "name": "python3"
  },
  "language_info": {
   "codemirror_mode": {
    "name": "ipython",
    "version": 3
   },
   "file_extension": ".py",
   "mimetype": "text/x-python",
   "name": "python",
   "nbconvert_exporter": "python",
   "pygments_lexer": "ipython3",
   "version": "3.10.4"
  }
 },
 "nbformat": 4,
 "nbformat_minor": 5
}

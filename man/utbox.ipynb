{
 "cells": [
  {
   "cell_type": "markdown",
   "id": "dac50e69",
   "metadata": {},
   "source": [
    "# rapyuta.utbox\n",
    "- [Parameters](#Parameters)\n",
    "- Error\n",
    "- [InputError(Error)](#InputError(Error))\n",
    "- [strike](#strike), streplace_scl, streplace, tcolor, print_text\n",
    "- [getcfd](#Current-file-path)\n",
    "- [merge_aliases](#merge_aliases)\n",
    "- is_different_value\n",
    "- [codefold](#codefold)"
   ]
  },
  {
   "cell_type": "code",
   "execution_count": 1,
   "id": "16ecddbc",
   "metadata": {
    "scrolled": true
   },
   "outputs": [
    {
     "name": "stdout",
     "output_type": "stream",
     "text": [
      "\u001b[1m\u001b[31m \u001b[0m\u001b[1m\u001b[45m\u001b[31m \u001b[5m                                                                             \u001b[0m\u001b[1m\u001b[31m \u001b[0m\n",
      "\u001b[1m\u001b[31m \u001b[0m\u001b[1m\u001b[45m\u001b[31m \u001b[5m                                 \\  \\|/  /                                   \u001b[0m\u001b[1m\u001b[31m \u001b[0m\n",
      "\u001b[1m\u001b[31m \u001b[0m\u001b[1m\u001b[45m\u001b[31m \u001b[5m                              \\ _\\_ ||| _/_ /                                \u001b[0m\u001b[1m\u001b[31m \u001b[0m\n",
      "\u001b[1m\u001b[31m \u001b[0m\u001b[1m\u001b[45m\u001b[31m \u001b[5m                                    |||                                      \u001b[0m\u001b[1m\u001b[31m \u001b[0m\n",
      "\u001b[1m\u001b[31m \u001b[0m\u001b[1m\u001b[45m\u001b[31m \u001b[5m                                /\\/-/|\\-\\/\\                                  \u001b[0m\u001b[1m\u001b[31m \u001b[0m\n",
      "\u001b[1m\u001b[31m \u001b[0m\u001b[1m\u001b[45m\u001b[31m \u001b[5m                            _ | _M_ _|_ _M_ | _                              \u001b[0m\u001b[1m\u001b[31m \u001b[0m\n",
      "\u001b[1m\u001b[31m \u001b[0m\u001b[1m\u001b[45m\u001b[31m \u001b[5m                          / .~.    _ ^ _    .~. \\                            \u001b[0m\u001b[1m\u001b[31m \u001b[0m\n",
      "\u001b[1m\u001b[31m \u001b[0m\u001b[1m\u001b[45m\u001b[31m \u001b[5m                         |_|_0_|  |_&_&_|  |_0_|_|                           \u001b[0m\u001b[1m\u001b[31m \u001b[0m\n",
      "\u001b[1m\u001b[31m \u001b[0m\u001b[1m\u001b[45m\u001b[31m \u001b[5m                        //    .~.    o    .~.    \\\\                          \u001b[0m\u001b[1m\u001b[31m \u001b[0m\n",
      "\u001b[1m\u001b[31m \u001b[0m\u001b[1m\u001b[45m\u001b[31m \u001b[5m                       |_M_ _|_?_|__[_]__|_?_|_ _M_|                         \u001b[0m\u001b[1m\u001b[31m \u001b[0m\n",
      "\u001b[1m\u001b[31m \u001b[0m\u001b[1m\u001b[45m\u001b[31m \u001b[5m                              |             |                                \u001b[0m\u001b[1m\u001b[31m \u001b[0m\n",
      "\u001b[1m\u001b[31m \u001b[0m\u001b[1m\u001b[45m\u001b[31m \u001b[5m                               \\  rapyuta  /                                 \u001b[0m\u001b[1m\u001b[31m \u001b[0m\n",
      "\u001b[1m\u001b[31m \u001b[0m\u001b[1m\u001b[45m\u001b[31m \u001b[5m                                 \\       /         _                         \u001b[0m\u001b[1m\u001b[31m \u001b[0m\n",
      "\u001b[1m\u001b[31m \u001b[0m\u001b[1m\u001b[45m\u001b[31m \u001b[5m                      * ¨^  .~       =           ~^' _-                      \u001b[0m\u001b[1m\u001b[31m \u001b[0m\n",
      "\u001b[1m\u001b[31m \u001b[0m\u001b[1m\u001b[45m\u001b[31m \u001b[5m                        ~ °                                                  \u001b[0m\u001b[1m\u001b[31m \u001b[0m\n",
      "\u001b[1m\u001b[31m \u001b[0m\u001b[1m\u001b[45m\u001b[31m \u001b[5m                                                                             \u001b[0m\u001b[1m\u001b[31m \u001b[0m\n",
      "\u001b[1m\u001b[31m \u001b[0m\u001b[1m\u001b[45m\u001b[31m \u001b[5m                          Version 2.2.2 (20220822)                           \u001b[0m\u001b[1m\u001b[31m \u001b[0m\n",
      " \u001b[1m\u001b[45m\u001b[31m                                                                              \u001b[0m\n",
      "\n"
     ]
    }
   ],
   "source": [
    "#!/usr/bin/env python\n",
    "# -*- coding: utf-8 -*-\n",
    "\n",
    "import sys, os, logging, inspect\n",
    "from pathlib import Path\n",
    "from pprint import pprint\n",
    "\n",
    "# logging.disable(sys.maxsize)\n",
    "\n",
    "## Local\n",
    "import rapyuta.utbox as UT"
   ]
  },
  {
   "cell_type": "markdown",
   "id": "664edf72",
   "metadata": {},
   "source": [
    "## codefold"
   ]
  },
  {
   "cell_type": "code",
   "execution_count": 2,
   "id": "1f54faae",
   "metadata": {},
   "outputs": [
    {
     "name": "stdout",
     "output_type": "stream",
     "text": [
      "Toggle to show/hide all input cells. \n",
      "\n",
      "Counterpart of Jupyter menu : Cell > All Output > Toggle\n"
     ]
    },
    {
     "data": {
      "text/html": [
       "\n",
       "    <script>code_show=true; \n",
       "    function code_toggle() {\n",
       "        if (code_show){\n",
       "        $('div.input').hide();\n",
       "        } else {\n",
       "        $('div.input').show();\n",
       "        }\n",
       "        code_show = !code_show\n",
       "    } \n",
       "    $( document ).ready(code_toggle);\n",
       "    </script> \n",
       "        <p>The raw code for this IPython notebook is by default hidden for easier reading. \n",
       "        To toggle on/off the raw code, click the button below.\n",
       "        <p></p> \n",
       "        <button type=\"button\" onclick=\"code_toggle(document.getElementById('hide'))\">\n",
       "        Show/hide inputs\n",
       "        </button> "
      ],
      "text/plain": [
       "<IPython.core.display.HTML object>"
      ]
     },
     "metadata": {},
     "output_type": "display_data"
    }
   ],
   "source": [
    "print('Toggle to show/hide all input cells. \\n')\n",
    "print('Counterpart of Jupyter menu : Cell > All Output > Toggle')\n",
    "UT.codefold(True, 'onclick')"
   ]
  },
  {
   "cell_type": "markdown",
   "id": "c748e1f8",
   "metadata": {},
   "source": [
    "## Parameters"
   ]
  },
  {
   "cell_type": "code",
   "execution_count": 3,
   "id": "0a99a49f",
   "metadata": {},
   "outputs": [
    {
     "name": "stdout",
     "output_type": "stream",
     "text": [
      "80\n"
     ]
    }
   ],
   "source": [
    "print(UT.term_width)"
   ]
  },
  {
   "cell_type": "markdown",
   "id": "8edabf81",
   "metadata": {},
   "source": [
    "## merge_aliases"
   ]
  },
  {
   "cell_type": "code",
   "execution_count": 4,
   "id": "99c0c5a4",
   "metadata": {},
   "outputs": [
    {
     "name": "stdout",
     "output_type": "stream",
     "text": [
      "Position is: 7\n",
      "Position is: 9\n"
     ]
    }
   ],
   "source": [
    "def putfoo(bar, position=None, pos=None):\n",
    "    pos = UT.merge_aliases(None, position=position, pos=pos)\n",
    "    print('Position is:', repr(pos))\n",
    "    \n",
    "putfoo('hello', position=7)\n",
    "putfoo('hello', pos=9)\n",
    "# putfoo('hello', position= 11, pos=13) # InputError"
   ]
  },
  {
   "cell_type": "markdown",
   "id": "8c504291",
   "metadata": {},
   "source": [
    "## InputError(Error)"
   ]
  },
  {
   "cell_type": "code",
   "execution_count": 5,
   "id": "e34ce654",
   "metadata": {},
   "outputs": [],
   "source": [
    "# raise UT.InputError('expression', 'message')"
   ]
  },
  {
   "cell_type": "markdown",
   "id": "5667f11e",
   "metadata": {},
   "source": [
    "## strike"
   ]
  },
  {
   "cell_type": "code",
   "execution_count": 6,
   "id": "d0929ca8",
   "metadata": {
    "scrolled": false
   },
   "outputs": [
    {
     "name": "stdout",
     "output_type": "stream",
     "text": [
      "\u001b[1m\u001b[32m \u001b[0m\u001b[1m\u001b[41m\u001b[32m \u001b[5m _______  _______  __   __  _______    _______  __   __  _______  ______     \u001b[0m\u001b[1m\u001b[32m \u001b[0m\n",
      "\u001b[1m\u001b[32m \u001b[0m\u001b[1m\u001b[41m\u001b[32m \u001b[5m|       ||   _   ||  |_|  ||       |  |       ||  | |  ||       ||    _ |    \u001b[0m\u001b[1m\u001b[32m \u001b[0m\n",
      "\u001b[1m\u001b[32m \u001b[0m\u001b[1m\u001b[41m\u001b[32m \u001b[5m|    ___||  |_|  ||       ||    ___|  |   _   ||  |_|  ||    ___||   | ||    \u001b[0m\u001b[1m\u001b[32m \u001b[0m\n",
      "\u001b[1m\u001b[32m \u001b[0m\u001b[1m\u001b[41m\u001b[32m \u001b[5m|   | __ |       ||       ||   |___   |  | |  ||       ||   |___ |   |_||_   \u001b[0m\u001b[1m\u001b[32m \u001b[0m\n",
      "\u001b[1m\u001b[32m \u001b[0m\u001b[1m\u001b[41m\u001b[32m \u001b[5m|   ||  ||       ||       ||    ___|  |  |_|  ||       ||    ___||    __  |  \u001b[0m\u001b[1m\u001b[32m \u001b[0m\n",
      "\u001b[1m\u001b[32m \u001b[0m\u001b[1m\u001b[41m\u001b[32m \u001b[5m|   |_| ||   _   || ||_|| ||   |___   |       | |     | |   |___ |   |  | |  \u001b[0m\u001b[1m\u001b[32m \u001b[0m\n",
      "\u001b[1m\u001b[32m \u001b[0m\u001b[1m\u001b[41m\u001b[32m \u001b[5m|_______||__| |__||_|   |_||_______|  |_______|  |___|  |_______||___|  |_|  \u001b[0m\u001b[1m\u001b[32m \u001b[0m\n",
      "\u001b[1m\u001b[32m \u001b[0m\u001b[1m\u001b[41m\u001b[32m \u001b[5m                                                                             \u001b[0m\u001b[1m\u001b[32m \u001b[0m\n",
      "\u001b[1m\u001b[32m \u001b[0m\u001b[1m\u001b[41m\u001b[32m \u001b[5m                                                                             \u001b[0m\u001b[1m\u001b[32m \u001b[0m\n",
      "\u001b[1m\u001b[32m \u001b[0m\u001b[1m\u001b[41m\u001b[32m \u001b[5m                           ***   INSERT COIN   ***                           \u001b[0m\u001b[1m\u001b[32m \u001b[0m\n",
      " \u001b[1m\u001b[41m\u001b[32m                                                                              \u001b[0m\n",
      "\n"
     ]
    },
    {
     "ename": "Error",
     "evalue": "<strike> went on strike: strike is on strike.",
     "output_type": "error",
     "traceback": [
      "\u001b[0;31m---------------------------------------------------------------------------\u001b[0m",
      "\u001b[0;31mError\u001b[0m                                     Traceback (most recent call last)",
      "Input \u001b[0;32mIn [6]\u001b[0m, in \u001b[0;36m<cell line: 1>\u001b[0;34m()\u001b[0m\n\u001b[0;32m----> 1\u001b[0m \u001b[43mUT\u001b[49m\u001b[38;5;241;43m.\u001b[39;49m\u001b[43mstrike\u001b[49m\u001b[43m(\u001b[49m\u001b[38;5;124;43m'\u001b[39;49m\u001b[38;5;124;43mstrike\u001b[39;49m\u001b[38;5;124;43m'\u001b[39;49m\u001b[43m,\u001b[49m\u001b[43m \u001b[49m\u001b[38;5;124;43m'\u001b[39;49m\u001b[38;5;124;43mstrike is on strike.\u001b[39;49m\u001b[38;5;124;43m'\u001b[39;49m\u001b[43m)\u001b[49m\n",
      "File \u001b[0;32m~/Github/RAPYUTA/rapyuta/utbox.py:129\u001b[0m, in \u001b[0;36mstrike\u001b[0;34m(proc, why, cat)\u001b[0m\n\u001b[1;32m    127\u001b[0m     \u001b[38;5;28;01mraise\u001b[39;00m InputError(\u001b[38;5;124m'\u001b[39m\u001b[38;5;124m<\u001b[39m\u001b[38;5;124m'\u001b[39m\u001b[38;5;241m+\u001b[39mproc\u001b[38;5;241m+\u001b[39m\u001b[38;5;124m'\u001b[39m\u001b[38;5;124m>\u001b[39m\u001b[38;5;124m'\u001b[39m, why)\n\u001b[1;32m    128\u001b[0m \u001b[38;5;28;01melse\u001b[39;00m:\n\u001b[0;32m--> 129\u001b[0m     \u001b[38;5;28;01mraise\u001b[39;00m Error(\u001b[38;5;124m'\u001b[39m\u001b[38;5;124m<\u001b[39m\u001b[38;5;124m'\u001b[39m\u001b[38;5;241m+\u001b[39mproc\u001b[38;5;241m+\u001b[39m\u001b[38;5;124m'\u001b[39m\u001b[38;5;124m> went on strike: \u001b[39m\u001b[38;5;124m'\u001b[39m\u001b[38;5;241m+\u001b[39mwhy)\n",
      "\u001b[0;31mError\u001b[0m: <strike> went on strike: strike is on strike."
     ]
    }
   ],
   "source": [
    "UT.strike('strike', 'strike is on strike.')"
   ]
  },
  {
   "cell_type": "markdown",
   "id": "d9435dfd",
   "metadata": {},
   "source": [
    "# System\n",
    "## Path\n",
    "### Current working path"
   ]
  },
  {
   "cell_type": "code",
   "execution_count": 7,
   "id": "126341bf",
   "metadata": {},
   "outputs": [
    {
     "name": "stdout",
     "output_type": "stream",
     "text": [
      "1.  /Users/dhu/Github/RAPYUTA/man\n",
      "2.  /Users/dhu/Github/RAPYUTA/man\n",
      "3.  /Users/dhu/Github/RAPYUTA/man\n",
      "4.  /Users/dhu/Github/RAPYUTA/man\n"
     ]
    }
   ],
   "source": [
    "## 1. pathlib.Path\n",
    "cwd = Path().absolute()\n",
    "print('1. ', cwd)\n",
    "## 2. pathlib.Path\n",
    "cwd = Path().resolve()\n",
    "print('2. ', cwd)\n",
    "\n",
    "## 3. os.getcwd\n",
    "cwd = os.getcwd()\n",
    "print('3. ', cwd)\n",
    "## 4. os.path\n",
    "cwd = os.path.abspath(os.getcwd())\n",
    "print('4. ', cwd)"
   ]
  },
  {
   "cell_type": "markdown",
   "id": "c3621003",
   "metadata": {},
   "source": [
    "### Current file path"
   ]
  },
  {
   "cell_type": "code",
   "execution_count": 8,
   "id": "571e5516",
   "metadata": {},
   "outputs": [
    {
     "name": "stdout",
     "output_type": "stream",
     "text": [
      "1.  /Users/dhu/Github/RAPYUTA/man\n",
      "2.  /Users/dhu/Github/RAPYUTA/man\n",
      "3.1  /var/folders/g2/96dz2zfs6cn9480v0smyms1c84p2qf/T/ipykernel_52554\n"
     ]
    },
    {
     "name": "stderr",
     "output_type": "stream",
     "text": [
      "/Users/dhu/Github/RAPYUTA/rapyuta/utbox.py:384: UserWarning: \"/var/folders/g2/96dz2zfs6cn9480v0smyms1c84p2qf/T/ipykernel_52554/879092026.py\" is either a directory,or is running on Jupyter notebook.For the latter case, try inserting the .ipynb file name.\n",
      "  warnings.warn(f'\"{filename}\" is either a directory,'\n"
     ]
    }
   ],
   "source": [
    "## 1. pathlib.Path().parent\n",
    "try:\n",
    "    cfd = Path(__file__).parent.absolute() # terminal\n",
    "except NameError:\n",
    "    ## Always get folder for .ipynb file instead of the directory\n",
    "    ## from where jupyter notebook is launched.\n",
    "    cfd = Path('').parent.absolute() # interactive\n",
    "print('1. ', cfd)\n",
    "\n",
    "## 2. os.path.dirname\n",
    "try:\n",
    "    cfd = os.path.dirname(os.path.abspath(__file__)) # terminal\n",
    "except NameError:\n",
    "    cfd = os.path.dirname(os.path.abspath('utbox.ipynb')) # interactive\n",
    "print('2. ', cfd)\n",
    "\n",
    "## 3. rapyuta.utbox.getcfd\n",
    "cfd = UT.getcfd() # not worked\n",
    "print('3.1 ', cfd)"
   ]
  },
  {
   "cell_type": "code",
   "execution_count": 9,
   "id": "80dc23e0",
   "metadata": {},
   "outputs": [
    {
     "name": "stdout",
     "output_type": "stream",
     "text": [
      "3.2  /Users/dhu/Github/RAPYUTA\n",
      "3.3  /Users/dhu/Github/RAPYUTA/man\n"
     ]
    },
    {
     "name": "stderr",
     "output_type": "stream",
     "text": [
      "/Users/dhu/Github/RAPYUTA/rapyuta/utbox.py:384: UserWarning: \"/Users/dhu/Github/RAPYUTA/man\" is either a directory,or is running on Jupyter notebook.For the latter case, try inserting the .ipynb file name.\n",
      "  warnings.warn(f'\"{filename}\" is either a directory,'\n"
     ]
    }
   ],
   "source": [
    "## 3. rapyuta.utbox.getcfd (continued)\n",
    "cfd = UT.getcfd('') # not worked\n",
    "print('3.2 ', cfd)\n",
    "cfd = UT.getcfd('utbox.ipynb') # works\n",
    "print('3.3 ', cfd)"
   ]
  },
  {
   "cell_type": "markdown",
   "id": "cf532c5e",
   "metadata": {},
   "source": [
    "### Current caller's file directory"
   ]
  },
  {
   "cell_type": "code",
   "execution_count": 10,
   "id": "802f81cd",
   "metadata": {},
   "outputs": [],
   "source": [
    "## Use inspect.stack()\n",
    "def check_caller1():\n",
    "    frames = inspect.stack()\n",
    "    print(len(frames)) # nb of frames\n",
    "    print('\\n')\n",
    "    for i in range(len(frames)):\n",
    "        print(frames[i][1])\n",
    "    print('\\n')\n",
    "    print(frames[0]) # def func (lowest level)\n",
    "    print('\\n')\n",
    "    print(frames[1]) # caller\n",
    "    print('\\n')\n",
    "    print(frames[1][0])\n",
    "    print('\\n')\n",
    "    print(frames[1][1]) # cfd\n",
    "    print('\\n')\n",
    "    print(frames[1][0].f_code)\n",
    "    print('\\n')\n",
    "    print(frames[1][0].f_code.co_filename) # cfd\n",
    "\n",
    "## Use sys._getframe\n",
    "def check_caller2():\n",
    "    frame0 = sys._getframe() # def func (lowest level)\n",
    "    print(frame0)\n",
    "    print('\\n')\n",
    "    frame1 = sys._getframe(1) # caller\n",
    "    print(frame1)\n",
    "    print('\\n')\n",
    "    print(frame1.f_code)\n",
    "    print('\\n')\n",
    "    print(frame1.f_code.co_filename) # cfd"
   ]
  },
  {
   "cell_type": "code",
   "execution_count": 11,
   "id": "20c2188a",
   "metadata": {},
   "outputs": [
    {
     "name": "stdout",
     "output_type": "stream",
     "text": [
      "23\n",
      "\n",
      "\n",
      "/var/folders/g2/96dz2zfs6cn9480v0smyms1c84p2qf/T/ipykernel_52554/1782204483.py\n",
      "/var/folders/g2/96dz2zfs6cn9480v0smyms1c84p2qf/T/ipykernel_52554/436871162.py\n",
      "/Users/dhu/miniconda3/envs/rapdev/lib/python3.10/site-packages/IPython/core/interactiveshell.py\n",
      "/Users/dhu/miniconda3/envs/rapdev/lib/python3.10/site-packages/IPython/core/interactiveshell.py\n",
      "/Users/dhu/miniconda3/envs/rapdev/lib/python3.10/site-packages/IPython/core/interactiveshell.py\n",
      "/Users/dhu/miniconda3/envs/rapdev/lib/python3.10/site-packages/IPython/core/async_helpers.py\n",
      "/Users/dhu/miniconda3/envs/rapdev/lib/python3.10/site-packages/IPython/core/interactiveshell.py\n",
      "/Users/dhu/miniconda3/envs/rapdev/lib/python3.10/site-packages/IPython/core/interactiveshell.py\n",
      "/Users/dhu/miniconda3/envs/rapdev/lib/python3.10/site-packages/ipykernel/zmqshell.py\n",
      "/Users/dhu/miniconda3/envs/rapdev/lib/python3.10/site-packages/ipykernel/ipkernel.py\n",
      "/Users/dhu/miniconda3/envs/rapdev/lib/python3.10/site-packages/ipykernel/kernelbase.py\n",
      "/Users/dhu/miniconda3/envs/rapdev/lib/python3.10/site-packages/ipykernel/kernelbase.py\n",
      "/Users/dhu/miniconda3/envs/rapdev/lib/python3.10/site-packages/ipykernel/kernelbase.py\n",
      "/Users/dhu/miniconda3/envs/rapdev/lib/python3.10/site-packages/ipykernel/kernelbase.py\n",
      "/Users/dhu/miniconda3/envs/rapdev/lib/python3.10/asyncio/events.py\n",
      "/Users/dhu/miniconda3/envs/rapdev/lib/python3.10/asyncio/base_events.py\n",
      "/Users/dhu/miniconda3/envs/rapdev/lib/python3.10/asyncio/base_events.py\n",
      "/Users/dhu/miniconda3/envs/rapdev/lib/python3.10/site-packages/tornado/platform/asyncio.py\n",
      "/Users/dhu/miniconda3/envs/rapdev/lib/python3.10/site-packages/ipykernel/kernelapp.py\n",
      "/Users/dhu/miniconda3/envs/rapdev/lib/python3.10/site-packages/traitlets/config/application.py\n",
      "/Users/dhu/miniconda3/envs/rapdev/lib/python3.10/site-packages/ipykernel_launcher.py\n",
      "/Users/dhu/miniconda3/envs/rapdev/lib/python3.10/runpy.py\n",
      "/Users/dhu/miniconda3/envs/rapdev/lib/python3.10/runpy.py\n",
      "\n",
      "\n",
      "FrameInfo(frame=<frame at 0x7fd74fc7c9f0, file '/var/folders/g2/96dz2zfs6cn9480v0smyms1c84p2qf/T/ipykernel_52554/1782204483.py', line 9, code check_caller1>, filename='/var/folders/g2/96dz2zfs6cn9480v0smyms1c84p2qf/T/ipykernel_52554/1782204483.py', lineno=3, function='check_caller1', code_context=['    frames = inspect.stack()\\n'], index=0)\n",
      "\n",
      "\n",
      "FrameInfo(frame=<frame at 0x7fd74eefc7c0, file '/var/folders/g2/96dz2zfs6cn9480v0smyms1c84p2qf/T/ipykernel_52554/436871162.py', line 1, code <cell line: 1>>, filename='/var/folders/g2/96dz2zfs6cn9480v0smyms1c84p2qf/T/ipykernel_52554/436871162.py', lineno=1, function='<cell line: 1>', code_context=['check_caller1()\\n'], index=0)\n",
      "\n",
      "\n",
      "<frame at 0x7fd74eefc7c0, file '/var/folders/g2/96dz2zfs6cn9480v0smyms1c84p2qf/T/ipykernel_52554/436871162.py', line 1, code <cell line: 1>>\n",
      "\n",
      "\n",
      "/var/folders/g2/96dz2zfs6cn9480v0smyms1c84p2qf/T/ipykernel_52554/436871162.py\n",
      "\n",
      "\n",
      "<code object <cell line: 1> at 0x7fd750b2fe10, file \"/var/folders/g2/96dz2zfs6cn9480v0smyms1c84p2qf/T/ipykernel_52554/436871162.py\", line 1>\n",
      "\n",
      "\n",
      "/var/folders/g2/96dz2zfs6cn9480v0smyms1c84p2qf/T/ipykernel_52554/436871162.py\n"
     ]
    }
   ],
   "source": [
    "check_caller1()"
   ]
  },
  {
   "cell_type": "code",
   "execution_count": 12,
   "id": "1f360e10",
   "metadata": {},
   "outputs": [
    {
     "name": "stdout",
     "output_type": "stream",
     "text": [
      "<frame at 0x7fd74f029fe0, file '/var/folders/g2/96dz2zfs6cn9480v0smyms1c84p2qf/T/ipykernel_52554/1782204483.py', line 24, code check_caller2>\n",
      "\n",
      "\n",
      "<frame at 0x7fd74fb74d60, file '/var/folders/g2/96dz2zfs6cn9480v0smyms1c84p2qf/T/ipykernel_52554/3534041241.py', line 1, code <cell line: 1>>\n",
      "\n",
      "\n",
      "<code object <cell line: 1> at 0x7fd750b2cd40, file \"/var/folders/g2/96dz2zfs6cn9480v0smyms1c84p2qf/T/ipykernel_52554/3534041241.py\", line 1>\n",
      "\n",
      "\n",
      "/var/folders/g2/96dz2zfs6cn9480v0smyms1c84p2qf/T/ipykernel_52554/3534041241.py\n"
     ]
    }
   ],
   "source": [
    "check_caller2()"
   ]
  },
  {
   "cell_type": "markdown",
   "id": "728c3319",
   "metadata": {},
   "source": [
    "### Add to `$PATH`"
   ]
  },
  {
   "cell_type": "code",
   "execution_count": 13,
   "id": "db34a92a",
   "metadata": {},
   "outputs": [
    {
     "name": "stdout",
     "output_type": "stream",
     "text": [
      "1.  /Users/dhu/Github/RAPYUTA/man/../new_path_1\n",
      "2.  /Users/dhu/Github/RAPYUTA/man/../new_path_2\n",
      "[PosixPath('/Users/dhu/Github/RAPYUTA/man/../new_path_1'),\n",
      " '/Users/dhu/Github/RAPYUTA/rapyuta',\n",
      " '/Users/dhu/Github/RAPYUTA/man',\n",
      " '/Users/dhu/miniconda3/envs/rapdev/lib/python310.zip',\n",
      " '/Users/dhu/miniconda3/envs/rapdev/lib/python3.10',\n",
      " '/Users/dhu/miniconda3/envs/rapdev/lib/python3.10/lib-dynload',\n",
      " '',\n",
      " '/Users/dhu/miniconda3/envs/rapdev/lib/python3.10/site-packages',\n",
      " '/Users/dhu/miniconda3/envs/rapdev/lib/python3.10/site-packages/tqdm-4.64.0-py3.10.egg',\n",
      " '/Users/dhu/miniconda3/envs/rapdev/lib/python3.10/site-packages/h5py-3.7.0-py3.10-macosx-10.9-x86_64.egg',\n",
      " '/Users/dhu/miniconda3/envs/rapdev/lib/python3.10/site-packages/specutils-1.8.0-py3.10.egg',\n",
      " '/Users/dhu/miniconda3/envs/rapdev/lib/python3.10/site-packages/photutils-1.5.0-py3.10-macosx-10.9-x86_64.egg',\n",
      " '/Users/dhu/Github/RAPYUTA',\n",
      " '/Users/dhu/Github/RAPYUTA/man/../new_path_2']\n"
     ]
    }
   ],
   "source": [
    "# pprint(sys.path)\n",
    "\n",
    "## 1. sys.path.insert\n",
    "sys.path.insert(0, Path().absolute() / '../new_path_1') # pos: 0\n",
    "print('1. ', sys.path[0])\n",
    "## 2. sys.path.append\n",
    "sys.path.append(os.getcwd()+'/../new_path_2') # pos: end\n",
    "print('2. ', sys.path[-1])\n",
    "\n",
    "pprint(sys.path)"
   ]
  },
  {
   "cell_type": "markdown",
   "id": "47041069",
   "metadata": {},
   "source": [
    "## File management\n",
    "### File content"
   ]
  },
  {
   "cell_type": "code",
   "execution_count": 14,
   "id": "561fb5b7",
   "metadata": {},
   "outputs": [
    {
     "name": "stdout",
     "output_type": "stream",
     "text": [
      "inout.ipynb\n",
      "plots.ipynb\n",
      ".DS_Store\n",
      "impro.ipynb\n",
      "out\n",
      "utbox.ipynb\n",
      "maths.ipynb\n",
      "instr.ipynb\n",
      "lib\n",
      ".ipynb_checkpoints\n",
      "latte.ipynb\n"
     ]
    }
   ],
   "source": [
    "## pathlib.Path().iterdir\n",
    "for sub in Path().iterdir():\n",
    "    print(sub)"
   ]
  },
  {
   "cell_type": "markdown",
   "id": "38c8b3e9",
   "metadata": {},
   "source": [
    "### Check file existence"
   ]
  },
  {
   "cell_type": "code",
   "execution_count": 15,
   "id": "3ad62cee",
   "metadata": {},
   "outputs": [
    {
     "name": "stdout",
     "output_type": "stream",
     "text": [
      "1.  True\n",
      "2.  True\n"
     ]
    }
   ],
   "source": [
    "## 1. pathlib.Path().exists\n",
    "pf = Path('utbox.ipynb')#.absolute()\n",
    "px = pf.exists()\n",
    "print('1. ', px)\n",
    "\n",
    "## 2. os.path.exists\n",
    "px = os.path.exists('utbox.ipynb')\n",
    "print('2. ', px)"
   ]
  },
  {
   "cell_type": "markdown",
   "id": "d581bdae",
   "metadata": {},
   "source": [
    "### Make directory"
   ]
  },
  {
   "cell_type": "code",
   "execution_count": 16,
   "id": "a4fec860",
   "metadata": {},
   "outputs": [
    {
     "name": "stdout",
     "output_type": "stream",
     "text": [
      "# User manual output file\n"
     ]
    }
   ],
   "source": [
    "outdir = Path('out').absolute()\n",
    "filout = Path('out/out.txt').absolute()\n",
    "filout1 = Path('out/out.md').absolute()\n",
    "title = '# User manual output file'\n",
    "\n",
    "## 1. pathlib.Path().mkdir -> dir\n",
    "outdir.mkdir(parents=False, exist_ok=True) # works for parent files\n",
    "## 1.1 pathlib.Path().touch -> file\n",
    "filout.touch(exist_ok=True)\n",
    "## 1.2 pathlib.Path().rename\n",
    "filout.rename(filout1)\n",
    "## 1.3 pathlib.Path().write_text\n",
    "filout1.write_text(title)\n",
    "## 1.4 pathlib.Path().read_text\n",
    "print(filout1.read_text())\n",
    "\n",
    "## 2. os.makedirs\n",
    "os.makedirs(outdir, exist_ok=True)\n",
    "# if not os.path.exists(outdir):\n",
    "#     os.makedirs(outdir)"
   ]
  }
 ],
 "metadata": {
  "kernelspec": {
   "display_name": "Python 3 (ipykernel)",
   "language": "python",
   "name": "python3"
  },
  "language_info": {
   "codemirror_mode": {
    "name": "ipython",
    "version": 3
   },
   "file_extension": ".py",
   "mimetype": "text/x-python",
   "name": "python",
   "nbconvert_exporter": "python",
   "pygments_lexer": "ipython3",
   "version": "3.10.4"
  }
 },
 "nbformat": 4,
 "nbformat_minor": 5
}

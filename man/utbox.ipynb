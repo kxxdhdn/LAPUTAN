{
 "cells": [
  {
   "cell_type": "markdown",
   "id": "dac50e69",
   "metadata": {},
   "source": [
    "# rapyuta.utbox\n",
    "- [global parameters](#global_parameters)\n",
    "- Error\n",
    "- [InputError(Error)](#InputError(Error))\n",
    "- [strike](#strike), streplace_scl, streplace, tcolor, print_text\n",
    "- [merge_aliases](#merge_aliases)\n",
    "- is_different_value\n",
    "- [codefold](#codefold)"
   ]
  },
  {
   "cell_type": "code",
   "execution_count": 1,
   "id": "16ecddbc",
   "metadata": {
    "scrolled": false
   },
   "outputs": [
    {
     "name": "stdout",
     "output_type": "stream",
     "text": [
      "\n",
      "               \\  \\|/  /\n",
      "            \\ _\\_ ||| _/_ /\n",
      "                  |||\n",
      "              /\\/-/|\\-\\/\\\n",
      "          _ | _M_ _|_ _M_ | _\n",
      "        / .~.    _ ^ _    .~. \\\n",
      "       |_|_0_|  |_&_&_|  |_0_|_|\n",
      "      //    .~.    o    .~.    \\\\\n",
      "     |_M_ _|_?_|__[_]__|_?_|_ _M_|\n",
      "            |             |\n",
      "             \\  rapyuta  /\n",
      "               \\       /         _\n",
      "    * ¨^  .~       =           ~^' _-\n",
      "      ~ °\n",
      "\n",
      "        Version 2.2.2 (20220822)\n",
      "\n",
      "\n"
     ]
    }
   ],
   "source": [
    "#!/usr/bin/env python\n",
    "# -*- coding: utf-8 -*-\n",
    "\n",
    "import sys, os, logging\n",
    "from pathlib import Path\n",
    "from pprint import pprint\n",
    "\n",
    "# logging.disable(sys.maxsize)\n",
    "\n",
    "## Local\n",
    "try:\n",
    "    root = Path(__file__).parent.absolute() / '..'\n",
    "except NameError:\n",
    "    root = Path().absolute() / '..'\n",
    "sys.path.insert(0, root)\n",
    "\n",
    "import rapyuta.utbox as UT"
   ]
  },
  {
   "cell_type": "markdown",
   "id": "664edf72",
   "metadata": {},
   "source": [
    "## codefold"
   ]
  },
  {
   "cell_type": "code",
   "execution_count": 2,
   "id": "1f54faae",
   "metadata": {},
   "outputs": [
    {
     "name": "stdout",
     "output_type": "stream",
     "text": [
      "Toggle to show/hide all input cells. \n",
      "\n",
      "Counterpart of Jupyter menu : Cell > All Output > Toggle\n"
     ]
    },
    {
     "data": {
      "text/html": [
       "\n",
       "    <script>code_show=true; \n",
       "    function code_toggle() {\n",
       "        if (code_show){\n",
       "        $('div.input').hide();\n",
       "        } else {\n",
       "        $('div.input').show();\n",
       "        }\n",
       "        code_show = !code_show\n",
       "    } \n",
       "    $( document ).ready(code_toggle);\n",
       "    </script> \n",
       "        <p>The raw code for this IPython notebook is by default hidden for easier reading. \n",
       "        To toggle on/off the raw code, click the button below.\n",
       "        <p></p> \n",
       "        <button type=\"button\" onclick=\"code_toggle(document.getElementById('hide'))\">\n",
       "        Show/hide inputs\n",
       "        </button> "
      ],
      "text/plain": [
       "<IPython.core.display.HTML object>"
      ]
     },
     "metadata": {},
     "output_type": "display_data"
    }
   ],
   "source": [
    "print('Toggle to show/hide all input cells. \\n')\n",
    "print('Counterpart of Jupyter menu : Cell > All Output > Toggle')\n",
    "UT.codefold(True, 'onclick')"
   ]
  },
  {
   "cell_type": "markdown",
   "id": "c748e1f8",
   "metadata": {},
   "source": [
    "## global_parameters"
   ]
  },
  {
   "cell_type": "code",
   "execution_count": 3,
   "id": "0a99a49f",
   "metadata": {},
   "outputs": [
    {
     "name": "stdout",
     "output_type": "stream",
     "text": [
      "/Users/dhu/Github/RAPYUTA/rapyuta\n",
      "80\n"
     ]
    }
   ],
   "source": [
    "print(UT.rapyroot)\n",
    "print(UT.term_width)"
   ]
  },
  {
   "cell_type": "markdown",
   "id": "8edabf81",
   "metadata": {},
   "source": [
    "## merge_aliases"
   ]
  },
  {
   "cell_type": "code",
   "execution_count": 4,
   "id": "99c0c5a4",
   "metadata": {},
   "outputs": [
    {
     "name": "stdout",
     "output_type": "stream",
     "text": [
      "Position is: 7\n",
      "Position is: 9\n"
     ]
    }
   ],
   "source": [
    "def putfoo(bar, position=None, pos=None):\n",
    "    pos = UT.merge_aliases(None, position=position, pos=pos)\n",
    "    print('Position is:', repr(pos))\n",
    "    \n",
    "putfoo('hello', position=7)\n",
    "putfoo('hello', pos=9)\n",
    "# putfoo('hello', position= 11, pos=13) # InputError"
   ]
  },
  {
   "cell_type": "markdown",
   "id": "8c504291",
   "metadata": {},
   "source": [
    "## InputError(Error)"
   ]
  },
  {
   "cell_type": "code",
   "execution_count": 5,
   "id": "e34ce654",
   "metadata": {},
   "outputs": [],
   "source": [
    "# raise UT.InputError('expression', 'message')"
   ]
  },
  {
   "cell_type": "markdown",
   "id": "5667f11e",
   "metadata": {},
   "source": [
    "## strike"
   ]
  },
  {
   "cell_type": "code",
   "execution_count": 6,
   "id": "d0929ca8",
   "metadata": {},
   "outputs": [
    {
     "name": "stdout",
     "output_type": "stream",
     "text": [
      "\u001b[1m\u001b[31m \u001b[0m\u001b[1m\u001b[40m\u001b[31m \u001b[5m _______  _______  __   __  _______    _______  __   __  _______  ______     \u001b[0m\u001b[1m\u001b[31m \u001b[0m\n",
      "\u001b[1m\u001b[31m \u001b[0m\u001b[1m\u001b[40m\u001b[31m \u001b[5m|       ||   _   ||  |_|  ||       |  |       ||  | |  ||       ||    _ |    \u001b[0m\u001b[1m\u001b[31m \u001b[0m\n",
      "\u001b[1m\u001b[31m \u001b[0m\u001b[1m\u001b[40m\u001b[31m \u001b[5m|    ___||  |_|  ||       ||    ___|  |   _   ||  |_|  ||    ___||   | ||    \u001b[0m\u001b[1m\u001b[31m \u001b[0m\n",
      "\u001b[1m\u001b[31m \u001b[0m\u001b[1m\u001b[40m\u001b[31m \u001b[5m|   | __ |       ||       ||   |___   |  | |  ||       ||   |___ |   |_||_   \u001b[0m\u001b[1m\u001b[31m \u001b[0m\n",
      "\u001b[1m\u001b[31m \u001b[0m\u001b[1m\u001b[40m\u001b[31m \u001b[5m|   ||  ||       ||       ||    ___|  |  |_|  ||       ||    ___||    __  |  \u001b[0m\u001b[1m\u001b[31m \u001b[0m\n",
      "\u001b[1m\u001b[31m \u001b[0m\u001b[1m\u001b[40m\u001b[31m \u001b[5m|   |_| ||   _   || ||_|| ||   |___   |       | |     | |   |___ |   |  | |  \u001b[0m\u001b[1m\u001b[31m \u001b[0m\n",
      "\u001b[1m\u001b[31m \u001b[0m\u001b[1m\u001b[40m\u001b[31m \u001b[5m|_______||__| |__||_|   |_||_______|  |_______|  |___|  |_______||___|  |_|  \u001b[0m\u001b[1m\u001b[31m \u001b[0m\n",
      "\u001b[1m\u001b[31m \u001b[0m\u001b[1m\u001b[40m\u001b[31m \u001b[5m                                                                             \u001b[0m\u001b[1m\u001b[31m \u001b[0m\n",
      "\u001b[1m\u001b[31m \u001b[0m\u001b[1m\u001b[40m\u001b[31m \u001b[5m                                                                             \u001b[0m\u001b[1m\u001b[31m \u001b[0m\n",
      "\u001b[1m\u001b[31m \u001b[0m\u001b[1m\u001b[40m\u001b[31m \u001b[5m                           ***   INSERT COIN   ***                           \u001b[0m\u001b[1m\u001b[31m \u001b[0m\n",
      " \u001b[1m\u001b[40m\u001b[31m                                                                              \u001b[0m\n",
      "\n"
     ]
    },
    {
     "ename": "Error",
     "evalue": "<strike> went on strike: strike is on strike.",
     "output_type": "error",
     "traceback": [
      "\u001b[0;31m---------------------------------------------------------------------------\u001b[0m",
      "\u001b[0;31mError\u001b[0m                                     Traceback (most recent call last)",
      "Input \u001b[0;32mIn [6]\u001b[0m, in \u001b[0;36m<cell line: 1>\u001b[0;34m()\u001b[0m\n\u001b[0;32m----> 1\u001b[0m \u001b[43mUT\u001b[49m\u001b[38;5;241;43m.\u001b[39;49m\u001b[43mstrike\u001b[49m\u001b[43m(\u001b[49m\u001b[38;5;124;43m'\u001b[39;49m\u001b[38;5;124;43mstrike\u001b[39;49m\u001b[38;5;124;43m'\u001b[39;49m\u001b[43m,\u001b[49m\u001b[43m \u001b[49m\u001b[38;5;124;43m'\u001b[39;49m\u001b[38;5;124;43mstrike is on strike.\u001b[39;49m\u001b[38;5;124;43m'\u001b[39;49m\u001b[43m)\u001b[49m\n",
      "File \u001b[0;32m~/Github/RAPYUTA/rapyuta/utbox.py:132\u001b[0m, in \u001b[0;36mstrike\u001b[0;34m(proc, why, cat)\u001b[0m\n\u001b[1;32m    130\u001b[0m     \u001b[38;5;28;01mraise\u001b[39;00m InputError(\u001b[38;5;124m'\u001b[39m\u001b[38;5;124m<\u001b[39m\u001b[38;5;124m'\u001b[39m\u001b[38;5;241m+\u001b[39mproc\u001b[38;5;241m+\u001b[39m\u001b[38;5;124m'\u001b[39m\u001b[38;5;124m>\u001b[39m\u001b[38;5;124m'\u001b[39m, why)\n\u001b[1;32m    131\u001b[0m \u001b[38;5;28;01melse\u001b[39;00m:\n\u001b[0;32m--> 132\u001b[0m     \u001b[38;5;28;01mraise\u001b[39;00m Error(\u001b[38;5;124m'\u001b[39m\u001b[38;5;124m<\u001b[39m\u001b[38;5;124m'\u001b[39m\u001b[38;5;241m+\u001b[39mproc\u001b[38;5;241m+\u001b[39m\u001b[38;5;124m'\u001b[39m\u001b[38;5;124m> went on strike: \u001b[39m\u001b[38;5;124m'\u001b[39m\u001b[38;5;241m+\u001b[39mwhy)\n",
      "\u001b[0;31mError\u001b[0m: <strike> went on strike: strike is on strike."
     ]
    }
   ],
   "source": [
    "UT.strike('strike', 'strike is on strike.')"
   ]
  },
  {
   "cell_type": "markdown",
   "id": "d9435dfd",
   "metadata": {},
   "source": [
    "# System\n",
    "## Path\n",
    "### Current working path"
   ]
  },
  {
   "cell_type": "code",
   "execution_count": 7,
   "id": "126341bf",
   "metadata": {},
   "outputs": [
    {
     "name": "stdout",
     "output_type": "stream",
     "text": [
      "1.  /Users/dhu/Github/RAPYUTA/man\n",
      "2.  /Users/dhu/Github/RAPYUTA/man\n",
      "3.  /Users/dhu/Github/RAPYUTA/man\n",
      "4.  /Users/dhu/Github/RAPYUTA/man\n"
     ]
    }
   ],
   "source": [
    "## 1. pathlib.Path\n",
    "cwd = Path().absolute()\n",
    "print('1. ', cwd)\n",
    "## 2. pathlib.Path\n",
    "cwd = Path().resolve()\n",
    "print('2. ', cwd)\n",
    "\n",
    "## 3. os.getcwd\n",
    "cwd = os.getcwd()\n",
    "print('3. ', cwd)\n",
    "## 4. os.path\n",
    "cwd = os.path.abspath(os.getcwd())\n",
    "print('4. ', cwd)"
   ]
  },
  {
   "cell_type": "markdown",
   "id": "c3621003",
   "metadata": {},
   "source": [
    "### Current file path"
   ]
  },
  {
   "cell_type": "code",
   "execution_count": 8,
   "id": "571e5516",
   "metadata": {},
   "outputs": [
    {
     "name": "stdout",
     "output_type": "stream",
     "text": [
      "1.  /Users/dhu/Github/RAPYUTA/man\n",
      "2.  /Users/dhu/Github/RAPYUTA/man\n"
     ]
    }
   ],
   "source": [
    "## 1. pathlib.Path().parent\n",
    "try:\n",
    "    cfd = Path(__file__).parent.absolute() # in-file\n",
    "except NameError:\n",
    "    cfd = Path('utils.ipynb').parent.absolute() # interactive\n",
    "print('1. ', cwd)\n",
    "\n",
    "## 2. os.path.dirname\n",
    "try:\n",
    "    cfd = os.path.dirname(os.path.abspath(__file__)) # in-file\n",
    "except NameError:\n",
    "    cfd = os.path.dirname(os.path.abspath('utils.ipynb')) # interactive\n",
    "print('2. ', cwd)"
   ]
  },
  {
   "cell_type": "markdown",
   "id": "728c3319",
   "metadata": {},
   "source": [
    "### Add to `$PATH`"
   ]
  },
  {
   "cell_type": "code",
   "execution_count": 9,
   "id": "db34a92a",
   "metadata": {},
   "outputs": [
    {
     "name": "stdout",
     "output_type": "stream",
     "text": [
      "1.  /Users/dhu/Github/RAPYUTA/man/../new_path_1\n",
      "2.  /Users/dhu/Github/RAPYUTA/man/../new_path_2\n",
      "[PosixPath('/Users/dhu/Github/RAPYUTA/man/../new_path_1'),\n",
      " '/Users/dhu/Github/RAPYUTA/rapyuta',\n",
      " PosixPath('/Users/dhu/Github/RAPYUTA/man/..'),\n",
      " '/Users/dhu/Github/RAPYUTA/man',\n",
      " '/Users/dhu/miniconda3/envs/rapdev/lib/python310.zip',\n",
      " '/Users/dhu/miniconda3/envs/rapdev/lib/python3.10',\n",
      " '/Users/dhu/miniconda3/envs/rapdev/lib/python3.10/lib-dynload',\n",
      " '',\n",
      " '/Users/dhu/miniconda3/envs/rapdev/lib/python3.10/site-packages',\n",
      " '/Users/dhu/Github/RAPYUTA',\n",
      " '/Users/dhu/miniconda3/envs/rapdev/lib/python3.10/site-packages/tqdm-4.64.0-py3.10.egg',\n",
      " '/Users/dhu/miniconda3/envs/rapdev/lib/python3.10/site-packages/h5py-3.7.0-py3.10-macosx-10.9-x86_64.egg',\n",
      " '/Users/dhu/miniconda3/envs/rapdev/lib/python3.10/site-packages/specutils-1.8.0-py3.10.egg',\n",
      " '/Users/dhu/miniconda3/envs/rapdev/lib/python3.10/site-packages/photutils-1.5.0-py3.10-macosx-10.9-x86_64.egg',\n",
      " '/Users/dhu/Github/RAPYUTA/man/../new_path_2']\n"
     ]
    }
   ],
   "source": [
    "# pprint(sys.path)\n",
    "\n",
    "## 1. sys.path.insert\n",
    "sys.path.insert(0, Path().absolute() / '../new_path_1') # pos: 0\n",
    "print('1. ', sys.path[0])\n",
    "## 2. sys.path.append\n",
    "sys.path.append(os.getcwd()+'/../new_path_2') # pos: end\n",
    "print('2. ', sys.path[-1])\n",
    "\n",
    "pprint(sys.path)"
   ]
  },
  {
   "cell_type": "markdown",
   "id": "47041069",
   "metadata": {},
   "source": [
    "## File management\n",
    "### File content"
   ]
  },
  {
   "cell_type": "code",
   "execution_count": 10,
   "id": "561fb5b7",
   "metadata": {},
   "outputs": [
    {
     "name": "stdout",
     "output_type": "stream",
     "text": [
      "inout.ipynb\n",
      "plots.ipynb\n",
      ".DS_Store\n",
      "impro.ipynb\n",
      "out\n",
      "utbox.ipynb\n",
      "maths.ipynb\n",
      "instr.ipynb\n",
      "lib\n",
      ".ipynb_checkpoints\n",
      "latte.ipynb\n"
     ]
    }
   ],
   "source": [
    "## pathlib.Path().iterdir\n",
    "for sub in Path().iterdir():\n",
    "    print(sub)"
   ]
  },
  {
   "cell_type": "markdown",
   "id": "38c8b3e9",
   "metadata": {},
   "source": [
    "### Check file existence"
   ]
  },
  {
   "cell_type": "code",
   "execution_count": 11,
   "id": "3ad62cee",
   "metadata": {},
   "outputs": [
    {
     "name": "stdout",
     "output_type": "stream",
     "text": [
      "1.  False\n",
      "2.  False\n"
     ]
    }
   ],
   "source": [
    "## 1. pathlib.Path().exists\n",
    "pf = Path('utils.ipynb')#.absolute()\n",
    "px = pf.exists()\n",
    "print('1. ', px)\n",
    "\n",
    "## 2. os.path.exists\n",
    "px = os.path.exists('utils.ipynb')\n",
    "print('2. ', px)"
   ]
  },
  {
   "cell_type": "markdown",
   "id": "d581bdae",
   "metadata": {},
   "source": [
    "### Make directory"
   ]
  },
  {
   "cell_type": "code",
   "execution_count": 12,
   "id": "a4fec860",
   "metadata": {},
   "outputs": [
    {
     "name": "stdout",
     "output_type": "stream",
     "text": [
      "# User manual output file\n"
     ]
    }
   ],
   "source": [
    "outdir = Path('out').absolute()\n",
    "filout = Path('out/out.txt').absolute()\n",
    "filout1 = Path('out/out.md').absolute()\n",
    "title = '# User manual output file'\n",
    "\n",
    "## 1. pathlib.Path().mkdir -> dir\n",
    "outdir.mkdir(parents=False, exist_ok=True) # works for parent files\n",
    "## 1.1 pathlib.Path().touch -> file\n",
    "filout.touch(exist_ok=True)\n",
    "## 1.2 pathlib.Path().rename\n",
    "filout.rename(filout1)\n",
    "## 1.3 pathlib.Path().write_text\n",
    "filout1.write_text(title)\n",
    "## 1.4 pathlib.Path().read_text\n",
    "print(filout1.read_text())\n",
    "\n",
    "## 2. os.makedirs\n",
    "os.makedirs(outdir, exist_ok=True)\n",
    "# if not os.path.exists(outdir):\n",
    "#     os.makedirs(outdir)"
   ]
  }
 ],
 "metadata": {
  "kernelspec": {
   "display_name": "Python 3 (ipykernel)",
   "language": "python",
   "name": "python3"
  },
  "language_info": {
   "codemirror_mode": {
    "name": "ipython",
    "version": 3
   },
   "file_extension": ".py",
   "mimetype": "text/x-python",
   "name": "python",
   "nbconvert_exporter": "python",
   "pygments_lexer": "ipython3",
   "version": "3.10.4"
  }
 },
 "nbformat": 4,
 "nbformat_minor": 5
}

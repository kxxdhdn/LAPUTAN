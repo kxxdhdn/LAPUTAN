{
 "cells": [
  {
   "cell_type": "markdown",
   "id": "78089f71",
   "metadata": {},
   "source": [
    "# rapyuta.impro\n",
    "- [improve](#Initialization)\n",
    "  + reinit, uncert,\n",
    "  + [rand_norm](#Add-random-noise), [rand_splitnorm](#Add-random-noise)\n",
    "  + [rand_pointing](#Add-random-pointing)\n",
    "  + slice, slice_inv_sq\n",
    "  + [crop](#improve.crop)\n",
    "  + [rebin](#improve.rebin), groupixel\n",
    "  + [smooth](#improve.smooth), artifact\n",
    "  + mask\n",
    "- [Jy_per_pix_to_MJy_per_sr](#Jy_per_pix_to_MJy_per_sr)\n",
    "- [islice](#islice)\n",
    "- [icrop](#icrop)\n",
    "- [irebin](#irebin)\n",
    "- [igroupixel](#igroupixel)\n",
    "- [ismooth](#ismooth)\n",
    "- [imontage](#imontage)\n",
    "- [iswarp](#iswarp)\n",
    "- [iconvolve](#iconvolve)\n",
    "- [interfill](#interfill)\n",
    "- [concatenate](#concatenate)\n",
    "- [hextract](#IDL-Astronomy-Users-Library), [hswarp](#IDL-Astronomy-Users-Library)"
   ]
  },
  {
   "cell_type": "code",
   "execution_count": 4,
   "id": "f5e32ecf",
   "metadata": {},
   "outputs": [
    {
     "ename": "SyntaxError",
     "evalue": "'return' outside function (impro.py, line 195)",
     "output_type": "error",
     "traceback": [
      "Traceback \u001b[0;36m(most recent call last)\u001b[0m:\n",
      "  File \u001b[1;32m~/miniconda3/envs/rapdev/lib/python3.10/site-packages/IPython/core/interactiveshell.py:3398\u001b[0m in \u001b[1;35mrun_code\u001b[0m\n    exec(code_obj, self.user_global_ns, self.user_ns)\n",
      "  Input \u001b[1;32mIn [4]\u001b[0m in \u001b[1;35m<cell line: 13>\u001b[0m\n    from rapyuta.impro import (\n",
      "\u001b[0;36m  File \u001b[0;32m~/Github/RAPYUTA/rapyuta/impro/__init__.py:10\u001b[0;36m in \u001b[0;35m<module>\u001b[0;36m\u001b[0m\n\u001b[0;31m    from .impro import *\u001b[0m\n",
      "\u001b[0;36m  File \u001b[0;32m~/Github/RAPYUTA/rapyuta/impro/impro.py:195\u001b[0;36m\u001b[0m\n\u001b[0;31m    return self.images\u001b[0m\n\u001b[0m    ^\u001b[0m\n\u001b[0;31mSyntaxError\u001b[0m\u001b[0;31m:\u001b[0m 'return' outside function\n"
     ]
    }
   ],
   "source": [
    "#!/usr/bin/env python\n",
    "# -*- coding: utf-8 -*-\n",
    "\n",
    "import sys\n",
    "from pathlib import Path\n",
    "import numpy as np\n",
    "\n",
    "## Local\n",
    "import rapyuta.utbox as UT\n",
    "import rapyuta.inout as IO\n",
    "import rapyuta.plots as PL\n",
    "from rapyuta.inout import fitsext, h5ext\n",
    "from rapyuta.impro import (\n",
    "    improve, Jy_per_pix_to_MJy_per_sr,\n",
    "    islice, icrop, irebin, igroupixel, ismooth,\n",
    "    imontage, iswarp, iconvolve,\n",
    "    wclean, interfill, hextract, hswarp,\n",
    "    concatenate\n",
    ")\n",
    "\n",
    "%matplotlib inline\n",
    "\n",
    "## fold inputs\n",
    "# UT.codefold(True, 'onclick')"
   ]
  },
  {
   "cell_type": "code",
   "execution_count": null,
   "id": "573a926a",
   "metadata": {},
   "outputs": [],
   "source": [
    "## Set dir\n",
    "cfd = UT.getcfd('')\n",
    "datdir = cfd+'/lib'\n",
    "outdir = cfd+'/out/test_impro'\n",
    "Path(outdir).mkdir(parents=True, exist_ok=True)\n",
    "\n",
    "filin = datdir+'/M82_04_SL3'"
   ]
  },
  {
   "cell_type": "markdown",
   "id": "8c8a68d8",
   "metadata": {},
   "source": [
    "## improve\n",
    "### Initialization"
   ]
  },
  {
   "cell_type": "code",
   "execution_count": null,
   "id": "073d0c34",
   "metadata": {},
   "outputs": [],
   "source": [
    "imp = improve(datdir+'M82_04_SL3', verbose=True)\n",
    "print('raw: ', imp.im[0,:,3])"
   ]
  },
  {
   "cell_type": "markdown",
   "id": "ff3a5038",
   "metadata": {},
   "source": [
    "### Add random noise"
   ]
  },
  {
   "cell_type": "code",
   "execution_count": null,
   "id": "d5241054",
   "metadata": {},
   "outputs": [],
   "source": [
    "imp.rand_norm(datdir+'M83_unc')\n",
    "print('add sym rand: ', imp.im[0,:,3])\n",
    "imp.rand_splitnorm([datdir+'M83_unc', datdir+'M83_unc'])\n",
    "print('add split rand', imp.im[0,:,3])"
   ]
  },
  {
   "cell_type": "markdown",
   "id": "ff6b5aad",
   "metadata": {},
   "source": [
    "### Add random pointing"
   ]
  },
  {
   "cell_type": "code",
   "execution_count": null,
   "id": "12c51a0f",
   "metadata": {},
   "outputs": [],
   "source": [
    "imp.rand_pointing(sigma=0.2, fill='near') # Spitzer IRS  pointing accuracy\n",
    "print('add pointing rand: ', imp.im[0,:,3])"
   ]
  },
  {
   "cell_type": "markdown",
   "id": "810d73fa",
   "metadata": {},
   "source": [
    "### improve.crop"
   ]
  },
  {
   "cell_type": "code",
   "execution_count": null,
   "id": "3e1e58c3",
   "metadata": {},
   "outputs": [],
   "source": [
    "imp.crop(outdir+'M83_imp_crop', sizval=(0.005,0.009), cenpix=(7,8))"
   ]
  },
  {
   "cell_type": "markdown",
   "id": "ab2f4f59",
   "metadata": {},
   "source": [
    "### improve.rebin"
   ]
  },
  {
   "cell_type": "code",
   "execution_count": null,
   "id": "a39facde",
   "metadata": {},
   "outputs": [],
   "source": [
    "imp1 = improve(datdir+'M83', verbose=True)\n",
    "## Non-square pixel is not compatible with DS9\n",
    "imp1.rebin(pixscale=(7,3), total=False, extrapol=True,\n",
    "           filOUT=outdir+'M83_imp_rebin')"
   ]
  },
  {
   "cell_type": "markdown",
   "id": "640b7d4e",
   "metadata": {},
   "source": [
    "### improve.smooth"
   ]
  },
  {
   "cell_type": "code",
   "execution_count": null,
   "id": "41d408b4",
   "metadata": {},
   "outputs": [],
   "source": [
    "imp2 = improve(datdir+'M83')\n",
    "plt.figure()\n",
    "plt.plot(imp2.wvl, imp2.im[:,0,0], c='k', label='raw')\n",
    "imp2.smooth(6, wstart=None)\n",
    "plt.plot(imp2.wvl, imp2.im[:,0,0], c='g', alpha=.5, label='smoothed')\n",
    "plt.savefig(outdir+'M83_imp_smooth')\n",
    "plt.close()"
   ]
  },
  {
   "cell_type": "markdown",
   "id": "fb370a31",
   "metadata": {},
   "source": [
    "### improve.artifact"
   ]
  },
  {
   "cell_type": "code",
   "execution_count": null,
   "id": "b66b38f4",
   "metadata": {},
   "outputs": [],
   "source": [
    "imp3 = improve(datdir+'M82')\n",
    "plt.figure()\n",
    "data = read_fits(datdir+'M82').data[:,0,2]\n",
    "wvl = read_fits(datdir+'M82').wave\n",
    "unc = read_fits(datdir+'M82_unc').data[:,0,2]\n",
    "plt.errorbar(wvl, data, unc, c='k', ecolor='r', label='raw')\n",
    "data = imp3.artifact(filUNC=datdir+'M82_unc',\n",
    "                     wmin=2.5, wmax=5, lim_unc=1.e2, cmin=6, fltr_pn='n')[:,0,2]\n",
    "plt.errorbar(wvl, data, c='g', alpha=.5, label='Artifacts removed')\n",
    "plt.legend(loc='best')\n",
    "plt.xlim(2,6)\n",
    "plt.ylim(-10,20)\n",
    "plt.savefig(outdir+'M82_SL_imp_artifact')\n",
    "plt.close()"
   ]
  },
  {
   "cell_type": "markdown",
   "id": "129937d3",
   "metadata": {},
   "source": [
    "## Jy_per_pix_to_MJy_per_sr"
   ]
  },
  {
   "cell_type": "code",
   "execution_count": null,
   "id": "3dc29295",
   "metadata": {},
   "outputs": [],
   "source": [
    "Jy_per_pix_to_MJy_per_sr(datdir+'M82_IRAC1_DP', \n",
    "                         filOUT=outdir+'M82_IRAC1_unit')"
   ]
  },
  {
   "cell_type": "markdown",
   "id": "0c56b213",
   "metadata": {},
   "source": [
    "## islice"
   ]
  },
  {
   "cell_type": "code",
   "execution_count": null,
   "id": "accf02f8",
   "metadata": {},
   "outputs": [],
   "source": [
    "slc = islice(datdir+'M83', filSL=outdir+'M83_inv_sqrt',\n",
    "             filUNC=datdir+'M83_unc', slicetype='inv_sq', postfix='')\n",
    "# if input('Clean slices (y/n): ')=='y':\n",
    "slc.clean()"
   ]
  },
  {
   "cell_type": "markdown",
   "id": "d1a9c0da",
   "metadata": {},
   "source": [
    "## icrop"
   ]
  },
  {
   "cell_type": "code",
   "execution_count": null,
   "id": "ae257b2b",
   "metadata": {},
   "outputs": [],
   "source": [
    "crp = icrop(datdir+'M83', filOUT=outdir+'M83_icrop',\n",
    "            sizpix=(3,6), cenval=(204.2529675, -29.8656962),\n",
    "            filUNC=[datdir+'M83_unc', datdir+'M83_unc'],\n",
    "            dist='splitnorm', verbose=True)"
   ]
  },
  {
   "cell_type": "markdown",
   "id": "8d43fb66",
   "metadata": {},
   "source": [
    "## irebin"
   ]
  },
  {
   "cell_type": "code",
   "execution_count": null,
   "id": "6ff8c268",
   "metadata": {},
   "outputs": [],
   "source": [
    "rbn = irebin(datdir+'M83', filOUT=outdir+'M83_irebin', verbose=True,\n",
    "             pixscale=1, total=False, extrapol=False)"
   ]
  },
  {
   "cell_type": "markdown",
   "id": "7bd492c7",
   "metadata": {},
   "source": [
    "## igroupixel"
   ]
  },
  {
   "cell_type": "code",
   "execution_count": null,
   "id": "57895948",
   "metadata": {},
   "outputs": [],
   "source": [
    "grp = igroupixel(datdir+'M83', xscale=3, yscale=4,\n",
    "                 filOUT=outdir+'M83_igroupixel')"
   ]
  },
  {
   "cell_type": "markdown",
   "id": "7333aea0",
   "metadata": {},
   "source": [
    "## ismooth"
   ]
  },
  {
   "cell_type": "code",
   "execution_count": null,
   "id": "d241c51b",
   "metadata": {},
   "outputs": [],
   "source": [
    "newave = read_fits(datdir+'M83').wave[:80] - 0.5\n",
    "smt = ismooth(datdir+'M83', smooth=6, wgrid=newave, wstart=None,\n",
    "              filOUT=outdir+'M83_ismooth')"
   ]
  },
  {
   "cell_type": "markdown",
   "id": "f8923b1b",
   "metadata": {},
   "source": [
    "## imontage"
   ]
  },
  {
   "cell_type": "code",
   "execution_count": null,
   "id": "a32265da",
   "metadata": {},
   "outputs": [],
   "source": [
    "ds = read_fits(datdir+'M82_04_SL1')\n",
    "hdr = fixwcs(datdir+'M82_04_SL1'+fitsext).header\n",
    "write_fits(outdir+'sip', hdr, ds.data[0])\n",
    "\n",
    "mtg = imontage('exact', tmpdir=outdir+'mtg/')\n",
    "hdr_ref = fixwcs(datdir+'M82_template'+fitsext).header\n",
    "mtg.reproject_mc(outdir+'sip', refheader=hdr_ref, filOUT=outdir+'sip_mtgrep')\n",
    "hdr_nosip = hdr.copy()\n",
    "for kw in hdr.keys():\n",
    "    if ('A_' in kw) and (not 'PA' in kw) and (not 'RA' in kw):\n",
    "        # print(kw)\n",
    "        del hdr_nosip[kw]\n",
    "    if 'B_' in kw:\n",
    "        # print(kw)\n",
    "        del hdr_nosip[kw]\n",
    "    if 'AP_' in kw:\n",
    "        # print(kw)\n",
    "        del hdr_nosip[kw]\n",
    "    if 'BP_' in kw:\n",
    "        # print(kw)\n",
    "        del hdr_nosip[kw]\n",
    "write_fits(outdir+'nosip', hdr_nosip, ds.data[0])\n",
    "mtg.reproject_mc(outdir+'nosip', refheader=hdr_ref, filOUT=outdir+'nosip_mtgrep')\n",
    "print('SIP kw can be removed since they are encoded in CD matrix! [Done]')\n",
    "mtg.coadd((datdir+'M82_04_SL1',datdir+'M82_06N_SL1'),\n",
    "          refheader=hdr_ref, dist='norm', sig_pt=.2, fill_pt='near', Nmc=2,\n",
    "          filOUT=outdir+'M82_SL1_mtgcoadd')\n",
    "print('Coadd M82_04_SL1 & M82_06N_SL1 to M82_09_L86 [Done]')"
   ]
  },
  {
   "cell_type": "markdown",
   "id": "2b0ac587",
   "metadata": {},
   "source": [
    "## iswarp"
   ]
  },
  {
   "cell_type": "code",
   "execution_count": null,
   "id": "6f4d8592",
   "metadata": {},
   "outputs": [],
   "source": [
    "hdr_ref = fixwcs(datdir+'M82_09_L86'+fitsext).header\n",
    "swp = iswarp(refheader=hdr_ref, tmpdir=outdir+'swp/')\n",
    "# swp.combine(datdir+'M82_08_L86', dist='norm',\n",
    "#             filOUT=outdir+'M82_08_L86_rep', tmpdir=outdir+'swp/')\n",
    "swp.combine_mc(datdir+'M82_08_L86', dist='norm', sig_pt=.2, Nmc=2,\n",
    "               filOUT=outdir+'M82_08_L86_rep', tmpdir=outdir+'swp/')\n",
    "print('Reproject M82_08_L86 to M82_09_L86 [Done]\\n')\n",
    "swp_cube = iswarp((datdir+'M82_09_L86', datdir+'M82_04_SL1'),\n",
    "                  center='9:55:51,69:40:45', pixscale=6.,\n",
    "                  tmpdir=outdir+'swp_cube/')\n",
    "swp_cube.combine(datdir+'M82_04_SL1', dist='norm',\n",
    "                 filOUT=outdir+'M82_04_SL1_rep')\n",
    "print('Reproject M82_04_SL1 (pixscale=6\" recentered to M82 center) [Done]')\n",
    "swp_coadd = iswarp((datdir+'M82_09_L86', datdir+'M82_04_SL1'),\n",
    "                 refheader=hdr_ref, tmpdir=outdir+'swp_cube/')\n",
    "swp_coadd.combine_mc((datdir+'M82_04_SL1',datdir+'M82_06N_SL1'),\n",
    "                   dist='norm', sig_pt=.2, Nmc=2,\n",
    "                   keepedge=True, cropedge=True, filOUT=outdir+'M82_SL1_swp_coadd')\n",
    "print('Coadd M82_04_SL1 & M82_06N_SL1 to M82_09_L86 [Done]')"
   ]
  },
  {
   "cell_type": "markdown",
   "id": "6dc091d7",
   "metadata": {},
   "source": [
    "## iconvolve"
   ]
  },
  {
   "cell_type": "code",
   "execution_count": null,
   "id": "c5b27152",
   "metadata": {},
   "outputs": [],
   "source": [
    "## See also idl/conv_prog.pro & idl/convolve_image.pro\n",
    "convdir = outdir+'conv/' # see also idl/convolve_image.pro\n",
    "if not os.path.exists(convdir):\n",
    "    os.makedirs(convdir)\n",
    "path_ker = datdir\n",
    "path_idl = testdir+'/../idl/'\n",
    "csv_ker = outdir+'kernelist' # see also idl/conv_prog.pro\n",
    "\n",
    "irs_ker = []\n",
    "psf = [2., 2.5, 3., 3.5, 4., 4.5, 5., 5.5, 6.]\n",
    "psf_ref = 'Gauss_06.0'\n",
    "for p in psf:\n",
    "    irs_ker.append(path_ker+'Kernel_HiRes_Gauss_0'+str(p)+'_to_'+psf_ref)\n",
    "conv_cube = iconvolve(datdir+'M82_04_SL1',\n",
    "                      psf=psf, kfile=irs_ker, klist=csv_ker,\n",
    "                      dist='norm', sig_pt=.2,\n",
    "                      convdir=convdir, filOUT=outdir+'M82_04_SL1'+'_conv')\n",
    "conv_cube.do_conv(path_idl, verbose=False)\n",
    "print('Convolve M82_04_SL1 [Done]')\n",
    "\n",
    "irac_ker = path_ker+'Kernel_HiRes_IRAC_8.0_to_Gauss_06.0'\n",
    "conv = iconvolve(datdir+'M82_IRAC4',\n",
    "                 kfile=irac_ker, klist=csv_ker,\n",
    "                 filOUT=outdir+'M82_IRAC4'+'_conv')\n",
    "conv.do_conv(path_idl)\n",
    "print('Convolve M82_IRAC4 [Done]')"
   ]
  },
  {
   "cell_type": "markdown",
   "id": "f7c2b6a0",
   "metadata": {},
   "source": [
    "## interfill"
   ]
  },
  {
   "cell_type": "code",
   "execution_count": null,
   "id": "0dc60fc1",
   "metadata": {},
   "outputs": [],
   "source": [
    "data = read_fits(datdir+'IC10_SL2').data[0]\n",
    "hdr = fixwcs(datdir+'IC10_SL2'+fitsext).header\n",
    "newdata = interfill(data, axis=0)\n",
    "write_fits(outdir+'IC10_fillgap', hdr, newdata)"
   ]
  },
  {
   "cell_type": "markdown",
   "id": "f98dd12c",
   "metadata": {},
   "source": [
    "## concatenate"
   ]
  },
  {
   "cell_type": "code",
   "execution_count": null,
   "id": "c8f5d86f",
   "metadata": {},
   "outputs": [],
   "source": [
    "flist = [datdir+'M82_SL1', datdir+'M82_SL2']\n",
    "concat = concatenate(flist, filOUT=outdir+'M82_SL_concat',\n",
    "                     keepfrag=False, cropedge=True)\n",
    "wvl = concat.wave\n",
    "data = concat.data[:,0,0]\n",
    "uncl = [f+'_unc' for f in flist]\n",
    "unc = concatenate(uncl, filOUT=outdir+'M82_SL_concat_unc').data[:,0,0]\n",
    "plt.figure()\n",
    "plt.errorbar(wvl, data, unc, c='k', ecolor='r')\n",
    "plt.savefig(outdir+'M82_SL_concat')\n",
    "plt.close()\n",
    "print('See out/M82_SL_concat.png [Done]')\n",
    "\n",
    "if input('Clean tmp files (y/n): ')=='y':\n",
    "    mtg.clean()\n",
    "    swp.clean()\n",
    "    swp_cube.clean()\n",
    "    conv_cube.clean()\n",
    "    conv.clean()\n",
    "    conv.clean(outdir+'hswp/')"
   ]
  },
  {
   "cell_type": "markdown",
   "id": "0532baf5",
   "metadata": {},
   "source": [
    "## IDL Astronomy Users Library"
   ]
  },
  {
   "cell_type": "code",
   "execution_count": null,
   "id": "7cd9913e",
   "metadata": {},
   "outputs": [],
   "source": [
    "## hextract\n",
    "ds = IO.read_fits(filin)\n",
    "oldim = ds.data\n",
    "oldhd = ds.header\n",
    "newim, newhd = hextract(oldim, oldhd, 20, 40, 32, 42)\n",
    "IO.write_fits(outdir+'test_hextract', newhd, newim)\n",
    "\n",
    "## hswarp\n",
    "print('Reproject M82_08_L86 to M82_09_L86')\n",
    "old = read_fits(datdir+'M82_08_L86')\n",
    "oldimage = old.data\n",
    "oldheader = old.header\n",
    "refheader = read_fits(datdir+'M82_09_L86').header\n",
    "hswp = hswarp(oldimage, oldheader, refheader, keepedge=True,\n",
    "              tmpdir=outdir+'hswp/', verbose=False)\n",
    "# print('hswarp image: ', hswp.data)\n",
    "# print('hswarp image header: ', hswp.header)"
   ]
  }
 ],
 "metadata": {
  "kernelspec": {
   "display_name": "Python 3 (ipykernel)",
   "language": "python",
   "name": "python3"
  },
  "language_info": {
   "codemirror_mode": {
    "name": "ipython",
    "version": 3
   },
   "file_extension": ".py",
   "mimetype": "text/x-python",
   "name": "python",
   "nbconvert_exporter": "python",
   "pygments_lexer": "ipython3",
   "version": "3.10.4"
  }
 },
 "nbformat": 4,
 "nbformat_minor": 5
}

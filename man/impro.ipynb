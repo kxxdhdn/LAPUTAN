{
 "cells": [
  {
   "cell_type": "markdown",
   "id": "78089f71",
   "metadata": {},
   "source": [
    "# rapyuta.impro\n",
    "- plotrange\n",
    "  + Btau\n",
    "  + Ctau\n",
    "  + [ellipse](#Ellipse)\n",
    "  + SUE"
   ]
  },
  {
   "cell_type": "code",
   "execution_count": 1,
   "id": "f5e32ecf",
   "metadata": {},
   "outputs": [
    {
     "name": "stdout",
     "output_type": "stream",
     "text": [
      "\n",
      "               \\  \\|/  /\n",
      "            \\ _\\_ ||| _/_ /\n",
      "                  |||\n",
      "              /\\/-/|\\-\\/\\\n",
      "          _ | _M_ _|_ _M_ | _\n",
      "        / .~.    _ ^ _    .~. \\\n",
      "       |_|_0_|  |_&_&_|  |_0_|_|\n",
      "      //    .~.    o    .~.    \\\\\n",
      "     |_M_ _|_?_|__[_]__|_?_|_ _M_|\n",
      "            |             |\n",
      "             \\  rapyuta  /\n",
      "               \\       /         _\n",
      "    * ¨^  .~       =           ~^' _-\n",
      "      ~ °\n",
      "\n",
      "        Version 2.2.1 (20220616)\n",
      "\n",
      "\n"
     ]
    }
   ],
   "source": [
    "#!/usr/bin/env python\n",
    "# -*- coding: utf-8 -*-\n",
    "\n",
    "import sys\n",
    "from pathlib import Path\n",
    "import numpy as np\n",
    "from pprint import pprint\n",
    "from astropy.io import fits\n",
    "from astropy.wcs import WCS\n",
    "\n",
    "## Local\n",
    "try:\n",
    "    root = Path(__file__).parent.absolute() / '..'\n",
    "except NameError:\n",
    "    root = Path().absolute() / '..'\n",
    "sys.path.insert(0, root)\n",
    "\n",
    "from rapyuta.utilities import codefold\n",
    "from rapyuta.inout import (\n",
    "    fclean, fitsext, h5ext, ascext, csvext, savext,\n",
    "    read_fits, write_fits,\n",
    "    arr2tab, tab2arr, get_cd, get_pc, patch_wcs_3D,\n",
    "    read_hdf5, write_hdf5,\n",
    "    read_ascii, write_ascii, read_csv, write_csv,\n",
    ")\n",
    "from rapyuta.imaging import (\n",
    "    improve, Jy_per_pix_to_MJy_per_sr,\n",
    "    islice, icrop, irebin, igroupixel, ismooth,\n",
    "    imontage, iswarp, iconvolve, cupid,\n",
    "    wclean, interfill, hextract, hswarp,\n",
    "    concatenate\n",
    ")\n",
    "\n",
    "%matplotlib inline\n",
    "\n",
    "## fold inputs\n",
    "# codefold(True, 'onclick')\n",
    "from rapyuta.imaging import ( improve, Jy_per_pix_to_MJy_per_sr,\n",
    "                              islice, icrop, irebin, igroupixel, ismooth,\n",
    "                              imontage, iswarp, iconvolve, cupid,\n",
    "                              wclean, interfill, hextract, hswarp,\n",
    "                              concatenate )"
   ]
  },
  {
   "cell_type": "code",
   "execution_count": null,
   "id": "573a926a",
   "metadata": {},
   "outputs": [],
   "source": []
  }
 ],
 "metadata": {
  "kernelspec": {
   "display_name": "Python 3 (ipykernel)",
   "language": "python",
   "name": "python3"
  },
  "language_info": {
   "codemirror_mode": {
    "name": "ipython",
    "version": 3
   },
   "file_extension": ".py",
   "mimetype": "text/x-python",
   "name": "python",
   "nbconvert_exporter": "python",
   "pygments_lexer": "ipython3",
   "version": "3.10.4"
  }
 },
 "nbformat": 4,
 "nbformat_minor": 5
}

{
 "cells": [
  {
   "cell_type": "markdown",
   "id": "3bff667d",
   "metadata": {},
   "source": [
    "# rapyuta.inout\n",
    "- [write_fits](#write_fits), [read_fits](#read_fits),\n",
    "- [arr2tab](#arr2tab), [tab2arr](#tab2arr), [get_cd](#get_cd), [get_pc](#get_pc), [patch_wcs_3D](#patch_wcs_3D)\n",
    "- [write_hdf5](#write_hdf5), [read_hdf5](#read_hdf5)\n",
    "- [write_ascii](#write_ascii), [read_ascii](#read_ascii)\n",
    "- [write_csv](#write_csv), [read_csv](#read_csv)\n",
    "- [fclean](#fclean)"
   ]
  },
  {
   "cell_type": "code",
   "execution_count": 25,
   "id": "f5e32ecf",
   "metadata": {
    "scrolled": true
   },
   "outputs": [
    {
     "name": "stdout",
     "output_type": "stream",
     "text": [
      "/Users/dhu/Github/RAPYUTA/man/..\n"
     ]
    }
   ],
   "source": [
    "#!/usr/bin/env python\n",
    "# -*- coding: utf-8 -*-\n",
    "\n",
    "import sys\n",
    "from pathlib import Path\n",
    "import numpy as np\n",
    "from pprint import pprint\n",
    "from astropy.io import fits\n",
    "from astropy.wcs import WCS\n",
    "\n",
    "## Local\n",
    "import rapyuta.utbox as UT\n",
    "from rapyuta.inout import (\n",
    "    fclean, fitsext, h5ext, ascext, csvext, savext,\n",
    "    read_fits, write_fits,\n",
    "    arr2tab, tab2arr, get_cd, get_pc, patch_wcs_3D,\n",
    "    read_hdf5, write_hdf5,\n",
    "    read_ascii, write_ascii, read_csv, write_csv,\n",
    ")\n",
    "\n",
    "## fold inputs\n",
    "# UT.codefold(True, 'onclick')"
   ]
  },
  {
   "cell_type": "code",
   "execution_count": 2,
   "id": "1baf05db",
   "metadata": {
    "scrolled": true
   },
   "outputs": [],
   "source": [
    "## Set dir\n",
    "cfd = Path('').parent.absolute() # current file dir\n",
    "datdir = cfd/'lib'\n",
    "# outdir = cfd/'out'\n",
    "outdir = cfd/'out/test_inout'\n",
    "outdir.mkdir(parents=True, exist_ok=True)\n",
    "\n",
    "datdir = str(datdir)\n",
    "outdir = str(outdir)\n",
    "\n",
    "file_sip_free = datdir+'/M82_04_LL3'+fitsext # no SIP kw\n",
    "file_sip = datdir+'/M82_04_SL3'+fitsext # with SIP kw\n",
    "\n",
    "filout = outdir+'/test_inout'"
   ]
  },
  {
   "cell_type": "markdown",
   "id": "54c5e4c3",
   "metadata": {},
   "source": [
    "## Prepare data"
   ]
  },
  {
   "cell_type": "code",
   "execution_count": 3,
   "id": "c81f292e",
   "metadata": {
    "scrolled": true
   },
   "outputs": [],
   "source": [
    "\n",
    "cd = np.array(((0.00035731, 0.00036933), (0.00036933, -0.00035731)))"
   ]
  },
  {
   "cell_type": "markdown",
   "id": "985f75bc",
   "metadata": {},
   "source": [
    "## get_cd"
   ]
  },
  {
   "cell_type": "code",
   "execution_count": 4,
   "id": "ad700436",
   "metadata": {
    "scrolled": true
   },
   "outputs": [
    {
     "name": "stdout",
     "output_type": "stream",
     "text": [
      "pc\n",
      " [[-0.74958509 -0.661908  ]\n",
      " [ 0.661908   -0.74958509]]\n",
      "cdelt\n",
      " [-0.00141111  0.00141111]\n",
      "cd (via pc+cdelt)\n",
      " [[ 0.00105775  0.00093403]\n",
      " [ 0.00093403 -0.00105775]]\n",
      "\n",
      "\n",
      "pc (via header)\n",
      " [[-0.74958509  0.661908  ]\n",
      " [-0.661908   -0.74958509]]\n",
      "cdelt (via header)\n",
      " [-0.00141111  0.00141111]\n",
      "cd (via header)\n",
      " [[ 0.00105775 -0.00093403]\n",
      " [-0.00093403 -0.00105775]]\n",
      "\n",
      "\n",
      "pc (via wcs)\n",
      " [[-0.74958509  0.661908  ]\n",
      " [-0.661908   -0.74958509]]\n",
      "cdelt (via wcs)\n",
      " [-0.00141111  0.00141111]\n",
      "cd (via wcs)\n",
      " [[ 0.00105775 -0.00093403]\n",
      " [-0.00093403 -0.00105775]]\n"
     ]
    }
   ],
   "source": [
    "## Prepare data\n",
    "hdr = fits.open(file_sip_free)[0].header\n",
    "pc = np.array([(hdr['PC1_1'], hdr['PC2_1']), (hdr['PC1_2'], hdr['PC2_2'])])\n",
    "cdelt = np.array((hdr['CDELT1'], hdr['CDELT2']))\n",
    "\n",
    "## via pc+cdelt\n",
    "get_cd_0 = get_cd(pc, cdelt)\n",
    "cd = get_cd_0.cd\n",
    "print('pc\\n', pc)\n",
    "print('cdelt\\n', cdelt)\n",
    "print('cd (via pc+cdelt)\\n', get_cd_0.cd)\n",
    "print('\\n')\n",
    "\n",
    "## via header\n",
    "get_cd_1 = get_cd(header=hdr)\n",
    "print('pc (via header)\\n', get_cd_1.pc)\n",
    "print('cdelt (via header)\\n', get_cd_1.cdelt)\n",
    "print('cd (via header)\\n', get_cd_1.cd)\n",
    "print('\\n')\n",
    "\n",
    "## via wcs\n",
    "w = WCS(file_sip_free, naxis=2)\n",
    "get_cd_2 = get_cd(wcs=w)\n",
    "print('pc (via wcs)\\n', get_cd_2.pc)\n",
    "print('cdelt (via wcs)\\n', get_cd_2.cdelt)\n",
    "print('cd (via wcs)\\n', get_cd_2.cd)"
   ]
  },
  {
   "cell_type": "markdown",
   "id": "12e1b5ce",
   "metadata": {},
   "source": [
    "## get_pc"
   ]
  },
  {
   "cell_type": "code",
   "execution_count": 5,
   "id": "aabf7c85",
   "metadata": {
    "scrolled": true
   },
   "outputs": [
    {
     "name": "stdout",
     "output_type": "stream",
     "text": [
      "pc (via cd)\n",
      " [[-0.74958509 -0.661908  ]\n",
      " [ 0.661908   -0.74958509]]\n"
     ]
    }
   ],
   "source": [
    "print('pc (via cd)\\n', get_pc(cd).pc)"
   ]
  },
  {
   "cell_type": "markdown",
   "id": "e2bd0851",
   "metadata": {},
   "source": [
    "## read_fits"
   ]
  },
  {
   "cell_type": "code",
   "execution_count": 6,
   "id": "d9ce81df",
   "metadata": {
    "scrolled": false
   },
   "outputs": [
    {
     "name": "stdout",
     "output_type": "stream",
     "text": [
      "data (shape) \n",
      " (22, 30, 81)\n",
      "wave (shape) \n",
      " (22,)\n",
      "uncertainty (shape) \n",
      " (22, 30, 81)\n",
      "\n",
      "\n",
      "JWST data (shape) \n",
      " (1120, 41, 45)\n",
      "JWST uncertainty (shape) \n",
      " (1120, 41, 45)\n"
     ]
    },
    {
     "name": "stderr",
     "output_type": "stream",
     "text": [
      "/Users/dhu/Github/RAPYUTA/rapyuta/inout.py:198: UserWarning: 2D WCS extracted from 3D data! \n",
      "  warnings.warn('2D WCS extracted from 3D data! ')\n"
     ]
    }
   ],
   "source": [
    "get_fdata = read_fits(datdir+'/M82_04_SL3')\n",
    "# print('header \\n', get_fdata.header)\n",
    "# print('header of TAB \\n', get_fdata.header_w)\n",
    "print('data (shape) \\n', get_fdata.data.shape)\n",
    "print('wave (shape) \\n', get_fdata.wave.shape)\n",
    "print('uncertainty (shape) \\n', get_fdata.unc.shape)\n",
    "print('\\n')\n",
    "\n",
    "get_jdata = read_fits(datdir+'/VV114_ch1_long_s3d.fits',\n",
    "                      wmod=1, instr=None, instr_auto=True, ext='')\n",
    "# print('header \\n', get_jdata.header)\n",
    "# print('header of TAB \\n', get_jdata.header_w)\n",
    "print('JWST data (shape) \\n', get_jdata.data.shape)\n",
    "print('JWST uncertainty (shape) \\n', get_jdata.unc.shape)"
   ]
  },
  {
   "cell_type": "markdown",
   "id": "af171a9a",
   "metadata": {},
   "source": [
    "## tab2arr"
   ]
  },
  {
   "cell_type": "code",
   "execution_count": 7,
   "id": "04971946",
   "metadata": {
    "scrolled": false
   },
   "outputs": [
    {
     "name": "stdout",
     "output_type": "stream",
     "text": [
      "JWST wave (shape) \n",
      " (1120,)\n"
     ]
    }
   ],
   "source": [
    "jwave = tab2arr(get_jdata.wave)\n",
    "print('JWST wave (shape) \\n', jwave.shape)"
   ]
  },
  {
   "cell_type": "markdown",
   "id": "e70afa0f",
   "metadata": {},
   "source": [
    "## arr2tab"
   ]
  },
  {
   "cell_type": "code",
   "execution_count": 8,
   "id": "9041caeb",
   "metadata": {
    "scrolled": false
   },
   "outputs": [
    {
     "data": {
      "text/plain": [
       "FITS_rec([([[7.3675313], [7.429502 ], [7.4914727], [7.553444 ], [7.6154146], [7.6773853], [7.7393565], [7.801327 ], [7.863298 ], [7.925269 ], [7.98724  ], [8.049211 ], [8.111181 ], [8.173153 ], [8.235124 ], [8.297094 ], [8.359065 ], [8.421036 ], [8.4830065], [8.544978 ], [8.606949 ], [8.66892  ]],)],\n",
       "         dtype=(numpy.record, [('WAVE-TAB', '<f4', (22, 1))]))"
      ]
     },
     "execution_count": 8,
     "metadata": {},
     "output_type": "execute_result"
    }
   ],
   "source": [
    "wave = arr2tab(get_fdata.wave, header=get_fdata.header_w)\n",
    "wave"
   ]
  },
  {
   "cell_type": "markdown",
   "id": "e54b9e34",
   "metadata": {},
   "source": [
    "## write_fits"
   ]
  },
  {
   "cell_type": "code",
   "execution_count": 9,
   "id": "809b11ed",
   "metadata": {
    "scrolled": true
   },
   "outputs": [],
   "source": [
    "write_fits(outdir+'/sip_cube_rewriten',\n",
    "           get_fdata.header, get_fdata.data, wave, header_w=get_fdata.header_w)\n",
    "write_fits(outdir+'/jcube_irs_data_format_copy',\n",
    "           get_jdata.header, get_jdata.data, jwave, wmod=1)"
   ]
  },
  {
   "cell_type": "markdown",
   "id": "e7e2893c",
   "metadata": {},
   "source": [
    "## patch_wcs_3D"
   ]
  },
  {
   "cell_type": "code",
   "execution_count": 10,
   "id": "3dec1ea3",
   "metadata": {
    "scrolled": true
   },
   "outputs": [
    {
     "name": "stdout",
     "output_type": "stream",
     "text": [
      "Tested with astropy v5.1\n",
      "********************\n",
      "WCS Keywords\n",
      "\n",
      "Number of WCS axes: 3\n",
      "CTYPE : 'RA---TAN'  'DEC--TAN'  'WAVE-TAB'  \n",
      "CRVAL : 149.024706598  69.6615857438  1.0  \n",
      "CRPIX : 37.5  6.5  1.0  \n",
      "PC1_1 PC1_2 PC1_3  : -0.749585088887  0.661907995508  0.0  \n",
      "PC2_1 PC2_2 PC2_3  : -0.661907995508  -0.749585088887  0.0  \n",
      "PC3_1 PC3_2 PC3_3  : 0.0  0.0  1.0  \n",
      "CDELT : -0.00141111109406  0.00141111109406  1.0  \n",
      "NAXIS : 74  12  12\n",
      "\n",
      "\n"
     ]
    }
   ],
   "source": [
    "print('Tested with astropy v5.1')\n",
    "print('********************')\n",
    "print(WCS(file_sip_free))\n",
    "# print(WCS(file_sip)) # With SIP kw\n",
    "print('\\n')\n",
    "\n",
    "#ValueError:\n",
    "#FITS WCS distortion paper lookup tables and SIP distortions only work in 2 dimensions.\n",
    "#However, WCSLIB has detected 3 dimensions in the core WCS keywords.\n",
    "#To use core WCS in conjunction with FITS WCS distortion paper lookup tables or SIP distortion, \n",
    "#you must select or reduce these to 2 dimensions using the naxis kwarg."
   ]
  },
  {
   "cell_type": "code",
   "execution_count": 11,
   "id": "81f987ae",
   "metadata": {
    "scrolled": true
   },
   "outputs": [
    {
     "name": "stdout",
     "output_type": "stream",
     "text": [
      "All kw with the character \"3\":\n",
      "********************\n",
      "NAXIS3\n",
      "PC3_3\n",
      "CRPIX3\n",
      "CRVAL3\n",
      "CTYPE3\n",
      "CUNIT3\n",
      "PS3_0\n",
      "PS3_1\n",
      "A_0_3\n",
      "A_3_0\n",
      "B_0_3\n",
      "B_3_0\n",
      "AP_0_3\n",
      "AP_3_0\n",
      "BP_0_3\n",
      "BP_3_0\n",
      "FLXCON03\n",
      "FLXERR03\n",
      "GAIN3\n",
      "BASECH3\n",
      "\n",
      "2D WCS (del all kw with \"3\"):\n",
      "********************\n",
      "WCS Keywords\n",
      "\n",
      "Number of WCS axes: 2\n",
      "CTYPE : 'RA---TAN'  'DEC--TAN'  \n",
      "CRVAL : 148.949761128  69.6707806935  \n",
      "CRPIX : 41.0  15.5  \n",
      "PC1_1 PC1_2  : 0.57622073813  0.81729410921  \n",
      "PC2_1 PC2_2  : -0.81729410921  0.57622073813  \n",
      "CDELT : -0.000513888895512  0.000513888895512  \n",
      "NAXIS : 81  30\n"
     ]
    }
   ],
   "source": [
    "## Way 1 - 'all'\n",
    "##---------------\n",
    "hdr = fits.open(file_sip)[0].header\n",
    "header = hdr.copy()\n",
    "\n",
    "print('All kw with the character \"3\":')\n",
    "print('********************')\n",
    "for kw in hdr.keys():\n",
    "    if '3' in kw:\n",
    "        del header[kw]\n",
    "        print(kw)\n",
    "header['NAXIS'] = 2\n",
    "\n",
    "print('\\n2D WCS (del all kw with \"3\"):')\n",
    "print('********************')\n",
    "print(WCS(header))"
   ]
  },
  {
   "cell_type": "code",
   "execution_count": 12,
   "id": "ed521408",
   "metadata": {
    "scrolled": true
   },
   "outputs": [
    {
     "name": "stdout",
     "output_type": "stream",
     "text": [
      "\n",
      "2D WCS (del minimum kw):\n",
      "********************\n",
      "WCS Keywords\n",
      "\n",
      "Number of WCS axes: 2\n",
      "CTYPE : 'RA---TAN'  'DEC--TAN'  \n",
      "CRVAL : 148.949761128  69.6707806935  \n",
      "CRPIX : 41.0  15.5  \n",
      "PC1_1 PC1_2  : 0.57622073813  0.81729410921  \n",
      "PC2_1 PC2_2  : -0.81729410921  0.57622073813  \n",
      "CDELT : -0.000513888895512  0.000513888895512  \n",
      "NAXIS : 81  30\n"
     ]
    }
   ],
   "source": [
    "## Way 2 - default\n",
    "##-----------------\n",
    "hdr = fits.open(file_sip)[0].header\n",
    "header = hdr.copy()\n",
    "\n",
    "del header['CTYPE3'] # Memory allocation error\n",
    "del header['NAXIS3']\n",
    "\n",
    "print('\\n2D WCS (del minimum kw):')\n",
    "print('********************')\n",
    "print(WCS(header,naxis=2))"
   ]
  },
  {
   "cell_type": "code",
   "execution_count": 13,
   "id": "90f7b92b",
   "metadata": {
    "scrolled": true
   },
   "outputs": [
    {
     "name": "stdout",
     "output_type": "stream",
     "text": [
      "\n",
      "2D WCS (del SIP kw):\n",
      "********************\n",
      "WCS Keywords\n",
      "\n",
      "Number of WCS axes: 3\n",
      "CTYPE : 'RA---TAN'  'DEC--TAN'  ''  \n",
      "CRVAL : 148.949761128  69.6707806935  1.0  \n",
      "CRPIX : 41.0  15.5  1.0  \n",
      "PC1_1 PC1_2 PC1_3  : 0.57622073813  0.81729410921  0.0  \n",
      "PC2_1 PC2_2 PC2_3  : -0.81729410921  0.57622073813  0.0  \n",
      "PC3_1 PC3_2 PC3_3  : 0.0  0.0  1.0  \n",
      "CDELT : -0.000513888895512  0.000513888895512  1.0  \n",
      "NAXIS : 81  30  22\n"
     ]
    }
   ],
   "source": [
    "## Way 3 - 'sip'\n",
    "##---------------\n",
    "hdr = fits.open(file_sip)[0].header\n",
    "header = hdr.copy()\n",
    "\n",
    "# header['NAXIS'] = 2 # WCSLIB has detected 3D kw\n",
    "# del header['NAXIS3']\n",
    "# del header['PC3_3'] # WCSLIB has detected 3D kw\n",
    "# del header['CRPIX3'] # WCSLIB has detected 3D kw\n",
    "# del header['CRVAL3'] # WCSLIB has detected 3D kw\n",
    "del header['CTYPE3'] # Memory allocation error\n",
    "# del header['CUNIT3'] # WCSLIB has detected 3D kw\n",
    "# del header['PS3_0'] # WCSLIB has detected 3D kw\n",
    "# del header['PS3_1'] # WCSLIB has detected 3D kw\n",
    "# del header['A_0_3'] # SIP kw\n",
    "# del header['A_3_0'] # SIP kw\n",
    "# del header['B_0_3'] # SIP kw\n",
    "# del header['B_3_0'] # SIP kw\n",
    "# del header['AP_0_3'] # SIP kw\n",
    "# del header['AP_3_0'] # SIP kw\n",
    "# del header['BP_0_3'] # SIP kw\n",
    "# del header['BP_3_0'] # SIP kw\n",
    "# del header['FLXCON03']\n",
    "# del header['FLXERR03']\n",
    "# del header['GAIN3']\n",
    "# del header['BASECH3']\n",
    "\n",
    "for kw in header.keys():\n",
    "    if ('A_' in kw) and (not 'PA' in kw) and (not 'RA' in kw):\n",
    "        del header[kw]\n",
    "    if ('B_' in kw) or ('AP_' in kw) or ('BP_' in kw):\n",
    "        del header[kw]\n",
    "\n",
    "print('\\n2D WCS (del SIP kw):')\n",
    "print('********************')\n",
    "print(WCS(header))\n",
    "#print(list(header.keys()))"
   ]
  },
  {
   "cell_type": "code",
   "execution_count": 14,
   "id": "33fb5d69",
   "metadata": {
    "scrolled": true
   },
   "outputs": [
    {
     "name": "stdout",
     "output_type": "stream",
     "text": [
      "\n",
      "del_kw=\"all\" WCS:\n",
      "********************\n",
      "WCS Keywords\n",
      "\n",
      "Number of WCS axes: 2\n",
      "CTYPE : 'RA---TAN'  'DEC--TAN'  \n",
      "CRVAL : 148.949761128  69.6707806935  \n",
      "CRPIX : 41.0  15.5  \n",
      "PC1_1 PC1_2  : 0.57622073813  0.81729410921  \n",
      "PC2_1 PC2_2  : -0.81729410921  0.57622073813  \n",
      "CDELT : -0.000513888895512  0.000513888895512  \n",
      "NAXIS : 81  30\n"
     ]
    }
   ],
   "source": [
    "## Testing patch_fits_3D\n",
    "print('\\ndel_kw=\"all\" WCS:')\n",
    "print('********************')\n",
    "print(patch_wcs_3D(file_sip, ext='', del_kw='all').wcs)"
   ]
  },
  {
   "cell_type": "code",
   "execution_count": 15,
   "id": "8759f30b",
   "metadata": {
    "scrolled": true
   },
   "outputs": [
    {
     "name": "stdout",
     "output_type": "stream",
     "text": [
      "\n",
      "del_kw=None WCS:\n",
      "********************\n",
      "WCS Keywords\n",
      "\n",
      "Number of WCS axes: 2\n",
      "CTYPE : 'RA---TAN'  'DEC--TAN'  \n",
      "CRVAL : 148.949761128  69.6707806935  \n",
      "CRPIX : 41.0  15.5  \n",
      "PC1_1 PC1_2  : 0.57622073813  0.81729410921  \n",
      "PC2_1 PC2_2  : -0.81729410921  0.57622073813  \n",
      "CDELT : -0.000513888895512  0.000513888895512  \n",
      "NAXIS : 81  30\n"
     ]
    }
   ],
   "source": [
    "print('\\ndel_kw=None WCS:')\n",
    "print('********************')\n",
    "print(patch_wcs_3D(file_sip, ext='').wcs)"
   ]
  },
  {
   "cell_type": "code",
   "execution_count": 16,
   "id": "c7c0a0ed",
   "metadata": {
    "scrolled": true
   },
   "outputs": [
    {
     "name": "stdout",
     "output_type": "stream",
     "text": [
      "\n",
      "del_kw=\"sip\" WCS:\n",
      "********************\n",
      "WCS Keywords\n",
      "\n",
      "Number of WCS axes: 3\n",
      "CTYPE : 'RA---TAN'  'DEC--TAN'  ''  \n",
      "CRVAL : 148.949761128  69.6707806935  1.0  \n",
      "CRPIX : 41.0  15.5  1.0  \n",
      "PC1_1 PC1_2 PC1_3  : 0.57622073813  0.81729410921  0.0  \n",
      "PC2_1 PC2_2 PC2_3  : -0.81729410921  0.57622073813  0.0  \n",
      "PC3_1 PC3_2 PC3_3  : 0.0  0.0  1.0  \n",
      "CDELT : -0.000513888895512  0.000513888895512  1.0  \n",
      "NAXIS : 81  30  22\n"
     ]
    }
   ],
   "source": [
    "print('\\ndel_kw=\"sip\" WCS:')\n",
    "print('********************')\n",
    "print(patch_wcs_3D(file_sip, ext='', del_kw='sip').wcs)"
   ]
  },
  {
   "cell_type": "code",
   "execution_count": 17,
   "id": "33808565",
   "metadata": {
    "scrolled": true
   },
   "outputs": [
    {
     "name": "stdout",
     "output_type": "stream",
     "text": [
      "\n",
      "No input error:\n",
      "********************\n"
     ]
    }
   ],
   "source": [
    "print('\\nNo input error:')\n",
    "print('********************')\n",
    "#print(patch_wcs_3D().wcs)"
   ]
  },
  {
   "cell_type": "markdown",
   "id": "b634748f",
   "metadata": {},
   "source": [
    "## write_hdf5"
   ]
  },
  {
   "cell_type": "code",
   "execution_count": 18,
   "id": "85efd8cb",
   "metadata": {
    "scrolled": true
   },
   "outputs": [
    {
     "name": "stdout",
     "output_type": "stream",
     "text": [
      "[write_hdf5] Dataset /test_grp/Grp data has been written in the new file:\n",
      "     /Users/dhu/Github/RAPYUTA/man/../man/out/test_inout/test_inout_h5grp.h5 .\n",
      "[write_hdf5] Dataset /test_grp/Grp data in the file:\n",
      "     /Users/dhu/Github/RAPYUTA/man/../man/out/test_inout/test_inout_h5grp.h5  has been modified.\n"
     ]
    }
   ],
   "source": [
    "label = [['alpha', 'beta', 'gamma'], [1,2,3]]\n",
    "data1 = np.arange(5, 23, 2).reshape((3,3))\n",
    "# data2 = [1,2,3]\n",
    "# data2 = [[1,2,3]]\n",
    "data2 = np.arange(4).reshape((2,2))\n",
    "write_hdf5(filout, 'Label', label)\n",
    "write_hdf5(filout, 'Data', data1, append=True)\n",
    "# write_hdf5(filout, 'Data', data2, ind1=[2,5], append=True)\n",
    "# write_hdf5(filout, 'Data', data2, ind1=1, ind2=[0,3], append=True)\n",
    "write_hdf5(filout, 'Data', data2, ind1=[0,2], ind2=[1,3], append=True)\n",
    "write_hdf5(filout+'_h5grp', 'Grp data', data1, group='/test_grp', verbose=True)\n",
    "write_hdf5(filout+'_h5grp', 'Grp data', data2, group='/test_grp', \n",
    "           ind1=[0,2], ind2=[1,3], append=True, verbose=True)"
   ]
  },
  {
   "cell_type": "markdown",
   "id": "8bea5421",
   "metadata": {},
   "source": [
    "## read_hdf5"
   ]
  },
  {
   "cell_type": "code",
   "execution_count": 19,
   "id": "5fce6220",
   "metadata": {
    "scrolled": true
   },
   "outputs": [
    {
     "name": "stdout",
     "output_type": "stream",
     "text": [
      "Label \n",
      " [['alpha' 'beta' 'gamma']\n",
      " ['1' '2' '3']]\n",
      "Data \n",
      " [[ 5  0  1]\n",
      " [11  2  3]\n",
      " [17 19 21]]\n",
      "Grp data \n",
      " [[ 5  0  1]\n",
      " [11  2  3]\n",
      " [17 19 21]]\n"
     ]
    }
   ],
   "source": [
    "get_label = read_hdf5(filout, 'Label')\n",
    "print('Label \\n', get_label)\n",
    "get_data = read_hdf5(filout, 'Data')\n",
    "print('Data \\n', get_data)\n",
    "get_grp = read_hdf5(filout+'_h5grp', 'Grp data', group='test_grp')\n",
    "print('Grp data \\n', get_grp)"
   ]
  },
  {
   "cell_type": "markdown",
   "id": "ad9ab531",
   "metadata": {},
   "source": [
    "## write_ascii"
   ]
  },
  {
   "cell_type": "code",
   "execution_count": 20,
   "id": "0728e8e8",
   "metadata": {
    "scrolled": true
   },
   "outputs": [],
   "source": [
    "lab = ['col1', 'col2']\n",
    "arr = np.arange(12).reshape((6,2))\n",
    "arr_trans = np.arange(0, 12000, 1000).reshape((2,6))\n",
    "write_ascii(filout, comment='Empty file!')\n",
    "write_ascii(filout, lab, arr, comment='Data begins from line 3')\n",
    "write_ascii(filout, dset=arr_trans, trans=True, append=True)\n",
    "write_ascii(filout+'_mycsv', lab, arr, ext='.csv') # not compatible"
   ]
  },
  {
   "cell_type": "markdown",
   "id": "878e4e39",
   "metadata": {},
   "source": [
    "## read_ascii"
   ]
  },
  {
   "cell_type": "code",
   "execution_count": 21,
   "id": "807fa4d1",
   "metadata": {
    "scrolled": false
   },
   "outputs": [
    {
     "name": "stdout",
     "output_type": "stream",
     "text": [
      "col1 \n",
      " [0.e+00 2.e+00 4.e+00 6.e+00 8.e+00 1.e+01 0.e+00 1.e+03 2.e+03 3.e+03\n",
      " 4.e+03 5.e+03]\n",
      "col2 \n",
      " [1.0e+00 3.0e+00 5.0e+00 7.0e+00 9.0e+00 1.1e+01 6.0e+03 7.0e+03 8.0e+03\n",
      " 9.0e+03 1.0e+04 1.1e+04]\n",
      "col1 - Wave (microns) \n",
      " ['3.081060' '3.082890' '3.084730' '3.086560' '3.088400' '3.090240'\n",
      " '3.092080' '3.093930' '3.095780' '3.097620']\n",
      "col2 - Spectral Response (electrons/photon) \n",
      " ['0.000490' '0.000586' '0.000453' '0.000458' '0.000439' '0.000531'\n",
      " '0.000641' '0.000442' '0.000535' '0.000655']\n"
     ]
    }
   ],
   "source": [
    "get_arr = read_ascii(filout, dtype=float)\n",
    "print('col1 \\n', get_arr['col1'])\n",
    "print('col2 \\n', get_arr['col2'])\n",
    "get_adata = read_ascii(datdir+'/filt_IRAC1', start_header=2)\n",
    "print('col1 - Wave (microns) \\n', get_adata['Wave'][:10])\n",
    "print('col2 - Spectral Response (electrons/photon) \\n', get_adata['col2'][:10])"
   ]
  },
  {
   "cell_type": "markdown",
   "id": "94a9cca6",
   "metadata": {},
   "source": [
    "## write_csv"
   ]
  },
  {
   "cell_type": "code",
   "execution_count": 22,
   "id": "c25521fa",
   "metadata": {
    "scrolled": true
   },
   "outputs": [],
   "source": [
    "write_csv(filout, lab, arr)"
   ]
  },
  {
   "cell_type": "markdown",
   "id": "5d37f85f",
   "metadata": {},
   "source": [
    "## read_csv"
   ]
  },
  {
   "cell_type": "code",
   "execution_count": 23,
   "id": "dd9acf5f",
   "metadata": {
    "scrolled": true
   },
   "outputs": [
    {
     "name": "stdout",
     "output_type": "stream",
     "text": [
      "col2: \n",
      " ['1' '3' '5' '7' '9' '11']\n",
      "col1: \n",
      " ['0' '2' '4' '6' '8' '10']\n"
     ]
    }
   ],
   "source": [
    "get_cdata = read_csv(filout, csvext, 'col2', 'col1')\n",
    "print('col2: \\n', get_cdata['col2'])\n",
    "print('col1: \\n', get_cdata['col1'])"
   ]
  },
  {
   "cell_type": "markdown",
   "id": "a3bfc6f9",
   "metadata": {},
   "source": [
    "## fclean"
   ]
  },
  {
   "cell_type": "code",
   "execution_count": 24,
   "id": "e4f9e948",
   "metadata": {
    "scrolled": true
   },
   "outputs": [
    {
     "name": "stdout",
     "output_type": "stream",
     "text": [
      "Clean test outputs (y/n): \n"
     ]
    }
   ],
   "source": [
    "if input('Clean test outputs (y/n): ')=='y':\n",
    "    info = 'Test outputs is empty! [Done]'\n",
    "    fclean(outdir, info)"
   ]
  }
 ],
 "metadata": {
  "kernelspec": {
   "display_name": "Python 3 (ipykernel)",
   "language": "python",
   "name": "python3"
  },
  "language_info": {
   "codemirror_mode": {
    "name": "ipython",
    "version": 3
   },
   "file_extension": ".py",
   "mimetype": "text/x-python",
   "name": "python",
   "nbconvert_exporter": "python",
   "pygments_lexer": "ipython3",
   "version": "3.10.4"
  }
 },
 "nbformat": 4,
 "nbformat_minor": 5
}

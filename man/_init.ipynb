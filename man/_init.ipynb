{
 "cells": [
  {
   "cell_type": "markdown",
   "id": "4fc29c28",
   "metadata": {},
   "source": [
    "# rapyuta\n",
    "- utbox\n",
    "  + [getcfd](#Current-file-path)\n",
    "  + [maketmp](#utbox.maketmp)\n",
    "  + [fclean](#utbox.fclean)"
   ]
  },
  {
   "cell_type": "code",
   "execution_count": 1,
   "id": "1a29e917",
   "metadata": {},
   "outputs": [
    {
     "name": "stdout",
     "output_type": "stream",
     "text": [
      "\u001b[1m\u001b[33m \u001b[0m\u001b[1m\u001b[41m\u001b[33m \u001b[5m                                                                             \u001b[0m\u001b[1m\u001b[33m \u001b[0m\n",
      "\u001b[1m\u001b[33m \u001b[0m\u001b[1m\u001b[41m\u001b[33m \u001b[5m                                 \\  \\|/  /                                   \u001b[0m\u001b[1m\u001b[33m \u001b[0m\n",
      "\u001b[1m\u001b[33m \u001b[0m\u001b[1m\u001b[41m\u001b[33m \u001b[5m                              \\ _\\_ ||| _/_ /                                \u001b[0m\u001b[1m\u001b[33m \u001b[0m\n",
      "\u001b[1m\u001b[33m \u001b[0m\u001b[1m\u001b[41m\u001b[33m \u001b[5m                                    |||                                      \u001b[0m\u001b[1m\u001b[33m \u001b[0m\n",
      "\u001b[1m\u001b[33m \u001b[0m\u001b[1m\u001b[41m\u001b[33m \u001b[5m                                /\\/-/|\\-\\/\\                                  \u001b[0m\u001b[1m\u001b[33m \u001b[0m\n",
      "\u001b[1m\u001b[33m \u001b[0m\u001b[1m\u001b[41m\u001b[33m \u001b[5m                            _ | _M_ _|_ _M_ | _                              \u001b[0m\u001b[1m\u001b[33m \u001b[0m\n",
      "\u001b[1m\u001b[33m \u001b[0m\u001b[1m\u001b[41m\u001b[33m \u001b[5m                          / .~.    _ ^ _    .~. \\                            \u001b[0m\u001b[1m\u001b[33m \u001b[0m\n",
      "\u001b[1m\u001b[33m \u001b[0m\u001b[1m\u001b[41m\u001b[33m \u001b[5m                         |_|_0_|  |_&_&_|  |_0_|_|                           \u001b[0m\u001b[1m\u001b[33m \u001b[0m\n",
      "\u001b[1m\u001b[33m \u001b[0m\u001b[1m\u001b[41m\u001b[33m \u001b[5m                        //    .~.    o    .~.    \\\\                          \u001b[0m\u001b[1m\u001b[33m \u001b[0m\n",
      "\u001b[1m\u001b[33m \u001b[0m\u001b[1m\u001b[41m\u001b[33m \u001b[5m                       |_M_ _|_?_|__[_]__|_?_|_ _M_|                         \u001b[0m\u001b[1m\u001b[33m \u001b[0m\n",
      "\u001b[1m\u001b[33m \u001b[0m\u001b[1m\u001b[41m\u001b[33m \u001b[5m                              |             |                                \u001b[0m\u001b[1m\u001b[33m \u001b[0m\n",
      "\u001b[1m\u001b[33m \u001b[0m\u001b[1m\u001b[41m\u001b[33m \u001b[5m                               \\  rapyuta  /                                 \u001b[0m\u001b[1m\u001b[33m \u001b[0m\n",
      "\u001b[1m\u001b[33m \u001b[0m\u001b[1m\u001b[41m\u001b[33m \u001b[5m                                 \\       /         _                         \u001b[0m\u001b[1m\u001b[33m \u001b[0m\n",
      "\u001b[1m\u001b[33m \u001b[0m\u001b[1m\u001b[41m\u001b[33m \u001b[5m                      * ¨^  .~       =           ~^' _-                      \u001b[0m\u001b[1m\u001b[33m \u001b[0m\n",
      "\u001b[1m\u001b[33m \u001b[0m\u001b[1m\u001b[41m\u001b[33m \u001b[5m                        ~ °                                                  \u001b[0m\u001b[1m\u001b[33m \u001b[0m\n",
      "\u001b[1m\u001b[33m \u001b[0m\u001b[1m\u001b[41m\u001b[33m \u001b[5m                                                                             \u001b[0m\u001b[1m\u001b[33m \u001b[0m\n",
      "\u001b[1m\u001b[33m \u001b[0m\u001b[1m\u001b[41m\u001b[33m \u001b[5m                          Version 2.2.2 (20220822)                           \u001b[0m\u001b[1m\u001b[33m \u001b[0m\n",
      " \u001b[1m\u001b[41m\u001b[33m                                                                              \u001b[0m\n",
      "\n"
     ]
    }
   ],
   "source": [
    "import sys, os, inspect\n",
    "from pathlib import Path\n",
    "from pprint import pprint\n",
    "\n",
    "## Local\n",
    "import rapyuta.utbox as UT\n",
    "from rapyuta import (\n",
    "    rapyroot, version_control, boost_rapyuta\n",
    ")"
   ]
  },
  {
   "cell_type": "code",
   "execution_count": 2,
   "id": "42c6e833",
   "metadata": {},
   "outputs": [
    {
     "name": "stdout",
     "output_type": "stream",
     "text": [
      "rapyuta source code root: \n",
      "/Users/dhu/Github/RAPYUTA/rapyuta\n",
      "\n",
      "\n",
      "v2.2.2 (20220822)\n",
      "\n",
      "\n",
      "\n",
      "Houston, Tranquility Base here. The Eagle has landed.\n",
      "\n"
     ]
    }
   ],
   "source": [
    "print(f'rapyuta source code root: \\n{rapyroot}')\n",
    "print('\\n')\n",
    "version_control()\n",
    "print('\\n')\n",
    "boost_rapyuta()"
   ]
  },
  {
   "cell_type": "markdown",
   "id": "665b16ad",
   "metadata": {},
   "source": [
    "# System\n",
    "## Path\n",
    "### Current working path"
   ]
  },
  {
   "cell_type": "code",
   "execution_count": 3,
   "id": "9efecac2",
   "metadata": {},
   "outputs": [
    {
     "name": "stdout",
     "output_type": "stream",
     "text": [
      "1.  /Users/dhu/Github/RAPYUTA/man\n",
      "2.  /Users/dhu/Github/RAPYUTA/man\n",
      "3.  /Users/dhu/Github/RAPYUTA/man\n",
      "4.  /Users/dhu/Github/RAPYUTA/man\n"
     ]
    }
   ],
   "source": [
    "## 1. pathlib.Path\n",
    "cwd = Path().absolute()\n",
    "print('1. ', cwd)\n",
    "## 2. pathlib.Path\n",
    "cwd = Path().resolve()\n",
    "print('2. ', cwd)\n",
    "\n",
    "## 3. os.getcwd\n",
    "cwd = os.getcwd()\n",
    "print('3. ', cwd)\n",
    "## 4. os.path\n",
    "cwd = os.path.abspath(os.getcwd())\n",
    "print('4. ', cwd)"
   ]
  },
  {
   "cell_type": "markdown",
   "id": "2e388476",
   "metadata": {},
   "source": [
    "### Current file path"
   ]
  },
  {
   "cell_type": "code",
   "execution_count": 4,
   "id": "5469ad9c",
   "metadata": {},
   "outputs": [
    {
     "name": "stdout",
     "output_type": "stream",
     "text": [
      "1.  /Users/dhu/Github/RAPYUTA/man\n",
      "2.  /Users/dhu/Github/RAPYUTA/man\n",
      "3.1  /var/folders/g2/96dz2zfs6cn9480v0smyms1c84p2qf/T/ipykernel_58831/2979650408.py\n"
     ]
    },
    {
     "name": "stderr",
     "output_type": "stream",
     "text": [
      "/Users/dhu/Github/RAPYUTA/rapyuta/utbox.py:390: UserWarning: \"/var/folders/g2/96dz2zfs6cn9480v0smyms1c84p2qf/T/ipykernel_58831/2979650408.py\" is either a directory,or is running on Jupyter notebook.For the first case, the directory is returned.For the latter case, insert the file name.\n",
      "  warnings.warn(f'\"{filename}\" is either a directory,'\n"
     ]
    }
   ],
   "source": [
    "## 1. pathlib.Path().parent\n",
    "try:\n",
    "    cfd = Path(__file__).parent.absolute() # terminal\n",
    "except NameError:\n",
    "    ## Always get folder for .ipynb file instead of the directory\n",
    "    ## from where jupyter notebook is launched.\n",
    "    cfd = Path('').parent.absolute() # interactive\n",
    "print('1. ', cfd)\n",
    "\n",
    "## 2. os.path.dirname\n",
    "try:\n",
    "    cfd = os.path.dirname(os.path.abspath(__file__)) # terminal\n",
    "except NameError:\n",
    "    cfd = os.path.dirname(os.path.abspath('utbox.ipynb')) # interactive\n",
    "print('2. ', cfd)\n",
    "\n",
    "## 3. rapyuta.utbox.getcfd\n",
    "cfd = UT.getcfd(verbose=True) # not worked on jupyter notebook\n",
    "print('3.1 ', cfd)"
   ]
  },
  {
   "cell_type": "code",
   "execution_count": 5,
   "id": "70c946da",
   "metadata": {},
   "outputs": [
    {
     "name": "stdout",
     "output_type": "stream",
     "text": [
      "3.2  /Users/dhu/Github/RAPYUTA/man\n",
      "3.3  /Users/dhu/Github/RAPYUTA/man\n"
     ]
    },
    {
     "name": "stderr",
     "output_type": "stream",
     "text": [
      "/Users/dhu/Github/RAPYUTA/rapyuta/utbox.py:390: UserWarning: \"/Users/dhu/Github/RAPYUTA/man\" is either a directory,or is running on Jupyter notebook.For the first case, the directory is returned.For the latter case, insert the file name.\n",
      "  warnings.warn(f'\"{filename}\" is either a directory,'\n"
     ]
    }
   ],
   "source": [
    "## 3. rapyuta.utbox.getcfd (continued)\n",
    "cfd = UT.getcfd('', verbose=True)\n",
    "print('3.2 ', cfd)\n",
    "cfd = UT.getcfd('utbox.ipynb', verbose=True)\n",
    "print('3.3 ', cfd)"
   ]
  },
  {
   "cell_type": "markdown",
   "id": "d9ecedde",
   "metadata": {},
   "source": [
    "### Current caller's file directory"
   ]
  },
  {
   "cell_type": "code",
   "execution_count": 6,
   "id": "a12372fe",
   "metadata": {},
   "outputs": [],
   "source": [
    "## Use inspect.stack()\n",
    "def check_caller1():\n",
    "    frames = inspect.stack()\n",
    "    print(len(frames)) # nb of frames\n",
    "    print('\\n')\n",
    "    for i in range(len(frames)):\n",
    "        print(frames[i][1])\n",
    "    print('\\n')\n",
    "    print(frames[0]) # def func (lowest level)\n",
    "    print('\\n')\n",
    "    print(frames[1]) # caller\n",
    "    print('\\n')\n",
    "    print(frames[1][0])\n",
    "    print('\\n')\n",
    "    print(frames[1][1]) # cfd\n",
    "    print('\\n')\n",
    "    print(frames[1][0].f_code)\n",
    "    print('\\n')\n",
    "    print(frames[1][0].f_code.co_filename) # cfd\n",
    "\n",
    "## Use sys._getframe\n",
    "def check_caller2():\n",
    "    frame0 = sys._getframe() # def func (lowest level)\n",
    "    print(frame0)\n",
    "    print('\\n')\n",
    "    frame1 = sys._getframe(1) # caller\n",
    "    print(frame1)\n",
    "    print('\\n')\n",
    "    print(frame1.f_code)\n",
    "    print('\\n')\n",
    "    print(frame1.f_code.co_filename) # cfd"
   ]
  },
  {
   "cell_type": "code",
   "execution_count": 7,
   "id": "de975f2d",
   "metadata": {},
   "outputs": [
    {
     "name": "stdout",
     "output_type": "stream",
     "text": [
      "23\n",
      "\n",
      "\n",
      "/var/folders/g2/96dz2zfs6cn9480v0smyms1c84p2qf/T/ipykernel_58831/1782204483.py\n",
      "/var/folders/g2/96dz2zfs6cn9480v0smyms1c84p2qf/T/ipykernel_58831/436871162.py\n",
      "/Users/dhu/miniconda3/envs/rapdev/lib/python3.10/site-packages/IPython/core/interactiveshell.py\n",
      "/Users/dhu/miniconda3/envs/rapdev/lib/python3.10/site-packages/IPython/core/interactiveshell.py\n",
      "/Users/dhu/miniconda3/envs/rapdev/lib/python3.10/site-packages/IPython/core/interactiveshell.py\n",
      "/Users/dhu/miniconda3/envs/rapdev/lib/python3.10/site-packages/IPython/core/async_helpers.py\n",
      "/Users/dhu/miniconda3/envs/rapdev/lib/python3.10/site-packages/IPython/core/interactiveshell.py\n",
      "/Users/dhu/miniconda3/envs/rapdev/lib/python3.10/site-packages/IPython/core/interactiveshell.py\n",
      "/Users/dhu/miniconda3/envs/rapdev/lib/python3.10/site-packages/ipykernel/zmqshell.py\n",
      "/Users/dhu/miniconda3/envs/rapdev/lib/python3.10/site-packages/ipykernel/ipkernel.py\n",
      "/Users/dhu/miniconda3/envs/rapdev/lib/python3.10/site-packages/ipykernel/kernelbase.py\n",
      "/Users/dhu/miniconda3/envs/rapdev/lib/python3.10/site-packages/ipykernel/kernelbase.py\n",
      "/Users/dhu/miniconda3/envs/rapdev/lib/python3.10/site-packages/ipykernel/kernelbase.py\n",
      "/Users/dhu/miniconda3/envs/rapdev/lib/python3.10/site-packages/ipykernel/kernelbase.py\n",
      "/Users/dhu/miniconda3/envs/rapdev/lib/python3.10/asyncio/events.py\n",
      "/Users/dhu/miniconda3/envs/rapdev/lib/python3.10/asyncio/base_events.py\n",
      "/Users/dhu/miniconda3/envs/rapdev/lib/python3.10/asyncio/base_events.py\n",
      "/Users/dhu/miniconda3/envs/rapdev/lib/python3.10/site-packages/tornado/platform/asyncio.py\n",
      "/Users/dhu/miniconda3/envs/rapdev/lib/python3.10/site-packages/ipykernel/kernelapp.py\n",
      "/Users/dhu/miniconda3/envs/rapdev/lib/python3.10/site-packages/traitlets/config/application.py\n",
      "/Users/dhu/miniconda3/envs/rapdev/lib/python3.10/site-packages/ipykernel_launcher.py\n",
      "/Users/dhu/miniconda3/envs/rapdev/lib/python3.10/runpy.py\n",
      "/Users/dhu/miniconda3/envs/rapdev/lib/python3.10/runpy.py\n",
      "\n",
      "\n",
      "FrameInfo(frame=<frame at 0x7fd946164c10, file '/var/folders/g2/96dz2zfs6cn9480v0smyms1c84p2qf/T/ipykernel_58831/1782204483.py', line 9, code check_caller1>, filename='/var/folders/g2/96dz2zfs6cn9480v0smyms1c84p2qf/T/ipykernel_58831/1782204483.py', lineno=3, function='check_caller1', code_context=['    frames = inspect.stack()\\n'], index=0)\n",
      "\n",
      "\n",
      "FrameInfo(frame=<frame at 0x7fd9460087c0, file '/var/folders/g2/96dz2zfs6cn9480v0smyms1c84p2qf/T/ipykernel_58831/436871162.py', line 1, code <cell line: 1>>, filename='/var/folders/g2/96dz2zfs6cn9480v0smyms1c84p2qf/T/ipykernel_58831/436871162.py', lineno=1, function='<cell line: 1>', code_context=['check_caller1()\\n'], index=0)\n",
      "\n",
      "\n",
      "<frame at 0x7fd9460087c0, file '/var/folders/g2/96dz2zfs6cn9480v0smyms1c84p2qf/T/ipykernel_58831/436871162.py', line 1, code <cell line: 1>>\n",
      "\n",
      "\n",
      "/var/folders/g2/96dz2zfs6cn9480v0smyms1c84p2qf/T/ipykernel_58831/436871162.py\n",
      "\n",
      "\n",
      "<code object <cell line: 1> at 0x7fd94470a3f0, file \"/var/folders/g2/96dz2zfs6cn9480v0smyms1c84p2qf/T/ipykernel_58831/436871162.py\", line 1>\n",
      "\n",
      "\n",
      "/var/folders/g2/96dz2zfs6cn9480v0smyms1c84p2qf/T/ipykernel_58831/436871162.py\n"
     ]
    }
   ],
   "source": [
    "check_caller1()"
   ]
  },
  {
   "cell_type": "code",
   "execution_count": 8,
   "id": "71d8f6ab",
   "metadata": {},
   "outputs": [
    {
     "name": "stdout",
     "output_type": "stream",
     "text": [
      "<frame at 0x7fd94602c1e0, file '/var/folders/g2/96dz2zfs6cn9480v0smyms1c84p2qf/T/ipykernel_58831/1782204483.py', line 24, code check_caller2>\n",
      "\n",
      "\n",
      "<frame at 0x7fd946008940, file '/var/folders/g2/96dz2zfs6cn9480v0smyms1c84p2qf/T/ipykernel_58831/3534041241.py', line 1, code <cell line: 1>>\n",
      "\n",
      "\n",
      "<code object <cell line: 1> at 0x7fd946033ec0, file \"/var/folders/g2/96dz2zfs6cn9480v0smyms1c84p2qf/T/ipykernel_58831/3534041241.py\", line 1>\n",
      "\n",
      "\n",
      "/var/folders/g2/96dz2zfs6cn9480v0smyms1c84p2qf/T/ipykernel_58831/3534041241.py\n"
     ]
    }
   ],
   "source": [
    "check_caller2()"
   ]
  },
  {
   "cell_type": "markdown",
   "id": "49dcf4e5",
   "metadata": {},
   "source": [
    "### Add to `$PATH`"
   ]
  },
  {
   "cell_type": "code",
   "execution_count": 9,
   "id": "1b9bde0d",
   "metadata": {},
   "outputs": [
    {
     "name": "stdout",
     "output_type": "stream",
     "text": [
      "1.  /Users/dhu/Github/RAPYUTA/man/../new_path_1\n",
      "2.  /Users/dhu/Github/RAPYUTA/man/../new_path_2\n",
      "[PosixPath('/Users/dhu/Github/RAPYUTA/man/../new_path_1'),\n",
      " '/Users/dhu/Github/RAPYUTA/rapyuta',\n",
      " '/Users/dhu/Github/RAPYUTA/man',\n",
      " '/Users/dhu/miniconda3/envs/rapdev/lib/python310.zip',\n",
      " '/Users/dhu/miniconda3/envs/rapdev/lib/python3.10',\n",
      " '/Users/dhu/miniconda3/envs/rapdev/lib/python3.10/lib-dynload',\n",
      " '',\n",
      " '/Users/dhu/miniconda3/envs/rapdev/lib/python3.10/site-packages',\n",
      " '/Users/dhu/miniconda3/envs/rapdev/lib/python3.10/site-packages/tqdm-4.64.0-py3.10.egg',\n",
      " '/Users/dhu/miniconda3/envs/rapdev/lib/python3.10/site-packages/h5py-3.7.0-py3.10-macosx-10.9-x86_64.egg',\n",
      " '/Users/dhu/miniconda3/envs/rapdev/lib/python3.10/site-packages/specutils-1.8.0-py3.10.egg',\n",
      " '/Users/dhu/miniconda3/envs/rapdev/lib/python3.10/site-packages/photutils-1.5.0-py3.10-macosx-10.9-x86_64.egg',\n",
      " '/Users/dhu/Github/RAPYUTA',\n",
      " '/Users/dhu/Github/RAPYUTA/man/../new_path_2']\n"
     ]
    }
   ],
   "source": [
    "# pprint(sys.path)\n",
    "\n",
    "## 1. sys.path.insert\n",
    "sys.path.insert(0, Path().absolute() / '../new_path_1') # pos: 0\n",
    "print('1. ', sys.path[0])\n",
    "## 2. sys.path.append\n",
    "sys.path.append(os.getcwd()+'/../new_path_2') # pos: end\n",
    "print('2. ', sys.path[-1])\n",
    "\n",
    "pprint(sys.path)"
   ]
  },
  {
   "cell_type": "markdown",
   "id": "39ea4fdf",
   "metadata": {},
   "source": [
    "## File management\n",
    "### File content"
   ]
  },
  {
   "cell_type": "code",
   "execution_count": 10,
   "id": "23905e23",
   "metadata": {},
   "outputs": [
    {
     "name": "stdout",
     "output_type": "stream",
     "text": [
      "inout.ipynb\n",
      "plots.ipynb\n",
      ".DS_Store\n",
      "impro.ipynb\n",
      "_init.ipynb\n",
      "out\n",
      "utbox.ipynb\n",
      "maths.ipynb\n",
      "instr.ipynb\n",
      "lib\n",
      ".ipynb_checkpoints\n",
      "latte.ipynb\n"
     ]
    }
   ],
   "source": [
    "## pathlib.Path().iterdir\n",
    "for sub in Path().iterdir():\n",
    "    print(sub)"
   ]
  },
  {
   "cell_type": "markdown",
   "id": "f7f2b4dd",
   "metadata": {},
   "source": [
    "### Check file existence"
   ]
  },
  {
   "cell_type": "code",
   "execution_count": 11,
   "id": "f390d129",
   "metadata": {},
   "outputs": [
    {
     "name": "stdout",
     "output_type": "stream",
     "text": [
      "1.  True\n",
      "2.  True\n"
     ]
    }
   ],
   "source": [
    "## 1. pathlib.Path().exists\n",
    "pf = Path('utbox.ipynb')#.absolute()\n",
    "px = pf.exists()\n",
    "print('1. ', px)\n",
    "\n",
    "## 2. os.path.exists\n",
    "px = os.path.exists('utbox.ipynb')\n",
    "print('2. ', px)"
   ]
  },
  {
   "cell_type": "markdown",
   "id": "5f449b19",
   "metadata": {},
   "source": [
    "### Make directory"
   ]
  },
  {
   "cell_type": "code",
   "execution_count": 12,
   "id": "e74c32f3",
   "metadata": {},
   "outputs": [
    {
     "name": "stdout",
     "output_type": "stream",
     "text": [
      "# User manual output file\n"
     ]
    }
   ],
   "source": [
    "outdir = Path('out').absolute()\n",
    "filout = Path('out/out.txt').absolute()\n",
    "filout1 = Path('out/out.md').absolute()\n",
    "title = '# User manual output file'\n",
    "\n",
    "## 1. pathlib.Path().mkdir -> dir\n",
    "outdir.mkdir(parents=False, exist_ok=True) # works for parent files\n",
    "## 1.1 pathlib.Path().touch -> file\n",
    "filout.touch(exist_ok=True)\n",
    "## 1.2 pathlib.Path().rename\n",
    "filout.rename(filout1)\n",
    "## 1.3 pathlib.Path().write_text\n",
    "filout1.write_text(title)\n",
    "## 1.4 pathlib.Path().read_text\n",
    "print(filout1.read_text())\n",
    "\n",
    "## 2. os.makedirs\n",
    "os.makedirs(outdir, exist_ok=True)\n",
    "# if not os.path.exists(outdir):\n",
    "#     os.makedirs(outdir)"
   ]
  },
  {
   "cell_type": "markdown",
   "id": "b3b03bfa",
   "metadata": {},
   "source": [
    "## utbox\n",
    "### utbox.maketmp"
   ]
  },
  {
   "cell_type": "code",
   "execution_count": 13,
   "id": "232fee7a",
   "metadata": {},
   "outputs": [
    {
     "name": "stdout",
     "output_type": "stream",
     "text": [
      "/Users/dhu/Github/RAPYUTA/man/tmp\n"
     ]
    }
   ],
   "source": [
    "tmpdir = UT.maketmp()\n",
    "print(tmpdir)"
   ]
  },
  {
   "cell_type": "markdown",
   "id": "0305672e",
   "metadata": {},
   "source": [
    "### utbox.fclean"
   ]
  },
  {
   "cell_type": "code",
   "execution_count": 14,
   "id": "5f78f857",
   "metadata": {},
   "outputs": [
    {
     "name": "stdout",
     "output_type": "stream",
     "text": [
      "Clean tmp files (y/n): y\n",
      "Temporary folder is removed! [Done]\n"
     ]
    }
   ],
   "source": [
    "if input('Clean tmp files (y/n): ')=='y':\n",
    "    info = 'Temporary folder is removed! [Done]'\n",
    "    UT.fclean(tmpdir, info)"
   ]
  }
 ],
 "metadata": {
  "kernelspec": {
   "display_name": "Python 3 (ipykernel)",
   "language": "python",
   "name": "python3"
  },
  "language_info": {
   "codemirror_mode": {
    "name": "ipython",
    "version": 3
   },
   "file_extension": ".py",
   "mimetype": "text/x-python",
   "name": "python",
   "nbconvert_exporter": "python",
   "pygments_lexer": "ipython3",
   "version": "3.10.4"
  }
 },
 "nbformat": 4,
 "nbformat_minor": 5
}
